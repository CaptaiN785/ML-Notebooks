{
 "cells": [
  {
   "cell_type": "code",
   "execution_count": 1,
   "id": "56821b47",
   "metadata": {},
   "outputs": [],
   "source": [
    "# Dataset link : https://www.kaggle.com/datasets/rashikrahmanpritom/heart-attack-analysis-prediction-dataset?resource=download"
   ]
  },
  {
   "cell_type": "code",
   "execution_count": 2,
   "id": "c7696b59",
   "metadata": {},
   "outputs": [],
   "source": [
    "import pandas as pd\n",
    "import numpy as np\n",
    "import matplotlib.pyplot as plt\n",
    "import seaborn as sns\n",
    "%matplotlib inline"
   ]
  },
  {
   "cell_type": "code",
   "execution_count": 178,
   "id": "f6a388b2",
   "metadata": {},
   "outputs": [],
   "source": [
    "heart = pd.read_csv('heart.csv')"
   ]
  },
  {
   "cell_type": "code",
   "execution_count": 179,
   "id": "bf99cac7",
   "metadata": {},
   "outputs": [
    {
     "data": {
      "text/plain": [
       "(303, 14)"
      ]
     },
     "execution_count": 179,
     "metadata": {},
     "output_type": "execute_result"
    }
   ],
   "source": [
    "heart.shape"
   ]
  },
  {
   "cell_type": "code",
   "execution_count": 180,
   "id": "684b7c91",
   "metadata": {},
   "outputs": [
    {
     "data": {
      "text/html": [
       "<div>\n",
       "<style scoped>\n",
       "    .dataframe tbody tr th:only-of-type {\n",
       "        vertical-align: middle;\n",
       "    }\n",
       "\n",
       "    .dataframe tbody tr th {\n",
       "        vertical-align: top;\n",
       "    }\n",
       "\n",
       "    .dataframe thead th {\n",
       "        text-align: right;\n",
       "    }\n",
       "</style>\n",
       "<table border=\"1\" class=\"dataframe\">\n",
       "  <thead>\n",
       "    <tr style=\"text-align: right;\">\n",
       "      <th></th>\n",
       "      <th>age</th>\n",
       "      <th>sex</th>\n",
       "      <th>cp</th>\n",
       "      <th>trtbps</th>\n",
       "      <th>chol</th>\n",
       "      <th>fbs</th>\n",
       "      <th>restecg</th>\n",
       "      <th>thalachh</th>\n",
       "      <th>exng</th>\n",
       "      <th>oldpeak</th>\n",
       "      <th>slp</th>\n",
       "      <th>caa</th>\n",
       "      <th>thall</th>\n",
       "      <th>output</th>\n",
       "    </tr>\n",
       "  </thead>\n",
       "  <tbody>\n",
       "    <tr>\n",
       "      <th>0</th>\n",
       "      <td>63</td>\n",
       "      <td>1</td>\n",
       "      <td>3</td>\n",
       "      <td>145</td>\n",
       "      <td>233</td>\n",
       "      <td>1</td>\n",
       "      <td>0</td>\n",
       "      <td>150</td>\n",
       "      <td>0</td>\n",
       "      <td>2.3</td>\n",
       "      <td>0</td>\n",
       "      <td>0</td>\n",
       "      <td>1</td>\n",
       "      <td>1</td>\n",
       "    </tr>\n",
       "    <tr>\n",
       "      <th>1</th>\n",
       "      <td>37</td>\n",
       "      <td>1</td>\n",
       "      <td>2</td>\n",
       "      <td>130</td>\n",
       "      <td>250</td>\n",
       "      <td>0</td>\n",
       "      <td>1</td>\n",
       "      <td>187</td>\n",
       "      <td>0</td>\n",
       "      <td>3.5</td>\n",
       "      <td>0</td>\n",
       "      <td>0</td>\n",
       "      <td>2</td>\n",
       "      <td>1</td>\n",
       "    </tr>\n",
       "    <tr>\n",
       "      <th>2</th>\n",
       "      <td>41</td>\n",
       "      <td>0</td>\n",
       "      <td>1</td>\n",
       "      <td>130</td>\n",
       "      <td>204</td>\n",
       "      <td>0</td>\n",
       "      <td>0</td>\n",
       "      <td>172</td>\n",
       "      <td>0</td>\n",
       "      <td>1.4</td>\n",
       "      <td>2</td>\n",
       "      <td>0</td>\n",
       "      <td>2</td>\n",
       "      <td>1</td>\n",
       "    </tr>\n",
       "    <tr>\n",
       "      <th>3</th>\n",
       "      <td>56</td>\n",
       "      <td>1</td>\n",
       "      <td>1</td>\n",
       "      <td>120</td>\n",
       "      <td>236</td>\n",
       "      <td>0</td>\n",
       "      <td>1</td>\n",
       "      <td>178</td>\n",
       "      <td>0</td>\n",
       "      <td>0.8</td>\n",
       "      <td>2</td>\n",
       "      <td>0</td>\n",
       "      <td>2</td>\n",
       "      <td>1</td>\n",
       "    </tr>\n",
       "    <tr>\n",
       "      <th>4</th>\n",
       "      <td>57</td>\n",
       "      <td>0</td>\n",
       "      <td>0</td>\n",
       "      <td>120</td>\n",
       "      <td>354</td>\n",
       "      <td>0</td>\n",
       "      <td>1</td>\n",
       "      <td>163</td>\n",
       "      <td>1</td>\n",
       "      <td>0.6</td>\n",
       "      <td>2</td>\n",
       "      <td>0</td>\n",
       "      <td>2</td>\n",
       "      <td>1</td>\n",
       "    </tr>\n",
       "  </tbody>\n",
       "</table>\n",
       "</div>"
      ],
      "text/plain": [
       "   age  sex  cp  trtbps  chol  fbs  restecg  thalachh  exng  oldpeak  slp  \\\n",
       "0   63    1   3     145   233    1        0       150     0      2.3    0   \n",
       "1   37    1   2     130   250    0        1       187     0      3.5    0   \n",
       "2   41    0   1     130   204    0        0       172     0      1.4    2   \n",
       "3   56    1   1     120   236    0        1       178     0      0.8    2   \n",
       "4   57    0   0     120   354    0        1       163     1      0.6    2   \n",
       "\n",
       "   caa  thall  output  \n",
       "0    0      1       1  \n",
       "1    0      2       1  \n",
       "2    0      2       1  \n",
       "3    0      2       1  \n",
       "4    0      2       1  "
      ]
     },
     "execution_count": 180,
     "metadata": {},
     "output_type": "execute_result"
    }
   ],
   "source": [
    "heart.head()"
   ]
  },
  {
   "cell_type": "code",
   "execution_count": 181,
   "id": "4bd5ae52",
   "metadata": {},
   "outputs": [],
   "source": [
    "sat = pd.read_csv('o2Saturation.csv')"
   ]
  },
  {
   "cell_type": "code",
   "execution_count": 182,
   "id": "36139886",
   "metadata": {},
   "outputs": [
    {
     "data": {
      "text/plain": [
       "(3585, 1)"
      ]
     },
     "execution_count": 182,
     "metadata": {},
     "output_type": "execute_result"
    }
   ],
   "source": [
    "sat.shape"
   ]
  },
  {
   "cell_type": "code",
   "execution_count": 183,
   "id": "dd9fefeb",
   "metadata": {},
   "outputs": [
    {
     "data": {
      "text/html": [
       "<div>\n",
       "<style scoped>\n",
       "    .dataframe tbody tr th:only-of-type {\n",
       "        vertical-align: middle;\n",
       "    }\n",
       "\n",
       "    .dataframe tbody tr th {\n",
       "        vertical-align: top;\n",
       "    }\n",
       "\n",
       "    .dataframe thead th {\n",
       "        text-align: right;\n",
       "    }\n",
       "</style>\n",
       "<table border=\"1\" class=\"dataframe\">\n",
       "  <thead>\n",
       "    <tr style=\"text-align: right;\">\n",
       "      <th></th>\n",
       "      <th>98.6</th>\n",
       "    </tr>\n",
       "  </thead>\n",
       "  <tbody>\n",
       "    <tr>\n",
       "      <th>0</th>\n",
       "      <td>98.6</td>\n",
       "    </tr>\n",
       "    <tr>\n",
       "      <th>1</th>\n",
       "      <td>98.6</td>\n",
       "    </tr>\n",
       "    <tr>\n",
       "      <th>2</th>\n",
       "      <td>98.6</td>\n",
       "    </tr>\n",
       "    <tr>\n",
       "      <th>3</th>\n",
       "      <td>98.1</td>\n",
       "    </tr>\n",
       "    <tr>\n",
       "      <th>4</th>\n",
       "      <td>97.5</td>\n",
       "    </tr>\n",
       "  </tbody>\n",
       "</table>\n",
       "</div>"
      ],
      "text/plain": [
       "   98.6\n",
       "0  98.6\n",
       "1  98.6\n",
       "2  98.6\n",
       "3  98.1\n",
       "4  97.5"
      ]
     },
     "execution_count": 183,
     "metadata": {},
     "output_type": "execute_result"
    }
   ],
   "source": [
    "sat.head()"
   ]
  },
  {
   "cell_type": "code",
   "execution_count": 184,
   "id": "7e71539a",
   "metadata": {},
   "outputs": [
    {
     "data": {
      "text/plain": [
       "age         0\n",
       "sex         0\n",
       "cp          0\n",
       "trtbps      0\n",
       "chol        0\n",
       "fbs         0\n",
       "restecg     0\n",
       "thalachh    0\n",
       "exng        0\n",
       "oldpeak     0\n",
       "slp         0\n",
       "caa         0\n",
       "thall       0\n",
       "output      0\n",
       "dtype: int64"
      ]
     },
     "execution_count": 184,
     "metadata": {},
     "output_type": "execute_result"
    }
   ],
   "source": [
    "heart.isnull().sum()"
   ]
  },
  {
   "cell_type": "code",
   "execution_count": 185,
   "id": "231516ad",
   "metadata": {},
   "outputs": [
    {
     "data": {
      "text/html": [
       "<div>\n",
       "<style scoped>\n",
       "    .dataframe tbody tr th:only-of-type {\n",
       "        vertical-align: middle;\n",
       "    }\n",
       "\n",
       "    .dataframe tbody tr th {\n",
       "        vertical-align: top;\n",
       "    }\n",
       "\n",
       "    .dataframe thead th {\n",
       "        text-align: right;\n",
       "    }\n",
       "</style>\n",
       "<table border=\"1\" class=\"dataframe\">\n",
       "  <thead>\n",
       "    <tr style=\"text-align: right;\">\n",
       "      <th></th>\n",
       "      <th>age</th>\n",
       "      <th>sex</th>\n",
       "      <th>cp</th>\n",
       "      <th>trtbps</th>\n",
       "      <th>chol</th>\n",
       "      <th>fbs</th>\n",
       "      <th>restecg</th>\n",
       "      <th>thalachh</th>\n",
       "      <th>exng</th>\n",
       "      <th>oldpeak</th>\n",
       "      <th>slp</th>\n",
       "      <th>caa</th>\n",
       "      <th>thall</th>\n",
       "      <th>output</th>\n",
       "    </tr>\n",
       "  </thead>\n",
       "  <tbody>\n",
       "    <tr>\n",
       "      <th>164</th>\n",
       "      <td>38</td>\n",
       "      <td>1</td>\n",
       "      <td>2</td>\n",
       "      <td>138</td>\n",
       "      <td>175</td>\n",
       "      <td>0</td>\n",
       "      <td>1</td>\n",
       "      <td>173</td>\n",
       "      <td>0</td>\n",
       "      <td>0.0</td>\n",
       "      <td>2</td>\n",
       "      <td>4</td>\n",
       "      <td>2</td>\n",
       "      <td>1</td>\n",
       "    </tr>\n",
       "  </tbody>\n",
       "</table>\n",
       "</div>"
      ],
      "text/plain": [
       "     age  sex  cp  trtbps  chol  fbs  restecg  thalachh  exng  oldpeak  slp  \\\n",
       "164   38    1   2     138   175    0        1       173     0      0.0    2   \n",
       "\n",
       "     caa  thall  output  \n",
       "164    4      2       1  "
      ]
     },
     "execution_count": 185,
     "metadata": {},
     "output_type": "execute_result"
    }
   ],
   "source": [
    "heart[heart.duplicated()]"
   ]
  },
  {
   "cell_type": "code",
   "execution_count": 186,
   "id": "e36f3972",
   "metadata": {},
   "outputs": [],
   "source": [
    "heart.drop_duplicates(keep = 'first', inplace = True)"
   ]
  },
  {
   "cell_type": "code",
   "execution_count": 187,
   "id": "64b4bc38",
   "metadata": {},
   "outputs": [
    {
     "data": {
      "text/plain": [
       "(302, 14)"
      ]
     },
     "execution_count": 187,
     "metadata": {},
     "output_type": "execute_result"
    }
   ],
   "source": [
    "heart.shape"
   ]
  },
  {
   "cell_type": "code",
   "execution_count": 188,
   "id": "f9e7dde0",
   "metadata": {},
   "outputs": [],
   "source": [
    "df = heart"
   ]
  },
  {
   "cell_type": "code",
   "execution_count": 189,
   "id": "f6363363",
   "metadata": {},
   "outputs": [
    {
     "data": {
      "text/plain": [
       "<AxesSubplot:>"
      ]
     },
     "execution_count": 189,
     "metadata": {},
     "output_type": "execute_result"
    },
    {
     "data": {
      "image/png": "[encoded data removed]",
      "text/plain": [
       "<Figure size 720x576 with 2 Axes>"
      ]
     },
     "metadata": {
      "needs_background": "light"
     },
     "output_type": "display_data"
    }
   ],
   "source": [
    "plt.figure(figsize=(10, 8))\n",
    "sns.heatmap(df.corr(), annot = True, fmt = '1.2f')"
   ]
  },
  {
   "cell_type": "markdown",
   "id": "d41efc93",
   "metadata": {},
   "source": [
    "# EDA"
   ]
  },
  {
   "cell_type": "markdown",
   "id": "509d2ad9",
   "metadata": {},
   "source": [
    "### Age"
   ]
  },
  {
   "cell_type": "code",
   "execution_count": 190,
   "id": "edfc1543",
   "metadata": {},
   "outputs": [
    {
     "data": {
      "text/plain": [
       "<AxesSubplot:xlabel='age', ylabel='Count'>"
      ]
     },
     "execution_count": 190,
     "metadata": {},
     "output_type": "execute_result"
    },
    {
     "data": {
      "image/png": "[encoded data removed]",
      "text/plain": [
       "<Figure size 432x288 with 1 Axes>"
      ]
     },
     "metadata": {
      "needs_background": "light"
     },
     "output_type": "display_data"
    }
   ],
   "source": [
    "sns.histplot(df['age'], kde=True, binwidth=5)"
   ]
  },
  {
   "cell_type": "code",
   "execution_count": 191,
   "id": "f4a215bc",
   "metadata": {},
   "outputs": [
    {
     "data": {
      "text/plain": [
       "<AxesSubplot:xlabel='age', ylabel='count'>"
      ]
     },
     "execution_count": 191,
     "metadata": {},
     "output_type": "execute_result"
    },
    {
     "data": {
      "image/png": "[encoded data removed]",
      "text/plain": [
       "<Figure size 864x576 with 1 Axes>"
      ]
     },
     "metadata": {
      "needs_background": "light"
     },
     "output_type": "display_data"
    }
   ],
   "source": [
    "plt.figure(figsize=(12, 8))\n",
    "sns.countplot(x='age', data = df, hue = 'output')"
   ]
  },
  {
   "cell_type": "markdown",
   "id": "bed9f1cd",
   "metadata": {},
   "source": [
    "- People of age 41-55 has more chance of getting heart attack\n",
    "- After that chances of getting heart attack is reduced"
   ]
  },
  {
   "cell_type": "markdown",
   "id": "314518a6",
   "metadata": {},
   "source": [
    "### Gender(sex)"
   ]
  },
  {
   "cell_type": "code",
   "execution_count": 192,
   "id": "59c3bd2e",
   "metadata": {},
   "outputs": [
    {
     "data": {
      "text/plain": [
       "<AxesSubplot:xlabel='output', ylabel='count'>"
      ]
     },
     "execution_count": 192,
     "metadata": {},
     "output_type": "execute_result"
    },
    {
     "data": {
      "image/png": "[encoded data removed]",
      "text/plain": [
       "<Figure size 432x288 with 1 Axes>"
      ]
     },
     "metadata": {
      "needs_background": "light"
     },
     "output_type": "display_data"
    }
   ],
   "source": [
    "sns.countplot(x = 'output', data = df, hue = 'sex')"
   ]
  },
  {
   "cell_type": "markdown",
   "id": "5a1c2d20",
   "metadata": {},
   "source": [
    "* Male are getting much more heart attack than female\n",
    "* There is around 10% diffrence in between the male and female ration"
   ]
  },
  {
   "cell_type": "markdown",
   "id": "67a0814e",
   "metadata": {},
   "source": [
    "### Chest Pain type"
   ]
  },
  {
   "cell_type": "code",
   "execution_count": 193,
   "id": "7b3cefea",
   "metadata": {},
   "outputs": [
    {
     "data": {
      "text/plain": [
       "<AxesSubplot:xlabel='cp', ylabel='output'>"
      ]
     },
     "execution_count": 193,
     "metadata": {},
     "output_type": "execute_result"
    },
    {
     "data": {
      "image/png": "[encoded data removed]",
      "text/plain": [
       "<Figure size 432x288 with 1 Axes>"
      ]
     },
     "metadata": {
      "needs_background": "light"
     },
     "output_type": "display_data"
    }
   ],
   "source": [
    "sns.barplot(x = 'cp', y = 'output', data = df, hue = 'sex')"
   ]
  },
  {
   "cell_type": "markdown",
   "id": "bc807c3c",
   "metadata": {},
   "source": [
    "* If chest pain is of type 0 then they have very little chance of getting heart attak.\n",
    "* But type 1 has much more chance of followed by 2 and 3\n",
    "* Female are mostly getting heart attack if she is having any kind of chest pain"
   ]
  },
  {
   "cell_type": "markdown",
   "id": "788ae412",
   "metadata": {},
   "source": [
    "### Blood Pressure"
   ]
  },
  {
   "cell_type": "code",
   "execution_count": 194,
   "id": "8de48ad3",
   "metadata": {},
   "outputs": [],
   "source": [
    "# trtbps"
   ]
  },
  {
   "cell_type": "code",
   "execution_count": 195,
   "id": "cfa88da6",
   "metadata": {},
   "outputs": [
    {
     "name": "stderr",
     "output_type": "stream",
     "text": [
      "C:\\Users\\USER\\AppData\\Local\\Programs\\Python\\Python310\\lib\\site-packages\\seaborn\\distributions.py:2619: FutureWarning: `distplot` is a deprecated function and will be removed in a future version. Please adapt your code to use either `displot` (a figure-level function with similar flexibility) or `histplot` (an axes-level function for histograms).\n",
      "  warnings.warn(msg, FutureWarning)\n"
     ]
    },
    {
     "data": {
      "image/png": "[encoded data removed]",
      "text/plain": [
       "<Figure size 432x288 with 1 Axes>"
      ]
     },
     "metadata": {
      "needs_background": "light"
     },
     "output_type": "display_data"
    }
   ],
   "source": [
    "sns.distplot(df['trtbps'], kde = True);"
   ]
  },
  {
   "cell_type": "code",
   "execution_count": 196,
   "id": "4a158988",
   "metadata": {},
   "outputs": [
    {
     "data": {
      "text/plain": [
       "<AxesSubplot:xlabel='trtbps', ylabel='Count'>"
      ]
     },
     "execution_count": 196,
     "metadata": {},
     "output_type": "execute_result"
    },
    {
     "data": {
      "image/png": "[encoded data removed]",
      "text/plain": [
       "<Figure size 576x432 with 1 Axes>"
      ]
     },
     "metadata": {
      "needs_background": "light"
     },
     "output_type": "display_data"
    }
   ],
   "source": [
    "plt.figure(figsize=(8, 6))\n",
    "sns.histplot(x = 'trtbps', data = df, hue = 'output')"
   ]
  },
  {
   "cell_type": "markdown",
   "id": "18c05190",
   "metadata": {},
   "source": [
    "* Normal: Below 120\n",
    "* Elevated: 120-129\n",
    "* Stage 1 high blood pressure (also called hypertension): 130-139\n",
    "* Stage 2 hypertension: 140 or more\n",
    "* Hypertensive crisis: 180 or more."
   ]
  },
  {
   "cell_type": "markdown",
   "id": "f1d227c8",
   "metadata": {},
   "source": [
    "* *Mostly people is getting heart attack if they in elevated of stage 1*\n",
    "* Maximum chance is in hypertennsion state"
   ]
  },
  {
   "cell_type": "markdown",
   "id": "f6702025",
   "metadata": {},
   "source": [
    "### cholestoral "
   ]
  },
  {
   "cell_type": "code",
   "execution_count": 197,
   "id": "703998c1",
   "metadata": {},
   "outputs": [],
   "source": [
    "# chol"
   ]
  },
  {
   "cell_type": "code",
   "execution_count": 198,
   "id": "f928330e",
   "metadata": {},
   "outputs": [
    {
     "data": {
      "text/plain": [
       "<seaborn.axisgrid.FacetGrid at 0x27f0a61c9d0>"
      ]
     },
     "execution_count": 198,
     "metadata": {},
     "output_type": "execute_result"
    },
    {
     "data": {
      "image/png": "[encoded data removed]",
      "text/plain": [
       "<Figure size 360x360 with 1 Axes>"
      ]
     },
     "metadata": {
      "needs_background": "light"
     },
     "output_type": "display_data"
    }
   ],
   "source": [
    "sns.displot(df['chol'])"
   ]
  },
  {
   "cell_type": "markdown",
   "id": "7ec4504a",
   "metadata": {},
   "source": [
    "* If cholestoral value is more than 240 then person is in danger"
   ]
  },
  {
   "cell_type": "code",
   "execution_count": 199,
   "id": "861ef668",
   "metadata": {},
   "outputs": [],
   "source": [
    "df = df[df['chol'] < 370]"
   ]
  },
  {
   "cell_type": "markdown",
   "id": "07c984a2",
   "metadata": {},
   "source": [
    "### Maximum heart achieved"
   ]
  },
  {
   "cell_type": "code",
   "execution_count": 200,
   "id": "08e8f95d",
   "metadata": {},
   "outputs": [
    {
     "data": {
      "text/plain": [
       "<AxesSubplot:xlabel='thalachh', ylabel='output'>"
      ]
     },
     "execution_count": 200,
     "metadata": {},
     "output_type": "execute_result"
    },
    {
     "data": {
      "image/png": "[encoded data removed]",
      "text/plain": [
       "<Figure size 432x288 with 1 Axes>"
      ]
     },
     "metadata": {
      "needs_background": "light"
     },
     "output_type": "display_data"
    }
   ],
   "source": [
    "sns.lineplot(x = 'thalachh', y = 'output', data = df)"
   ]
  },
  {
   "cell_type": "code",
   "execution_count": null,
   "id": "63d33ba6",
   "metadata": {},
   "outputs": [],
   "source": []
  },
  {
   "cell_type": "code",
   "execution_count": null,
   "id": "34f532e8",
   "metadata": {},
   "outputs": [],
   "source": []
  },
  {
   "cell_type": "code",
   "execution_count": null,
   "id": "ad9cdced",
   "metadata": {},
   "outputs": [],
   "source": []
  },
  {
   "cell_type": "code",
   "execution_count": null,
   "id": "bb786ece",
   "metadata": {},
   "outputs": [],
   "source": []
  },
  {
   "cell_type": "code",
   "execution_count": 284,
   "id": "f74b30bf",
   "metadata": {},
   "outputs": [
    {
     "data": {
      "text/plain": [
       "age         0.231584\n",
       "sex         0.288353\n",
       "cp          0.428845\n",
       "trtbps      0.143787\n",
       "chol        0.112667\n",
       "fbs         0.035228\n",
       "restecg     0.139110\n",
       "thalachh    0.421106\n",
       "exng        0.432968\n",
       "oldpeak     0.427227\n",
       "slp         0.344538\n",
       "caa         0.401227\n",
       "thall       0.340503\n",
       "Name: output, dtype: float64"
      ]
     },
     "execution_count": 284,
     "metadata": {},
     "output_type": "execute_result"
    }
   ],
   "source": [
    "correlation = df.corr()['output'].drop('output')\n",
    "abs_corr = correlation.abs()\n",
    "abs_corr"
   ]
  },
  {
   "cell_type": "code",
   "execution_count": 311,
   "id": "e64674f2",
   "metadata": {},
   "outputs": [],
   "source": [
    "top_corr = abs_corr[abs_corr > 0.10]"
   ]
  },
  {
   "cell_type": "code",
   "execution_count": 312,
   "id": "3a868993",
   "metadata": {},
   "outputs": [
    {
     "data": {
      "text/plain": [
       "age         0.231584\n",
       "sex         0.288353\n",
       "cp          0.428845\n",
       "trtbps      0.143787\n",
       "chol        0.112667\n",
       "restecg     0.139110\n",
       "thalachh    0.421106\n",
       "exng        0.432968\n",
       "oldpeak     0.427227\n",
       "slp         0.344538\n",
       "caa         0.401227\n",
       "thall       0.340503\n",
       "Name: output, dtype: float64"
      ]
     },
     "execution_count": 312,
     "metadata": {},
     "output_type": "execute_result"
    }
   ],
   "source": [
    "top_corr"
   ]
  },
  {
   "cell_type": "code",
   "execution_count": 313,
   "id": "2b65ab43",
   "metadata": {},
   "outputs": [],
   "source": [
    "new_df = df[top_corr.index]"
   ]
  },
  {
   "cell_type": "code",
   "execution_count": 314,
   "id": "f468b069",
   "metadata": {},
   "outputs": [
    {
     "data": {
      "text/html": [
       "<div>\n",
       "<style scoped>\n",
       "    .dataframe tbody tr th:only-of-type {\n",
       "        vertical-align: middle;\n",
       "    }\n",
       "\n",
       "    .dataframe tbody tr th {\n",
       "        vertical-align: top;\n",
       "    }\n",
       "\n",
       "    .dataframe thead th {\n",
       "        text-align: right;\n",
       "    }\n",
       "</style>\n",
       "<table border=\"1\" class=\"dataframe\">\n",
       "  <thead>\n",
       "    <tr style=\"text-align: right;\">\n",
       "      <th></th>\n",
       "      <th>age</th>\n",
       "      <th>sex</th>\n",
       "      <th>cp</th>\n",
       "      <th>trtbps</th>\n",
       "      <th>chol</th>\n",
       "      <th>restecg</th>\n",
       "      <th>thalachh</th>\n",
       "      <th>exng</th>\n",
       "      <th>oldpeak</th>\n",
       "      <th>slp</th>\n",
       "      <th>caa</th>\n",
       "      <th>thall</th>\n",
       "    </tr>\n",
       "  </thead>\n",
       "  <tbody>\n",
       "    <tr>\n",
       "      <th>0</th>\n",
       "      <td>63</td>\n",
       "      <td>1</td>\n",
       "      <td>3</td>\n",
       "      <td>145</td>\n",
       "      <td>233</td>\n",
       "      <td>0</td>\n",
       "      <td>150</td>\n",
       "      <td>0</td>\n",
       "      <td>2.3</td>\n",
       "      <td>0</td>\n",
       "      <td>0</td>\n",
       "      <td>1</td>\n",
       "    </tr>\n",
       "    <tr>\n",
       "      <th>1</th>\n",
       "      <td>37</td>\n",
       "      <td>1</td>\n",
       "      <td>2</td>\n",
       "      <td>130</td>\n",
       "      <td>250</td>\n",
       "      <td>1</td>\n",
       "      <td>187</td>\n",
       "      <td>0</td>\n",
       "      <td>3.5</td>\n",
       "      <td>0</td>\n",
       "      <td>0</td>\n",
       "      <td>2</td>\n",
       "    </tr>\n",
       "    <tr>\n",
       "      <th>2</th>\n",
       "      <td>41</td>\n",
       "      <td>0</td>\n",
       "      <td>1</td>\n",
       "      <td>130</td>\n",
       "      <td>204</td>\n",
       "      <td>0</td>\n",
       "      <td>172</td>\n",
       "      <td>0</td>\n",
       "      <td>1.4</td>\n",
       "      <td>2</td>\n",
       "      <td>0</td>\n",
       "      <td>2</td>\n",
       "    </tr>\n",
       "    <tr>\n",
       "      <th>3</th>\n",
       "      <td>56</td>\n",
       "      <td>1</td>\n",
       "      <td>1</td>\n",
       "      <td>120</td>\n",
       "      <td>236</td>\n",
       "      <td>1</td>\n",
       "      <td>178</td>\n",
       "      <td>0</td>\n",
       "      <td>0.8</td>\n",
       "      <td>2</td>\n",
       "      <td>0</td>\n",
       "      <td>2</td>\n",
       "    </tr>\n",
       "    <tr>\n",
       "      <th>4</th>\n",
       "      <td>57</td>\n",
       "      <td>0</td>\n",
       "      <td>0</td>\n",
       "      <td>120</td>\n",
       "      <td>354</td>\n",
       "      <td>1</td>\n",
       "      <td>163</td>\n",
       "      <td>1</td>\n",
       "      <td>0.6</td>\n",
       "      <td>2</td>\n",
       "      <td>0</td>\n",
       "      <td>2</td>\n",
       "    </tr>\n",
       "  </tbody>\n",
       "</table>\n",
       "</div>"
      ],
      "text/plain": [
       "   age  sex  cp  trtbps  chol  restecg  thalachh  exng  oldpeak  slp  caa  \\\n",
       "0   63    1   3     145   233        0       150     0      2.3    0    0   \n",
       "1   37    1   2     130   250        1       187     0      3.5    0    0   \n",
       "2   41    0   1     130   204        0       172     0      1.4    2    0   \n",
       "3   56    1   1     120   236        1       178     0      0.8    2    0   \n",
       "4   57    0   0     120   354        1       163     1      0.6    2    0   \n",
       "\n",
       "   thall  \n",
       "0      1  \n",
       "1      2  \n",
       "2      2  \n",
       "3      2  \n",
       "4      2  "
      ]
     },
     "execution_count": 314,
     "metadata": {},
     "output_type": "execute_result"
    }
   ],
   "source": [
    "new_df.head()"
   ]
  },
  {
   "cell_type": "code",
   "execution_count": 315,
   "id": "c7e45186",
   "metadata": {},
   "outputs": [],
   "source": [
    "X = new_df\n",
    "y = df['output']"
   ]
  },
  {
   "cell_type": "code",
   "execution_count": 316,
   "id": "d8b3c4f6",
   "metadata": {},
   "outputs": [],
   "source": [
    "from sklearn.model_selection import train_test_split"
   ]
  },
  {
   "cell_type": "code",
   "execution_count": 341,
   "id": "04eb9f8f",
   "metadata": {},
   "outputs": [],
   "source": [
    "X_train, X_test, y_train, y_test = train_test_split(X, y, test_size = 0.2, random_state=11)"
   ]
  },
  {
   "cell_type": "code",
   "execution_count": 342,
   "id": "051f39e3",
   "metadata": {},
   "outputs": [],
   "source": [
    "from sklearn.linear_model import LogisticRegression\n",
    "from sklearn.tree import DecisionTreeClassifier\n",
    "from sklearn.ensemble import RandomForestClassifier\n",
    "from sklearn.metrics import confusion_matrix, classification_report, accuracy_score\n",
    "from sklearn.svm import SVC\n",
    "from sklearn.preprocessing import StandardScaler\n"
   ]
  },
  {
   "cell_type": "code",
   "execution_count": 343,
   "id": "1c8dec16",
   "metadata": {},
   "outputs": [
    {
     "name": "stdout",
     "output_type": "stream",
     "text": [
      "Accuracy score :  0.8666666666666667\n",
      "[[23  3]\n",
      " [ 5 29]]\n",
      "              precision    recall  f1-score   support\n",
      "\n",
      "           0       0.82      0.88      0.85        26\n",
      "           1       0.91      0.85      0.88        34\n",
      "\n",
      "    accuracy                           0.87        60\n",
      "   macro avg       0.86      0.87      0.87        60\n",
      "weighted avg       0.87      0.87      0.87        60\n",
      "\n"
     ]
    }
   ],
   "source": [
    "lr = LogisticRegression()\n",
    "sc = StandardScaler()\n",
    "X_train_scaled = sc.fit_transform(X_train)\n",
    "X_test_scaled = sc.transform(X_test)\n",
    "lr.fit(X_train_scaled, y_train)\n",
    "pred = lr.predict(X_test_scaled)\n",
    "print(\"Accuracy score : \", accuracy_score(y_test, pred))\n",
    "print(confusion_matrix(pred, y_test))\n",
    "print(classification_report(pred, y_test))"
   ]
  },
  {
   "cell_type": "code",
   "execution_count": 344,
   "id": "94078128",
   "metadata": {},
   "outputs": [
    {
     "name": "stdout",
     "output_type": "stream",
     "text": [
      "Accuracy score :  0.8166666666666667\n",
      "[[26  9]\n",
      " [ 2 23]]\n",
      "              precision    recall  f1-score   support\n",
      "\n",
      "           0       0.93      0.74      0.83        35\n",
      "           1       0.72      0.92      0.81        25\n",
      "\n",
      "    accuracy                           0.82        60\n",
      "   macro avg       0.82      0.83      0.82        60\n",
      "weighted avg       0.84      0.82      0.82        60\n",
      "\n"
     ]
    }
   ],
   "source": [
    "dt = DecisionTreeClassifier(ccp_alpha=0.01, max_features=2)\n",
    "dt.fit(X_train, y_train)\n",
    "pred = dt.predict(X_test)\n",
    "print(\"Accuracy score : \", accuracy_score(y_test, pred))\n",
    "print(confusion_matrix(pred, y_test))\n",
    "print(classification_report(pred, y_test))"
   ]
  },
  {
   "cell_type": "code",
   "execution_count": 345,
   "id": "6d44ea84",
   "metadata": {},
   "outputs": [
    {
     "name": "stdout",
     "output_type": "stream",
     "text": [
      "Accuracy score :  0.8833333333333333\n",
      "[[24  3]\n",
      " [ 4 29]]\n",
      "              precision    recall  f1-score   support\n",
      "\n",
      "           0       0.86      0.89      0.87        27\n",
      "           1       0.91      0.88      0.89        33\n",
      "\n",
      "    accuracy                           0.88        60\n",
      "   macro avg       0.88      0.88      0.88        60\n",
      "weighted avg       0.88      0.88      0.88        60\n",
      "\n"
     ]
    }
   ],
   "source": [
    "rf = RandomForestClassifier(ccp_alpha=0.001)\n",
    "rf.fit(X_train_scaled, y_train)\n",
    "pred = rf.predict(X_test_scaled)\n",
    "print(\"Accuracy score : \", accuracy_score(y_test, pred))\n",
    "print(confusion_matrix(pred, y_test))\n",
    "print(classification_report(pred, y_test))"
   ]
  },
  {
   "cell_type": "code",
   "execution_count": 348,
   "id": "c09786d0",
   "metadata": {
    "scrolled": false
   },
   "outputs": [
    {
     "name": "stdout",
     "output_type": "stream",
     "text": [
      "Accuracy score on train data :  0.8818565400843882\n",
      "Accuracy score on test data :  0.9\n",
      "[[25  3]\n",
      " [ 3 29]]\n",
      "              precision    recall  f1-score   support\n",
      "\n",
      "           0       0.89      0.89      0.89        28\n",
      "           1       0.91      0.91      0.91        32\n",
      "\n",
      "    accuracy                           0.90        60\n",
      "   macro avg       0.90      0.90      0.90        60\n",
      "weighted avg       0.90      0.90      0.90        60\n",
      "\n"
     ]
    }
   ],
   "source": [
    "svc = SVC()\n",
    "sc = StandardScaler()\n",
    "X_train_scaled = sc.fit_transform(X_train)\n",
    "X_test_scaled = sc.transform(X_test)\n",
    "svc.fit(X_train_scaled, y_train)\n",
    "pred = svc.predict(X_test_scaled)\n",
    "print(\"Accuracy score on train data : \", accuracy_score(y_train, svc.predict(X_train_scaled)))\n",
    "print(\"Accuracy score on test data : \", accuracy_score(y_test, pred))\n",
    "print(confusion_matrix(pred, y_test))\n",
    "print(classification_report(pred, y_test))"
   ]
  },
  {
   "cell_type": "code",
   "execution_count": 349,
   "id": "a220da14",
   "metadata": {},
   "outputs": [],
   "source": [
    "## Model is best fitted"
   ]
  },
  {
   "cell_type": "code",
   "execution_count": 350,
   "id": "b7e20c34",
   "metadata": {
    "scrolled": false
   },
   "outputs": [
    {
     "data": {
      "text/plain": [
       "Index(['age', 'sex', 'cp', 'trtbps', 'chol', 'restecg', 'thalachh', 'exng',\n",
       "       'oldpeak', 'slp', 'caa', 'thall'],\n",
       "      dtype='object')"
      ]
     },
     "execution_count": 350,
     "metadata": {},
     "output_type": "execute_result"
    }
   ],
   "source": [
    "## Feature used are :\n",
    "top_corr.index"
   ]
  },
  {
   "cell_type": "code",
   "execution_count": null,
   "id": "d9a0291f",
   "metadata": {},
   "outputs": [],
   "source": []
  },
  {
   "cell_type": "code",
   "execution_count": null,
   "id": "e5c6764f",
   "metadata": {},
   "outputs": [],
   "source": []
  }
 ],
 "metadata": {
  "kernelspec": {
   "display_name": "Python 3 (ipykernel)",
   "language": "python",
   "name": "python3"
  },
  "language_info": {
   "codemirror_mode": {
    "name": "ipython",
    "version": 3
   },
   "file_extension": ".py",
   "mimetype": "text/x-python",
   "name": "python",
   "nbconvert_exporter": "python",
   "pygments_lexer": "ipython3",
   "version": "3.10.3"
  }
 },
 "nbformat": 4,
 "nbformat_minor": 5
}
