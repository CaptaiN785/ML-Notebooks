{
  "nbformat": 4,
  "nbformat_minor": 0,
  "metadata": {
    "colab": {
      "name": "arima_google_stock.ipynb",
      "provenance": [],
      "collapsed_sections": [],
      "authorship_tag": "ABX9TyOvUXMcQAScGH5oPnpM+Sws",
      "include_colab_link": true
    },
    "kernelspec": {
      "name": "python3",
      "display_name": "Python 3"
    },
    "language_info": {
      "name": "python"
    },
    "accelerator": "GPU",
    "gpuClass": "standard"
  },
  "cells": [
    {
      "cell_type": "markdown",
      "metadata": {
        "id": "view-in-github",
        "colab_type": "text"
      },
      "source": [
        "<a href=\"https://colab.research.google.com/github/CaptaiN785/ML-Notebooks/blob/main/--Time-Series--/arima_google_stock.ipynb\" target=\"_parent\"><img src=\"https://colab.research.google.com/assets/colab-badge.svg\" alt=\"Open In Colab\"/></a>"
      ]
    },
    {
      "cell_type": "code",
      "execution_count": 5,
      "metadata": {
        "id": "ecdEqNjqtPKR"
      },
      "outputs": [],
      "source": [
        "import pandas_datareader as pdr\n",
        "import warnings\n",
        "warnings.filterwarnings(\"ignore\")"
      ]
    },
    {
      "cell_type": "code",
      "source": [
        "import pandas as pd\n",
        "import numpy as np\n",
        "import matplotlib.pyplot as plt"
      ],
      "metadata": {
        "id": "YnVpJPM6wsgl"
      },
      "execution_count": 31,
      "outputs": []
    },
    {
      "cell_type": "code",
      "source": [
        "df = pdr.get_data_tiingo(\"GOOGL\", api_key = 'api_key_from_tiingo_website')"
      ],
      "metadata": {
        "id": "xC7O-TY2trnq"
      },
      "execution_count": 53,
      "outputs": []
    },
    {
      "cell_type": "code",
      "source": [
        "df.head()"
      ],
      "metadata": {
        "colab": {
          "base_uri": "https://localhost:8080/",
          "height": 238
        },
        "id": "PjmWyi9dtxgT",
        "outputId": "290e393f-2bb7-4a0f-9c18-824a5f913af2"
      },
      "execution_count": 54,
      "outputs": [
        {
          "output_type": "execute_result",
          "data": {
            "text/plain": [
              "                                   close     high       low    open   volume  \\\n",
              "symbol date                                                                    \n",
              "GOOGL  2017-07-24 00:00:00+00:00  998.31  1006.19  990.2728  994.10  3053176   \n",
              "       2017-07-25 00:00:00+00:00  969.03   976.73  963.8000  970.70  5793414   \n",
              "       2017-07-26 00:00:00+00:00  965.31   973.95  960.2300  972.78  2166225   \n",
              "       2017-07-27 00:00:00+00:00  952.51   969.52  937.0600  969.18  3685905   \n",
              "       2017-07-28 00:00:00+00:00  958.33   961.79  945.3100  947.99  1795477   \n",
              "\n",
              "                                  adjClose  adjHigh    adjLow  adjOpen  \\\n",
              "symbol date                                                              \n",
              "GOOGL  2017-07-24 00:00:00+00:00   49.9155  50.3095  49.51364  49.7050   \n",
              "       2017-07-25 00:00:00+00:00   48.4515  48.8365  48.19000  48.5350   \n",
              "       2017-07-26 00:00:00+00:00   48.2655  48.6975  48.01150  48.6390   \n",
              "       2017-07-27 00:00:00+00:00   47.6255  48.4760  46.85300  48.4590   \n",
              "       2017-07-28 00:00:00+00:00   47.9165  48.0895  47.26550  47.3995   \n",
              "\n",
              "                                  adjVolume  divCash  splitFactor  \n",
              "symbol date                                                        \n",
              "GOOGL  2017-07-24 00:00:00+00:00   61063520      0.0          1.0  \n",
              "       2017-07-25 00:00:00+00:00  115868280      0.0          1.0  \n",
              "       2017-07-26 00:00:00+00:00   43324500      0.0          1.0  \n",
              "       2017-07-27 00:00:00+00:00   73718100      0.0          1.0  \n",
              "       2017-07-28 00:00:00+00:00   35909540      0.0          1.0  "
            ],
            "text/html": [
              "\n",
              "  <div id=\"df-2f08e176-8368-45d3-a3e1-73f55b09fd37\">\n",
              "    <div class=\"colab-df-container\">\n",
              "      <div>\n",
              "<style scoped>\n",
              "    .dataframe tbody tr th:only-of-type {\n",
              "        vertical-align: middle;\n",
              "    }\n",
              "\n",
              "    .dataframe tbody tr th {\n",
              "        vertical-align: top;\n",
              "    }\n",
              "\n",
              "    .dataframe thead th {\n",
              "        text-align: right;\n",
              "    }\n",
              "</style>\n",
              "<table border=\"1\" class=\"dataframe\">\n",
              "  <thead>\n",
              "    <tr style=\"text-align: right;\">\n",
              "      <th></th>\n",
              "      <th></th>\n",
              "      <th>close</th>\n",
              "      <th>high</th>\n",
              "      <th>low</th>\n",
              "      <th>open</th>\n",
              "      <th>volume</th>\n",
              "      <th>adjClose</th>\n",
              "      <th>adjHigh</th>\n",
              "      <th>adjLow</th>\n",
              "      <th>adjOpen</th>\n",
              "      <th>adjVolume</th>\n",
              "      <th>divCash</th>\n",
              "      <th>splitFactor</th>\n",
              "    </tr>\n",
              "    <tr>\n",
              "      <th>symbol</th>\n",
              "      <th>date</th>\n",
              "      <th></th>\n",
              "      <th></th>\n",
              "      <th></th>\n",
              "      <th></th>\n",
              "      <th></th>\n",
              "      <th></th>\n",
              "      <th></th>\n",
              "      <th></th>\n",
              "      <th></th>\n",
              "      <th></th>\n",
              "      <th></th>\n",
              "      <th></th>\n",
              "    </tr>\n",
              "  </thead>\n",
              "  <tbody>\n",
              "    <tr>\n",
              "      <th rowspan=\"5\" valign=\"top\">GOOGL</th>\n",
              "      <th>2017-07-24 00:00:00+00:00</th>\n",
              "      <td>998.31</td>\n",
              "      <td>1006.19</td>\n",
              "      <td>990.2728</td>\n",
              "      <td>994.10</td>\n",
              "      <td>3053176</td>\n",
              "      <td>49.9155</td>\n",
              "      <td>50.3095</td>\n",
              "      <td>49.51364</td>\n",
              "      <td>49.7050</td>\n",
              "      <td>61063520</td>\n",
              "      <td>0.0</td>\n",
              "      <td>1.0</td>\n",
              "    </tr>\n",
              "    <tr>\n",
              "      <th>2017-07-25 00:00:00+00:00</th>\n",
              "      <td>969.03</td>\n",
              "      <td>976.73</td>\n",
              "      <td>963.8000</td>\n",
              "      <td>970.70</td>\n",
              "      <td>5793414</td>\n",
              "      <td>48.4515</td>\n",
              "      <td>48.8365</td>\n",
              "      <td>48.19000</td>\n",
              "      <td>48.5350</td>\n",
              "      <td>115868280</td>\n",
              "      <td>0.0</td>\n",
              "      <td>1.0</td>\n",
              "    </tr>\n",
              "    <tr>\n",
              "      <th>2017-07-26 00:00:00+00:00</th>\n",
              "      <td>965.31</td>\n",
              "      <td>973.95</td>\n",
              "      <td>960.2300</td>\n",
              "      <td>972.78</td>\n",
              "      <td>2166225</td>\n",
              "      <td>48.2655</td>\n",
              "      <td>48.6975</td>\n",
              "      <td>48.01150</td>\n",
              "      <td>48.6390</td>\n",
              "      <td>43324500</td>\n",
              "      <td>0.0</td>\n",
              "      <td>1.0</td>\n",
              "    </tr>\n",
              "    <tr>\n",
              "      <th>2017-07-27 00:00:00+00:00</th>\n",
              "      <td>952.51</td>\n",
              "      <td>969.52</td>\n",
              "      <td>937.0600</td>\n",
              "      <td>969.18</td>\n",
              "      <td>3685905</td>\n",
              "      <td>47.6255</td>\n",
              "      <td>48.4760</td>\n",
              "      <td>46.85300</td>\n",
              "      <td>48.4590</td>\n",
              "      <td>73718100</td>\n",
              "      <td>0.0</td>\n",
              "      <td>1.0</td>\n",
              "    </tr>\n",
              "    <tr>\n",
              "      <th>2017-07-28 00:00:00+00:00</th>\n",
              "      <td>958.33</td>\n",
              "      <td>961.79</td>\n",
              "      <td>945.3100</td>\n",
              "      <td>947.99</td>\n",
              "      <td>1795477</td>\n",
              "      <td>47.9165</td>\n",
              "      <td>48.0895</td>\n",
              "      <td>47.26550</td>\n",
              "      <td>47.3995</td>\n",
              "      <td>35909540</td>\n",
              "      <td>0.0</td>\n",
              "      <td>1.0</td>\n",
              "    </tr>\n",
              "  </tbody>\n",
              "</table>\n",
              "</div>\n",
              "      <button class=\"colab-df-convert\" onclick=\"convertToInteractive('df-2f08e176-8368-45d3-a3e1-73f55b09fd37')\"\n",
              "              title=\"Convert this dataframe to an interactive table.\"\n",
              "              style=\"display:none;\">\n",
              "        \n",
              "  <svg xmlns=\"http://www.w3.org/2000/svg\" height=\"24px\"viewBox=\"0 0 24 24\"\n",
              "       width=\"24px\">\n",
              "    <path d=\"M0 0h24v24H0V0z\" fill=\"none\"/>\n",
              "    <path d=\"M18.56 5.44l.94 2.06.94-2.06 2.06-.94-2.06-.94-.94-2.06-.94 2.06-2.06.94zm-11 1L8.5 8.5l.94-2.06 2.06-.94-2.06-.94L8.5 2.5l-.94 2.06-2.06.94zm10 10l.94 2.06.94-2.06 2.06-.94-2.06-.94-.94-2.06-.94 2.06-2.06.94z\"/><path d=\"M17.41 7.96l-1.37-1.37c-.4-.4-.92-.59-1.43-.59-.52 0-1.04.2-1.43.59L10.3 9.45l-7.72 7.72c-.78.78-.78 2.05 0 2.83L4 21.41c.39.39.9.59 1.41.59.51 0 1.02-.2 1.41-.59l7.78-7.78 2.81-2.81c.8-.78.8-2.07 0-2.86zM5.41 20L4 18.59l7.72-7.72 1.47 1.35L5.41 20z\"/>\n",
              "  </svg>\n",
              "      </button>\n",
              "      \n",
              "  <style>\n",
              "    .colab-df-container {\n",
              "      display:flex;\n",
              "      flex-wrap:wrap;\n",
              "      gap: 12px;\n",
              "    }\n",
              "\n",
              "    .colab-df-convert {\n",
              "      background-color: #E8F0FE;\n",
              "      border: none;\n",
              "      border-radius: 50%;\n",
              "      cursor: pointer;\n",
              "      display: none;\n",
              "      fill: #1967D2;\n",
              "      height: 32px;\n",
              "      padding: 0 0 0 0;\n",
              "      width: 32px;\n",
              "    }\n",
              "\n",
              "    .colab-df-convert:hover {\n",
              "      background-color: #E2EBFA;\n",
              "      box-shadow: 0px 1px 2px rgba(60, 64, 67, 0.3), 0px 1px 3px 1px rgba(60, 64, 67, 0.15);\n",
              "      fill: #174EA6;\n",
              "    }\n",
              "\n",
              "    [theme=dark] .colab-df-convert {\n",
              "      background-color: #3B4455;\n",
              "      fill: #D2E3FC;\n",
              "    }\n",
              "\n",
              "    [theme=dark] .colab-df-convert:hover {\n",
              "      background-color: #434B5C;\n",
              "      box-shadow: 0px 1px 3px 1px rgba(0, 0, 0, 0.15);\n",
              "      filter: drop-shadow(0px 1px 2px rgba(0, 0, 0, 0.3));\n",
              "      fill: #FFFFFF;\n",
              "    }\n",
              "  </style>\n",
              "\n",
              "      <script>\n",
              "        const buttonEl =\n",
              "          document.querySelector('#df-2f08e176-8368-45d3-a3e1-73f55b09fd37 button.colab-df-convert');\n",
              "        buttonEl.style.display =\n",
              "          google.colab.kernel.accessAllowed ? 'block' : 'none';\n",
              "\n",
              "        async function convertToInteractive(key) {\n",
              "          const element = document.querySelector('#df-2f08e176-8368-45d3-a3e1-73f55b09fd37');\n",
              "          const dataTable =\n",
              "            await google.colab.kernel.invokeFunction('convertToInteractive',\n",
              "                                                     [key], {});\n",
              "          if (!dataTable) return;\n",
              "\n",
              "          const docLinkHtml = 'Like what you see? Visit the ' +\n",
              "            '<a target=\"_blank\" href=https://colab.research.google.com/notebooks/data_table.ipynb>data table notebook</a>'\n",
              "            + ' to learn more about interactive tables.';\n",
              "          element.innerHTML = '';\n",
              "          dataTable['output_type'] = 'display_data';\n",
              "          await google.colab.output.renderOutput(dataTable, element);\n",
              "          const docLink = document.createElement('div');\n",
              "          docLink.innerHTML = docLinkHtml;\n",
              "          element.appendChild(docLink);\n",
              "        }\n",
              "      </script>\n",
              "    </div>\n",
              "  </div>\n",
              "  "
            ]
          },
          "metadata": {},
          "execution_count": 54
        }
      ]
    },
    {
      "cell_type": "code",
      "source": [
        "## Changing the date format for index"
      ],
      "metadata": {
        "id": "J5jVs4lbuhL0"
      },
      "execution_count": 55,
      "outputs": []
    },
    {
      "cell_type": "code",
      "source": [
        "df = df.reset_index()"
      ],
      "metadata": {
        "id": "PDaw_5Jquosc"
      },
      "execution_count": 56,
      "outputs": []
    },
    {
      "cell_type": "code",
      "source": [
        "df.head(2)"
      ],
      "metadata": {
        "colab": {
          "base_uri": "https://localhost:8080/",
          "height": 112
        },
        "id": "sRvgBZWKwGhf",
        "outputId": "14802a47-c93b-4834-b523-ae615c2c8c6a"
      },
      "execution_count": 57,
      "outputs": [
        {
          "output_type": "execute_result",
          "data": {
            "text/plain": [
              "  symbol                      date   close     high       low   open   volume  \\\n",
              "0  GOOGL 2017-07-24 00:00:00+00:00  998.31  1006.19  990.2728  994.1  3053176   \n",
              "1  GOOGL 2017-07-25 00:00:00+00:00  969.03   976.73  963.8000  970.7  5793414   \n",
              "\n",
              "   adjClose  adjHigh    adjLow  adjOpen  adjVolume  divCash  splitFactor  \n",
              "0   49.9155  50.3095  49.51364   49.705   61063520      0.0          1.0  \n",
              "1   48.4515  48.8365  48.19000   48.535  115868280      0.0          1.0  "
            ],
            "text/html": [
              "\n",
              "  <div id=\"df-f611af59-ed2a-4aa8-8afa-690b2b387c77\">\n",
              "    <div class=\"colab-df-container\">\n",
              "      <div>\n",
              "<style scoped>\n",
              "    .dataframe tbody tr th:only-of-type {\n",
              "        vertical-align: middle;\n",
              "    }\n",
              "\n",
              "    .dataframe tbody tr th {\n",
              "        vertical-align: top;\n",
              "    }\n",
              "\n",
              "    .dataframe thead th {\n",
              "        text-align: right;\n",
              "    }\n",
              "</style>\n",
              "<table border=\"1\" class=\"dataframe\">\n",
              "  <thead>\n",
              "    <tr style=\"text-align: right;\">\n",
              "      <th></th>\n",
              "      <th>symbol</th>\n",
              "      <th>date</th>\n",
              "      <th>close</th>\n",
              "      <th>high</th>\n",
              "      <th>low</th>\n",
              "      <th>open</th>\n",
              "      <th>volume</th>\n",
              "      <th>adjClose</th>\n",
              "      <th>adjHigh</th>\n",
              "      <th>adjLow</th>\n",
              "      <th>adjOpen</th>\n",
              "      <th>adjVolume</th>\n",
              "      <th>divCash</th>\n",
              "      <th>splitFactor</th>\n",
              "    </tr>\n",
              "  </thead>\n",
              "  <tbody>\n",
              "    <tr>\n",
              "      <th>0</th>\n",
              "      <td>GOOGL</td>\n",
              "      <td>2017-07-24 00:00:00+00:00</td>\n",
              "      <td>998.31</td>\n",
              "      <td>1006.19</td>\n",
              "      <td>990.2728</td>\n",
              "      <td>994.1</td>\n",
              "      <td>3053176</td>\n",
              "      <td>49.9155</td>\n",
              "      <td>50.3095</td>\n",
              "      <td>49.51364</td>\n",
              "      <td>49.705</td>\n",
              "      <td>61063520</td>\n",
              "      <td>0.0</td>\n",
              "      <td>1.0</td>\n",
              "    </tr>\n",
              "    <tr>\n",
              "      <th>1</th>\n",
              "      <td>GOOGL</td>\n",
              "      <td>2017-07-25 00:00:00+00:00</td>\n",
              "      <td>969.03</td>\n",
              "      <td>976.73</td>\n",
              "      <td>963.8000</td>\n",
              "      <td>970.7</td>\n",
              "      <td>5793414</td>\n",
              "      <td>48.4515</td>\n",
              "      <td>48.8365</td>\n",
              "      <td>48.19000</td>\n",
              "      <td>48.535</td>\n",
              "      <td>115868280</td>\n",
              "      <td>0.0</td>\n",
              "      <td>1.0</td>\n",
              "    </tr>\n",
              "  </tbody>\n",
              "</table>\n",
              "</div>\n",
              "      <button class=\"colab-df-convert\" onclick=\"convertToInteractive('df-f611af59-ed2a-4aa8-8afa-690b2b387c77')\"\n",
              "              title=\"Convert this dataframe to an interactive table.\"\n",
              "              style=\"display:none;\">\n",
              "        \n",
              "  <svg xmlns=\"http://www.w3.org/2000/svg\" height=\"24px\"viewBox=\"0 0 24 24\"\n",
              "       width=\"24px\">\n",
              "    <path d=\"M0 0h24v24H0V0z\" fill=\"none\"/>\n",
              "    <path d=\"M18.56 5.44l.94 2.06.94-2.06 2.06-.94-2.06-.94-.94-2.06-.94 2.06-2.06.94zm-11 1L8.5 8.5l.94-2.06 2.06-.94-2.06-.94L8.5 2.5l-.94 2.06-2.06.94zm10 10l.94 2.06.94-2.06 2.06-.94-2.06-.94-.94-2.06-.94 2.06-2.06.94z\"/><path d=\"M17.41 7.96l-1.37-1.37c-.4-.4-.92-.59-1.43-.59-.52 0-1.04.2-1.43.59L10.3 9.45l-7.72 7.72c-.78.78-.78 2.05 0 2.83L4 21.41c.39.39.9.59 1.41.59.51 0 1.02-.2 1.41-.59l7.78-7.78 2.81-2.81c.8-.78.8-2.07 0-2.86zM5.41 20L4 18.59l7.72-7.72 1.47 1.35L5.41 20z\"/>\n",
              "  </svg>\n",
              "      </button>\n",
              "      \n",
              "  <style>\n",
              "    .colab-df-container {\n",
              "      display:flex;\n",
              "      flex-wrap:wrap;\n",
              "      gap: 12px;\n",
              "    }\n",
              "\n",
              "    .colab-df-convert {\n",
              "      background-color: #E8F0FE;\n",
              "      border: none;\n",
              "      border-radius: 50%;\n",
              "      cursor: pointer;\n",
              "      display: none;\n",
              "      fill: #1967D2;\n",
              "      height: 32px;\n",
              "      padding: 0 0 0 0;\n",
              "      width: 32px;\n",
              "    }\n",
              "\n",
              "    .colab-df-convert:hover {\n",
              "      background-color: #E2EBFA;\n",
              "      box-shadow: 0px 1px 2px rgba(60, 64, 67, 0.3), 0px 1px 3px 1px rgba(60, 64, 67, 0.15);\n",
              "      fill: #174EA6;\n",
              "    }\n",
              "\n",
              "    [theme=dark] .colab-df-convert {\n",
              "      background-color: #3B4455;\n",
              "      fill: #D2E3FC;\n",
              "    }\n",
              "\n",
              "    [theme=dark] .colab-df-convert:hover {\n",
              "      background-color: #434B5C;\n",
              "      box-shadow: 0px 1px 3px 1px rgba(0, 0, 0, 0.15);\n",
              "      filter: drop-shadow(0px 1px 2px rgba(0, 0, 0, 0.3));\n",
              "      fill: #FFFFFF;\n",
              "    }\n",
              "  </style>\n",
              "\n",
              "      <script>\n",
              "        const buttonEl =\n",
              "          document.querySelector('#df-f611af59-ed2a-4aa8-8afa-690b2b387c77 button.colab-df-convert');\n",
              "        buttonEl.style.display =\n",
              "          google.colab.kernel.accessAllowed ? 'block' : 'none';\n",
              "\n",
              "        async function convertToInteractive(key) {\n",
              "          const element = document.querySelector('#df-f611af59-ed2a-4aa8-8afa-690b2b387c77');\n",
              "          const dataTable =\n",
              "            await google.colab.kernel.invokeFunction('convertToInteractive',\n",
              "                                                     [key], {});\n",
              "          if (!dataTable) return;\n",
              "\n",
              "          const docLinkHtml = 'Like what you see? Visit the ' +\n",
              "            '<a target=\"_blank\" href=https://colab.research.google.com/notebooks/data_table.ipynb>data table notebook</a>'\n",
              "            + ' to learn more about interactive tables.';\n",
              "          element.innerHTML = '';\n",
              "          dataTable['output_type'] = 'display_data';\n",
              "          await google.colab.output.renderOutput(dataTable, element);\n",
              "          const docLink = document.createElement('div');\n",
              "          docLink.innerHTML = docLinkHtml;\n",
              "          element.appendChild(docLink);\n",
              "        }\n",
              "      </script>\n",
              "    </div>\n",
              "  </div>\n",
              "  "
            ]
          },
          "metadata": {},
          "execution_count": 57
        }
      ]
    },
    {
      "cell_type": "code",
      "source": [
        "## Converting the datetime to date only\n",
        "df['date'] = df['date'].apply(lambda x : x.date())"
      ],
      "metadata": {
        "id": "RYrMwUcUuq_Q"
      },
      "execution_count": 58,
      "outputs": []
    },
    {
      "cell_type": "code",
      "source": [
        "df = df.set_index('date')\n",
        "df.head()"
      ],
      "metadata": {
        "colab": {
          "base_uri": "https://localhost:8080/",
          "height": 238
        },
        "id": "gnpC5L5yxRzm",
        "outputId": "ccd8daa3-1148-4eb9-b49a-c4245447897b"
      },
      "execution_count": 59,
      "outputs": [
        {
          "output_type": "execute_result",
          "data": {
            "text/plain": [
              "           symbol   close     high       low    open   volume  adjClose  \\\n",
              "date                                                                      \n",
              "2017-07-24  GOOGL  998.31  1006.19  990.2728  994.10  3053176   49.9155   \n",
              "2017-07-25  GOOGL  969.03   976.73  963.8000  970.70  5793414   48.4515   \n",
              "2017-07-26  GOOGL  965.31   973.95  960.2300  972.78  2166225   48.2655   \n",
              "2017-07-27  GOOGL  952.51   969.52  937.0600  969.18  3685905   47.6255   \n",
              "2017-07-28  GOOGL  958.33   961.79  945.3100  947.99  1795477   47.9165   \n",
              "\n",
              "            adjHigh    adjLow  adjOpen  adjVolume  divCash  splitFactor  \n",
              "date                                                                     \n",
              "2017-07-24  50.3095  49.51364  49.7050   61063520      0.0          1.0  \n",
              "2017-07-25  48.8365  48.19000  48.5350  115868280      0.0          1.0  \n",
              "2017-07-26  48.6975  48.01150  48.6390   43324500      0.0          1.0  \n",
              "2017-07-27  48.4760  46.85300  48.4590   73718100      0.0          1.0  \n",
              "2017-07-28  48.0895  47.26550  47.3995   35909540      0.0          1.0  "
            ],
            "text/html": [
              "\n",
              "  <div id=\"df-f50f6def-b44b-4c65-9d4c-e408341c3d21\">\n",
              "    <div class=\"colab-df-container\">\n",
              "      <div>\n",
              "<style scoped>\n",
              "    .dataframe tbody tr th:only-of-type {\n",
              "        vertical-align: middle;\n",
              "    }\n",
              "\n",
              "    .dataframe tbody tr th {\n",
              "        vertical-align: top;\n",
              "    }\n",
              "\n",
              "    .dataframe thead th {\n",
              "        text-align: right;\n",
              "    }\n",
              "</style>\n",
              "<table border=\"1\" class=\"dataframe\">\n",
              "  <thead>\n",
              "    <tr style=\"text-align: right;\">\n",
              "      <th></th>\n",
              "      <th>symbol</th>\n",
              "      <th>close</th>\n",
              "      <th>high</th>\n",
              "      <th>low</th>\n",
              "      <th>open</th>\n",
              "      <th>volume</th>\n",
              "      <th>adjClose</th>\n",
              "      <th>adjHigh</th>\n",
              "      <th>adjLow</th>\n",
              "      <th>adjOpen</th>\n",
              "      <th>adjVolume</th>\n",
              "      <th>divCash</th>\n",
              "      <th>splitFactor</th>\n",
              "    </tr>\n",
              "    <tr>\n",
              "      <th>date</th>\n",
              "      <th></th>\n",
              "      <th></th>\n",
              "      <th></th>\n",
              "      <th></th>\n",
              "      <th></th>\n",
              "      <th></th>\n",
              "      <th></th>\n",
              "      <th></th>\n",
              "      <th></th>\n",
              "      <th></th>\n",
              "      <th></th>\n",
              "      <th></th>\n",
              "      <th></th>\n",
              "    </tr>\n",
              "  </thead>\n",
              "  <tbody>\n",
              "    <tr>\n",
              "      <th>2017-07-24</th>\n",
              "      <td>GOOGL</td>\n",
              "      <td>998.31</td>\n",
              "      <td>1006.19</td>\n",
              "      <td>990.2728</td>\n",
              "      <td>994.10</td>\n",
              "      <td>3053176</td>\n",
              "      <td>49.9155</td>\n",
              "      <td>50.3095</td>\n",
              "      <td>49.51364</td>\n",
              "      <td>49.7050</td>\n",
              "      <td>61063520</td>\n",
              "      <td>0.0</td>\n",
              "      <td>1.0</td>\n",
              "    </tr>\n",
              "    <tr>\n",
              "      <th>2017-07-25</th>\n",
              "      <td>GOOGL</td>\n",
              "      <td>969.03</td>\n",
              "      <td>976.73</td>\n",
              "      <td>963.8000</td>\n",
              "      <td>970.70</td>\n",
              "      <td>5793414</td>\n",
              "      <td>48.4515</td>\n",
              "      <td>48.8365</td>\n",
              "      <td>48.19000</td>\n",
              "      <td>48.5350</td>\n",
              "      <td>115868280</td>\n",
              "      <td>0.0</td>\n",
              "      <td>1.0</td>\n",
              "    </tr>\n",
              "    <tr>\n",
              "      <th>2017-07-26</th>\n",
              "      <td>GOOGL</td>\n",
              "      <td>965.31</td>\n",
              "      <td>973.95</td>\n",
              "      <td>960.2300</td>\n",
              "      <td>972.78</td>\n",
              "      <td>2166225</td>\n",
              "      <td>48.2655</td>\n",
              "      <td>48.6975</td>\n",
              "      <td>48.01150</td>\n",
              "      <td>48.6390</td>\n",
              "      <td>43324500</td>\n",
              "      <td>0.0</td>\n",
              "      <td>1.0</td>\n",
              "    </tr>\n",
              "    <tr>\n",
              "      <th>2017-07-27</th>\n",
              "      <td>GOOGL</td>\n",
              "      <td>952.51</td>\n",
              "      <td>969.52</td>\n",
              "      <td>937.0600</td>\n",
              "      <td>969.18</td>\n",
              "      <td>3685905</td>\n",
              "      <td>47.6255</td>\n",
              "      <td>48.4760</td>\n",
              "      <td>46.85300</td>\n",
              "      <td>48.4590</td>\n",
              "      <td>73718100</td>\n",
              "      <td>0.0</td>\n",
              "      <td>1.0</td>\n",
              "    </tr>\n",
              "    <tr>\n",
              "      <th>2017-07-28</th>\n",
              "      <td>GOOGL</td>\n",
              "      <td>958.33</td>\n",
              "      <td>961.79</td>\n",
              "      <td>945.3100</td>\n",
              "      <td>947.99</td>\n",
              "      <td>1795477</td>\n",
              "      <td>47.9165</td>\n",
              "      <td>48.0895</td>\n",
              "      <td>47.26550</td>\n",
              "      <td>47.3995</td>\n",
              "      <td>35909540</td>\n",
              "      <td>0.0</td>\n",
              "      <td>1.0</td>\n",
              "    </tr>\n",
              "  </tbody>\n",
              "</table>\n",
              "</div>\n",
              "      <button class=\"colab-df-convert\" onclick=\"convertToInteractive('df-f50f6def-b44b-4c65-9d4c-e408341c3d21')\"\n",
              "              title=\"Convert this dataframe to an interactive table.\"\n",
              "              style=\"display:none;\">\n",
              "        \n",
              "  <svg xmlns=\"http://www.w3.org/2000/svg\" height=\"24px\"viewBox=\"0 0 24 24\"\n",
              "       width=\"24px\">\n",
              "    <path d=\"M0 0h24v24H0V0z\" fill=\"none\"/>\n",
              "    <path d=\"M18.56 5.44l.94 2.06.94-2.06 2.06-.94-2.06-.94-.94-2.06-.94 2.06-2.06.94zm-11 1L8.5 8.5l.94-2.06 2.06-.94-2.06-.94L8.5 2.5l-.94 2.06-2.06.94zm10 10l.94 2.06.94-2.06 2.06-.94-2.06-.94-.94-2.06-.94 2.06-2.06.94z\"/><path d=\"M17.41 7.96l-1.37-1.37c-.4-.4-.92-.59-1.43-.59-.52 0-1.04.2-1.43.59L10.3 9.45l-7.72 7.72c-.78.78-.78 2.05 0 2.83L4 21.41c.39.39.9.59 1.41.59.51 0 1.02-.2 1.41-.59l7.78-7.78 2.81-2.81c.8-.78.8-2.07 0-2.86zM5.41 20L4 18.59l7.72-7.72 1.47 1.35L5.41 20z\"/>\n",
              "  </svg>\n",
              "      </button>\n",
              "      \n",
              "  <style>\n",
              "    .colab-df-container {\n",
              "      display:flex;\n",
              "      flex-wrap:wrap;\n",
              "      gap: 12px;\n",
              "    }\n",
              "\n",
              "    .colab-df-convert {\n",
              "      background-color: #E8F0FE;\n",
              "      border: none;\n",
              "      border-radius: 50%;\n",
              "      cursor: pointer;\n",
              "      display: none;\n",
              "      fill: #1967D2;\n",
              "      height: 32px;\n",
              "      padding: 0 0 0 0;\n",
              "      width: 32px;\n",
              "    }\n",
              "\n",
              "    .colab-df-convert:hover {\n",
              "      background-color: #E2EBFA;\n",
              "      box-shadow: 0px 1px 2px rgba(60, 64, 67, 0.3), 0px 1px 3px 1px rgba(60, 64, 67, 0.15);\n",
              "      fill: #174EA6;\n",
              "    }\n",
              "\n",
              "    [theme=dark] .colab-df-convert {\n",
              "      background-color: #3B4455;\n",
              "      fill: #D2E3FC;\n",
              "    }\n",
              "\n",
              "    [theme=dark] .colab-df-convert:hover {\n",
              "      background-color: #434B5C;\n",
              "      box-shadow: 0px 1px 3px 1px rgba(0, 0, 0, 0.15);\n",
              "      filter: drop-shadow(0px 1px 2px rgba(0, 0, 0, 0.3));\n",
              "      fill: #FFFFFF;\n",
              "    }\n",
              "  </style>\n",
              "\n",
              "      <script>\n",
              "        const buttonEl =\n",
              "          document.querySelector('#df-f50f6def-b44b-4c65-9d4c-e408341c3d21 button.colab-df-convert');\n",
              "        buttonEl.style.display =\n",
              "          google.colab.kernel.accessAllowed ? 'block' : 'none';\n",
              "\n",
              "        async function convertToInteractive(key) {\n",
              "          const element = document.querySelector('#df-f50f6def-b44b-4c65-9d4c-e408341c3d21');\n",
              "          const dataTable =\n",
              "            await google.colab.kernel.invokeFunction('convertToInteractive',\n",
              "                                                     [key], {});\n",
              "          if (!dataTable) return;\n",
              "\n",
              "          const docLinkHtml = 'Like what you see? Visit the ' +\n",
              "            '<a target=\"_blank\" href=https://colab.research.google.com/notebooks/data_table.ipynb>data table notebook</a>'\n",
              "            + ' to learn more about interactive tables.';\n",
              "          element.innerHTML = '';\n",
              "          dataTable['output_type'] = 'display_data';\n",
              "          await google.colab.output.renderOutput(dataTable, element);\n",
              "          const docLink = document.createElement('div');\n",
              "          docLink.innerHTML = docLinkHtml;\n",
              "          element.appendChild(docLink);\n",
              "        }\n",
              "      </script>\n",
              "    </div>\n",
              "  </div>\n",
              "  "
            ]
          },
          "metadata": {},
          "execution_count": 59
        }
      ]
    },
    {
      "cell_type": "code",
      "source": [
        "df.index.dtype"
      ],
      "metadata": {
        "colab": {
          "base_uri": "https://localhost:8080/"
        },
        "id": "A25_x_Izxt4M",
        "outputId": "efd9bc78-39ef-41b9-ee69-6d89a194f290"
      },
      "execution_count": 60,
      "outputs": [
        {
          "output_type": "execute_result",
          "data": {
            "text/plain": [
              "dtype('O')"
            ]
          },
          "metadata": {},
          "execution_count": 60
        }
      ]
    },
    {
      "cell_type": "code",
      "source": [
        "df.index = pd.to_datetime(df.index)\n",
        "df.index.dtype"
      ],
      "metadata": {
        "colab": {
          "base_uri": "https://localhost:8080/"
        },
        "id": "52YrUuyTxwd9",
        "outputId": "5afbfbeb-731c-4d71-cc77-d16f73cc7638"
      },
      "execution_count": 61,
      "outputs": [
        {
          "output_type": "execute_result",
          "data": {
            "text/plain": [
              "dtype('<M8[ns]')"
            ]
          },
          "metadata": {},
          "execution_count": 61
        }
      ]
    },
    {
      "cell_type": "code",
      "source": [
        "### Here open will be selected for model building and predition"
      ],
      "metadata": {
        "id": "Om5ZxrI2x3kt"
      },
      "execution_count": 62,
      "outputs": []
    },
    {
      "cell_type": "code",
      "source": [
        "df['open'].plot(figsize = (12, 5))"
      ],
      "metadata": {
        "colab": {
          "base_uri": "https://localhost:8080/",
          "height": 336
        },
        "id": "92cgWeBxx8fM",
        "outputId": "4931a214-ce98-497b-a654-d214a194fcd0"
      },
      "execution_count": 64,
      "outputs": [
        {
          "output_type": "execute_result",
          "data": {
            "text/plain": [
              "<matplotlib.axes._subplots.AxesSubplot at 0x7f4479880050>"
            ]
          },
          "metadata": {},
          "execution_count": 64
        },
        {
          "output_type": "display_data",
          "data": {
            "text/plain": [
              "<Figure size 864x360 with 1 Axes>"
            ],
            "image/png": "[encoded data removed]"
          },
          "metadata": {
            "needs_background": "light"
          }
        }
      ]
    },
    {
      "cell_type": "code",
      "source": [
        ""
      ],
      "metadata": {
        "colab": {
          "base_uri": "https://localhost:8080/",
          "height": 297
        },
        "id": "qFJNZwWR0RV-",
        "outputId": "b993814f-fbad-45b1-d616-5e604b081f6b"
      },
      "execution_count": 66,
      "outputs": [
        {
          "output_type": "execute_result",
          "data": {
            "text/plain": [
              "<matplotlib.axes._subplots.AxesSubplot at 0x7f446c4c6b50>"
            ]
          },
          "metadata": {},
          "execution_count": 66
        },
        {
          "output_type": "display_data",
          "data": {
            "text/plain": [
              "<Figure size 432x288 with 1 Axes>"
            ],
            "image/png": "[encoded data removed]"
          },
          "metadata": {
            "needs_background": "light"
          }
        }
      ]
    },
    {
      "cell_type": "code",
      "source": [
        "## Now soothening the graph\n",
        "## Using simple moving average\n",
        "df['SMA:30'] = df['open'].rolling(30).mean()\n",
        "df[['SMA:30', 'open']].plot(figsize=(12, 5))"
      ],
      "metadata": {
        "colab": {
          "base_uri": "https://localhost:8080/",
          "height": 336
        },
        "id": "1sH9rQSEyOAy",
        "outputId": "68b831ad-eb95-4b46-e12c-b6a67194771a"
      },
      "execution_count": 69,
      "outputs": [
        {
          "output_type": "execute_result",
          "data": {
            "text/plain": [
              "<matplotlib.axes._subplots.AxesSubplot at 0x7f446c443ad0>"
            ]
          },
          "metadata": {},
          "execution_count": 69
        },
        {
          "output_type": "display_data",
          "data": {
            "text/plain": [
              "<Figure size 864x360 with 1 Axes>"
            ],
            "image/png": "[encoded data removed]"
          },
          "metadata": {
            "needs_background": "light"
          }
        }
      ]
    },
    {
      "cell_type": "code",
      "source": [
        "## Now trying the EWMA\n",
        "\n",
        "df['ewma:0.1'] = df['open'].ewm(alpha = 0.1).mean()\n",
        "df['ewma:0.3'] = df['open'].ewm(alpha = 0.3).mean()\n",
        "df['ewma:0.6'] = df['open'].ewm(alpha = 0.6).mean()\n",
        "\n",
        "df[['ewma:0.1','open']].plot(figsize = (16, 6))\n",
        "df[['ewma:0.3','open']].plot(figsize = (16, 6))\n",
        "df[['ewma:0.6','open']].plot(figsize = (16, 6))"
      ],
      "metadata": {
        "colab": {
          "base_uri": "https://localhost:8080/",
          "height": 1000
        },
        "id": "w1Nn_Dgr0qk8",
        "outputId": "12c29ce6-7249-428a-a3fb-4c5ec3ece291"
      },
      "execution_count": 74,
      "outputs": [
        {
          "output_type": "execute_result",
          "data": {
            "text/plain": [
              "<matplotlib.axes._subplots.AxesSubplot at 0x7f446a8f64d0>"
            ]
          },
          "metadata": {},
          "execution_count": 74
        },
        {
          "output_type": "display_data",
          "data": {
            "text/plain": [
              "<Figure size 1152x432 with 1 Axes>"
            ],
            "image/png": "[encoded data removed]"
          },
          "metadata": {
            "needs_background": "light"
          }
        },
        {
          "output_type": "display_data",
          "data": {
            "text/plain": [
              "<Figure size 1152x432 with 1 Axes>"
            ],
            "image/png": "[encoded data removed]"
          },
          "metadata": {
            "needs_background": "light"
          }
        },
        {
          "output_type": "display_data",
          "data": {
            "text/plain": [
              "<Figure size 1152x432 with 1 Axes>"
            ],
            "image/png": "[encoded data removed]"
          },
          "metadata": {
            "needs_background": "light"
          }
        }
      ]
    },
    {
      "cell_type": "code",
      "source": [
        "## Here ewma 0.3 alpha is giving the best result\n",
        "## Now we will move on using ewma:0.3\n",
        "df['new_open'] = df['ewma:0.3']"
      ],
      "metadata": {
        "id": "Yxb9_rmO183s"
      },
      "execution_count": 75,
      "outputs": []
    },
    {
      "cell_type": "code",
      "source": [
        "## Performing the dicky fuller test\n",
        "from statsmodels.tsa.stattools import adfuller\n",
        "\n",
        "def adf_test(data):\n",
        "    result = adfuller(data)\n",
        "    print(f\"ADF statistics : {result[0]}\")\n",
        "    print(f\"p-value : {result[1]}\")\n",
        "\n",
        "    if result[1] <= 0.05:\n",
        "        print(\"Data is stationanry and null hypyothesis is rejected\")\n",
        "    else:\n",
        "        print(\"Data is not stationary and null hypothesis is accepted\")"
      ],
      "metadata": {
        "id": "Bek8Z_MF3FeG"
      },
      "execution_count": 76,
      "outputs": []
    },
    {
      "cell_type": "code",
      "source": [
        "adf_test(df['new_open'])"
      ],
      "metadata": {
        "colab": {
          "base_uri": "https://localhost:8080/"
        },
        "id": "YXtns5va3xvz",
        "outputId": "d033c551-0200-4e73-928b-da75d5021ee0"
      },
      "execution_count": 77,
      "outputs": [
        {
          "output_type": "stream",
          "name": "stdout",
          "text": [
            "ADF statistics : -1.1915386179316285\n",
            "p-value : 0.6772249523834512\n",
            "Data is not stationary and null hypothesis is accepted\n"
          ]
        }
      ]
    },
    {
      "cell_type": "code",
      "source": [
        "## Here data is not stationary so perform the differencing\n",
        "df['diff_1'] = df['new_open'] - df['new_open'].shift(1)\n",
        "adf_test(df['diff_1'].dropna())"
      ],
      "metadata": {
        "colab": {
          "base_uri": "https://localhost:8080/"
        },
        "id": "0BgNx-pa31px",
        "outputId": "3bd7366b-24d3-4a0d-c787-55846448de99"
      },
      "execution_count": 78,
      "outputs": [
        {
          "output_type": "stream",
          "name": "stdout",
          "text": [
            "ADF statistics : -4.608231478466223\n",
            "p-value : 0.00012473155482556344\n",
            "Data is stationanry and null hypyothesis is rejected\n"
          ]
        }
      ]
    },
    {
      "cell_type": "code",
      "source": [
        "## Here data is stationary in one defferencing\n",
        "## Now perform the acf and pacf test"
      ],
      "metadata": {
        "id": "uPDhWmTz4MzW"
      },
      "execution_count": 79,
      "outputs": []
    },
    {
      "cell_type": "code",
      "source": [
        "from statsmodels.graphics.tsaplots import plot_acf, plot_pacf"
      ],
      "metadata": {
        "id": "maL1XX5e4jAo"
      },
      "execution_count": 80,
      "outputs": []
    },
    {
      "cell_type": "code",
      "source": [
        "pacf = plot_pacf(df['new_open'].dropna())"
      ],
      "metadata": {
        "colab": {
          "base_uri": "https://localhost:8080/",
          "height": 281
        },
        "id": "rkXWCroV6VWB",
        "outputId": "adc7be0e-51a6-4f96-e236-db2c2067b88d"
      },
      "execution_count": 88,
      "outputs": [
        {
          "output_type": "display_data",
          "data": {
            "text/plain": [
              "<Figure size 432x288 with 1 Axes>"
            ],
            "image/png": "[encoded data removed]"
          },
          "metadata": {
            "needs_background": "light"
          }
        }
      ]
    },
    {
      "cell_type": "code",
      "source": [
        "pacf = plot_pacf(df['diff_1'].dropna())"
      ],
      "metadata": {
        "colab": {
          "base_uri": "https://localhost:8080/",
          "height": 281
        },
        "id": "dCrFoW3B6rZ1",
        "outputId": "ff527c36-e6ec-4619-ade0-366f72ae4391"
      },
      "execution_count": 86,
      "outputs": [
        {
          "output_type": "display_data",
          "data": {
            "text/plain": [
              "<Figure size 432x288 with 1 Axes>"
            ],
            "image/png": "[encoded data removed]"
          },
          "metadata": {
            "needs_background": "light"
          }
        }
      ]
    },
    {
      "cell_type": "code",
      "source": [
        "## p value may be 4"
      ],
      "metadata": {
        "id": "VFNq2vG-7jSR"
      },
      "execution_count": null,
      "outputs": []
    },
    {
      "cell_type": "code",
      "source": [
        "acf = plot_acf(df['new_open'].dropna())"
      ],
      "metadata": {
        "colab": {
          "base_uri": "https://localhost:8080/",
          "height": 281
        },
        "id": "Ea36FM6m6v0y",
        "outputId": "e8b5abf8-d4b5-40c6-b0fa-472c3403fa8b"
      },
      "execution_count": 87,
      "outputs": [
        {
          "output_type": "display_data",
          "data": {
            "text/plain": [
              "<Figure size 432x288 with 1 Axes>"
            ],
            "image/png": "[encoded data removed]"
          },
          "metadata": {
            "needs_background": "light"
          }
        }
      ]
    },
    {
      "cell_type": "code",
      "source": [
        "acf = plot_acf(df['diff_1'].dropna())"
      ],
      "metadata": {
        "colab": {
          "base_uri": "https://localhost:8080/",
          "height": 281
        },
        "id": "E2Myfum27HW5",
        "outputId": "5a4135cc-2b60-4b7c-b414-f25254e92cd2"
      },
      "execution_count": 85,
      "outputs": [
        {
          "output_type": "display_data",
          "data": {
            "text/plain": [
              "<Figure size 432x288 with 1 Axes>"
            ],
            "image/png": "[encoded data removed]"
          },
          "metadata": {
            "needs_background": "light"
          }
        }
      ]
    },
    {
      "cell_type": "code",
      "source": [
        "## q value may be 3"
      ],
      "metadata": {
        "id": "Rt7roduD7Lo7"
      },
      "execution_count": 89,
      "outputs": []
    },
    {
      "cell_type": "code",
      "source": [
        "## Fitst split data into train and test split\n",
        "\n",
        "train_size = int(0.8*(len(df)))\n",
        "train_data = df['new_open'].iloc[:train_size]\n",
        "test_data = df['new_open'].iloc[train_size:]"
      ],
      "metadata": {
        "id": "mxf9LPIt7o6b"
      },
      "execution_count": 90,
      "outputs": []
    },
    {
      "cell_type": "code",
      "source": [
        "pred_start_date = test_data.index[0]\n",
        "pred_end_date = test_data.index[-1]"
      ],
      "metadata": {
        "id": "feHO-j5B82mw"
      },
      "execution_count": 121,
      "outputs": []
    },
    {
      "cell_type": "code",
      "source": [
        "from datetime import timedelta"
      ],
      "metadata": {
        "id": "SLJJiXpl9p6-"
      },
      "execution_count": 122,
      "outputs": []
    },
    {
      "cell_type": "code",
      "source": [
        "pred_start_date , pred_end_date"
      ],
      "metadata": {
        "colab": {
          "base_uri": "https://localhost:8080/"
        },
        "id": "AT5dbwz89VOV",
        "outputId": "971488dd-f5a9-459b-9f5f-7cb5903a97f1"
      },
      "execution_count": 123,
      "outputs": [
        {
          "output_type": "execute_result",
          "data": {
            "text/plain": [
              "(Timestamp('2021-07-21 00:00:00'), Timestamp('2022-07-20 00:00:00'))"
            ]
          },
          "metadata": {},
          "execution_count": 123
        }
      ]
    },
    {
      "cell_type": "code",
      "source": [
        "from statsmodels.tsa.arima_model import ARIMA"
      ],
      "metadata": {
        "id": "p0JW72WO8QVA"
      },
      "execution_count": 116,
      "outputs": []
    },
    {
      "cell_type": "code",
      "source": [
        "model_arima = ARIMA(df['new_open'], order = (4, 0, 3))"
      ],
      "metadata": {
        "colab": {
          "base_uri": "https://localhost:8080/"
        },
        "id": "EOIdzTCC8X7Z",
        "outputId": "63f72694-01f1-4032-ebb4-faad8a3890f3"
      },
      "execution_count": 133,
      "outputs": [
        {
          "output_type": "stream",
          "name": "stderr",
          "text": [
            "/usr/local/lib/python3.7/dist-packages/statsmodels/tsa/base/tsa_model.py:219: ValueWarning: A date index has been provided, but it has no associated frequency information and so will be ignored when e.g. forecasting.\n",
            "  ' ignored when e.g. forecasting.', ValueWarning)\n"
          ]
        }
      ]
    },
    {
      "cell_type": "code",
      "source": [
        "model_arima_fit = model_arima.fit()"
      ],
      "metadata": {
        "id": "NoG1TD8p8iIG"
      },
      "execution_count": 134,
      "outputs": []
    },
    {
      "cell_type": "code",
      "source": [
        "model_arima_fit.summary()"
      ],
      "metadata": {
        "colab": {
          "base_uri": "https://localhost:8080/",
          "height": 553
        },
        "id": "9PS07rsi8km9",
        "outputId": "ad29873d-9597-400e-a014-558151005c9a"
      },
      "execution_count": 135,
      "outputs": [
        {
          "output_type": "execute_result",
          "data": {
            "text/plain": [
              "<class 'statsmodels.iolib.summary.Summary'>\n",
              "\"\"\"\n",
              "                              ARMA Model Results                              \n",
              "==============================================================================\n",
              "Dep. Variable:               new_open   No. Observations:                 1257\n",
              "Model:                     ARMA(4, 3)   Log Likelihood               -5569.749\n",
              "Method:                       css-mle   S.D. of innovations             20.263\n",
              "Date:                Thu, 21 Jul 2022   AIC                          11157.497\n",
              "Time:                        18:18:46   BIC                          11203.726\n",
              "Sample:                             0   HQIC                         11174.871\n",
              "                                                                              \n",
              "==================================================================================\n",
              "                     coef    std err          z      P>|z|      [0.025      0.975]\n",
              "----------------------------------------------------------------------------------\n",
              "const           1615.6256    473.217      3.414      0.001     688.137    2543.114\n",
              "ar.L1.new_open     2.7922      0.060     46.655      0.000       2.675       2.910\n",
              "ar.L2.new_open    -3.0374      0.078    -38.698      0.000      -3.191      -2.884\n",
              "ar.L3.new_open     1.4892      0.041     36.262      0.000       1.409       1.570\n",
              "ar.L4.new_open    -0.2446      0.033     -7.315      0.000      -0.310      -0.179\n",
              "ma.L1.new_open    -1.1340      0.064    -17.671      0.000      -1.260      -1.008\n",
              "ma.L2.new_open     0.5407      0.048     11.267      0.000       0.447       0.635\n",
              "ma.L3.new_open     0.1420      0.041      3.432      0.001       0.061       0.223\n",
              "                                    Roots                                    \n",
              "=============================================================================\n",
              "                  Real          Imaginary           Modulus         Frequency\n",
              "-----------------------------------------------------------------------------\n",
              "AR.1            1.0030           -0.0000j            1.0030           -0.0000\n",
              "AR.2            0.9459           -0.6179j            1.1298           -0.0921\n",
              "AR.3            0.9459           +0.6179j            1.1298            0.0921\n",
              "AR.4            3.1928           -0.0000j            3.1928           -0.0000\n",
              "MA.1            0.8433           -0.7553j            1.1321           -0.1162\n",
              "MA.2            0.8433           +0.7553j            1.1321            0.1162\n",
              "MA.3           -5.4948           -0.0000j            5.4948           -0.5000\n",
              "-----------------------------------------------------------------------------\n",
              "\"\"\""
            ],
            "text/html": [
              "<table class=\"simpletable\">\n",
              "<caption>ARMA Model Results</caption>\n",
              "<tr>\n",
              "  <th>Dep. Variable:</th>     <td>new_open</td>     <th>  No. Observations:  </th>   <td>1257</td>   \n",
              "</tr>\n",
              "<tr>\n",
              "  <th>Model:</th>            <td>ARMA(4, 3)</td>    <th>  Log Likelihood     </th> <td>-5569.749</td>\n",
              "</tr>\n",
              "<tr>\n",
              "  <th>Method:</th>             <td>css-mle</td>     <th>  S.D. of innovations</th>  <td>20.263</td>  \n",
              "</tr>\n",
              "<tr>\n",
              "  <th>Date:</th>          <td>Thu, 21 Jul 2022</td> <th>  AIC                </th> <td>11157.497</td>\n",
              "</tr>\n",
              "<tr>\n",
              "  <th>Time:</th>              <td>18:18:46</td>     <th>  BIC                </th> <td>11203.726</td>\n",
              "</tr>\n",
              "<tr>\n",
              "  <th>Sample:</th>                <td>0</td>        <th>  HQIC               </th> <td>11174.871</td>\n",
              "</tr>\n",
              "<tr>\n",
              "  <th></th>                       <td> </td>        <th>                     </th>     <td> </td>    \n",
              "</tr>\n",
              "</table>\n",
              "<table class=\"simpletable\">\n",
              "<tr>\n",
              "         <td></td>           <th>coef</th>     <th>std err</th>      <th>z</th>      <th>P>|z|</th>  <th>[0.025</th>    <th>0.975]</th>  \n",
              "</tr>\n",
              "<tr>\n",
              "  <th>const</th>          <td> 1615.6256</td> <td>  473.217</td> <td>    3.414</td> <td> 0.001</td> <td>  688.137</td> <td> 2543.114</td>\n",
              "</tr>\n",
              "<tr>\n",
              "  <th>ar.L1.new_open</th> <td>    2.7922</td> <td>    0.060</td> <td>   46.655</td> <td> 0.000</td> <td>    2.675</td> <td>    2.910</td>\n",
              "</tr>\n",
              "<tr>\n",
              "  <th>ar.L2.new_open</th> <td>   -3.0374</td> <td>    0.078</td> <td>  -38.698</td> <td> 0.000</td> <td>   -3.191</td> <td>   -2.884</td>\n",
              "</tr>\n",
              "<tr>\n",
              "  <th>ar.L3.new_open</th> <td>    1.4892</td> <td>    0.041</td> <td>   36.262</td> <td> 0.000</td> <td>    1.409</td> <td>    1.570</td>\n",
              "</tr>\n",
              "<tr>\n",
              "  <th>ar.L4.new_open</th> <td>   -0.2446</td> <td>    0.033</td> <td>   -7.315</td> <td> 0.000</td> <td>   -0.310</td> <td>   -0.179</td>\n",
              "</tr>\n",
              "<tr>\n",
              "  <th>ma.L1.new_open</th> <td>   -1.1340</td> <td>    0.064</td> <td>  -17.671</td> <td> 0.000</td> <td>   -1.260</td> <td>   -1.008</td>\n",
              "</tr>\n",
              "<tr>\n",
              "  <th>ma.L2.new_open</th> <td>    0.5407</td> <td>    0.048</td> <td>   11.267</td> <td> 0.000</td> <td>    0.447</td> <td>    0.635</td>\n",
              "</tr>\n",
              "<tr>\n",
              "  <th>ma.L3.new_open</th> <td>    0.1420</td> <td>    0.041</td> <td>    3.432</td> <td> 0.001</td> <td>    0.061</td> <td>    0.223</td>\n",
              "</tr>\n",
              "</table>\n",
              "<table class=\"simpletable\">\n",
              "<caption>Roots</caption>\n",
              "<tr>\n",
              "    <td></td>   <th>            Real</th>  <th>         Imaginary</th> <th>         Modulus</th>  <th>        Frequency</th>\n",
              "</tr>\n",
              "<tr>\n",
              "  <th>AR.1</th> <td>           1.0030</td> <td>          -0.0000j</td> <td>           1.0030</td> <td>          -0.0000</td>\n",
              "</tr>\n",
              "<tr>\n",
              "  <th>AR.2</th> <td>           0.9459</td> <td>          -0.6179j</td> <td>           1.1298</td> <td>          -0.0921</td>\n",
              "</tr>\n",
              "<tr>\n",
              "  <th>AR.3</th> <td>           0.9459</td> <td>          +0.6179j</td> <td>           1.1298</td> <td>           0.0921</td>\n",
              "</tr>\n",
              "<tr>\n",
              "  <th>AR.4</th> <td>           3.1928</td> <td>          -0.0000j</td> <td>           3.1928</td> <td>          -0.0000</td>\n",
              "</tr>\n",
              "<tr>\n",
              "  <th>MA.1</th> <td>           0.8433</td> <td>          -0.7553j</td> <td>           1.1321</td> <td>          -0.1162</td>\n",
              "</tr>\n",
              "<tr>\n",
              "  <th>MA.2</th> <td>           0.8433</td> <td>          +0.7553j</td> <td>           1.1321</td> <td>           0.1162</td>\n",
              "</tr>\n",
              "<tr>\n",
              "  <th>MA.3</th> <td>          -5.4948</td> <td>          -0.0000j</td> <td>           5.4948</td> <td>          -0.5000</td>\n",
              "</tr>\n",
              "</table>"
            ]
          },
          "metadata": {},
          "execution_count": 135
        }
      ]
    },
    {
      "cell_type": "code",
      "source": [
        "pred = model_arima_fit.predict(start = pred_start_date, end = pred_end_date)"
      ],
      "metadata": {
        "id": "qAmxCGaJ8mto"
      },
      "execution_count": 136,
      "outputs": []
    },
    {
      "cell_type": "code",
      "source": [
        "plt.plot(pred)\n",
        "plt.plot(test_data)\n",
        "plt.legend([\"predited\", \"real value\"])"
      ],
      "metadata": {
        "colab": {
          "base_uri": "https://localhost:8080/",
          "height": 283
        },
        "id": "yiaT0cvu8u9M",
        "outputId": "40a57f83-bd52-4a80-9ecb-f4bf52c244ed"
      },
      "execution_count": 137,
      "outputs": [
        {
          "output_type": "execute_result",
          "data": {
            "text/plain": [
              "<matplotlib.legend.Legend at 0x7f44676e2dd0>"
            ]
          },
          "metadata": {},
          "execution_count": 137
        },
        {
          "output_type": "display_data",
          "data": {
            "text/plain": [
              "<Figure size 432x288 with 1 Axes>"
            ],
            "image/png": "[encoded data removed]"
          },
          "metadata": {
            "needs_background": "light"
          }
        }
      ]
    },
    {
      "cell_type": "code",
      "source": [
        "model_arima_fit.forecast(5, alpha = 0.3) ## For 5 days\n",
        "## First array is predicted values\n",
        "## Second array is standard error\n",
        "## Third matrix is of confidence interval"
      ],
      "metadata": {
        "colab": {
          "base_uri": "https://localhost:8080/"
        },
        "id": "rMzsf3Wn-hNc",
        "outputId": "c356cbf0-8fd1-43f8-8f66-8adedf681c73"
      },
      "execution_count": 140,
      "outputs": [
        {
          "output_type": "execute_result",
          "data": {
            "text/plain": [
              "(array([579.78499443, 384.00715134, 290.57236879, 302.14606432,\n",
              "        392.09714633]),\n",
              " array([20.26278575, 39.23719698, 58.38134236, 77.98404756, 97.27053165]),\n",
              " array([[558.78396672, 600.78602215],\n",
              "        [343.34041028, 424.6738924 ],\n",
              "        [230.06399625, 351.08074133],\n",
              "        [221.32079358, 382.97133506],\n",
              "        [291.28271952, 492.91157315]]))"
            ]
          },
          "metadata": {},
          "execution_count": 140
        }
      ]
    },
    {
      "cell_type": "code",
      "source": [
        "days = 30\n",
        "forecast = model_arima_fit.forecast(days, alpha = 0.3)"
      ],
      "metadata": {
        "id": "thUKcyMu_G2Z"
      },
      "execution_count": 160,
      "outputs": []
    },
    {
      "cell_type": "code",
      "source": [
        "import numpy as np\n",
        "test_size = len(test_data)\n",
        "test_size"
      ],
      "metadata": {
        "colab": {
          "base_uri": "https://localhost:8080/"
        },
        "id": "_ukcW0Sj_6ks",
        "outputId": "05aca81f-568b-477a-9b68-49ff737baa2f"
      },
      "execution_count": 155,
      "outputs": [
        {
          "output_type": "execute_result",
          "data": {
            "text/plain": [
              "252"
            ]
          },
          "metadata": {},
          "execution_count": 155
        }
      ]
    },
    {
      "cell_type": "code",
      "source": [
        "pred_forecast = np.zeros(test_size + days)"
      ],
      "metadata": {
        "id": "Xrc7QOvc_-dl"
      },
      "execution_count": 161,
      "outputs": []
    },
    {
      "cell_type": "code",
      "source": [
        "pred_forecast[test_size:] = forecast[0]"
      ],
      "metadata": {
        "id": "4ZNFlWy2Aihq"
      },
      "execution_count": 166,
      "outputs": []
    },
    {
      "cell_type": "code",
      "source": [
        "pred_forecast.shape"
      ],
      "metadata": {
        "colab": {
          "base_uri": "https://localhost:8080/"
        },
        "id": "pgeXPq5fCGH1",
        "outputId": "c0e021ea-cfbe-42b2-ae59-c7a3af8f086b"
      },
      "execution_count": 178,
      "outputs": [
        {
          "output_type": "execute_result",
          "data": {
            "text/plain": [
              "(282,)"
            ]
          },
          "metadata": {},
          "execution_count": 178
        }
      ]
    },
    {
      "cell_type": "code",
      "source": [
        "test_data_ex = np.zeros(test_size + days)\n",
        "test_data_ex[:test_size] = test_data\n",
        "test_data_ex.shape"
      ],
      "metadata": {
        "colab": {
          "base_uri": "https://localhost:8080/"
        },
        "id": "mQh63UJ8CQwP",
        "outputId": "5ed65284-783a-49f9-f33e-00a63b0b3fc7"
      },
      "execution_count": 177,
      "outputs": [
        {
          "output_type": "execute_result",
          "data": {
            "text/plain": [
              "(282,)"
            ]
          },
          "metadata": {},
          "execution_count": 177
        }
      ]
    },
    {
      "cell_type": "code",
      "source": [
        "plt.plot(test_data_ex)\n",
        "plt.plot(pred_forecast)\n",
        "plt.legend([\"real-data\",\"forecast\"])\n",
        "plt.title(\"Forecasting\")"
      ],
      "metadata": {
        "colab": {
          "base_uri": "https://localhost:8080/",
          "height": 299
        },
        "id": "aIRt-0qOBRhu",
        "outputId": "da7a278c-db93-4924-88f0-5a5522d1d817"
      },
      "execution_count": 180,
      "outputs": [
        {
          "output_type": "execute_result",
          "data": {
            "text/plain": [
              "Text(0.5, 1.0, 'Forecasting')"
            ]
          },
          "metadata": {},
          "execution_count": 180
        },
        {
          "output_type": "display_data",
          "data": {
            "text/plain": [
              "<Figure size 432x288 with 1 Axes>"
            ],
            "image/png": "[encoded data removed]"
          },
          "metadata": {
            "needs_background": "light"
          }
        }
      ]
    },
    {
      "cell_type": "code",
      "source": [
        ""
      ],
      "metadata": {
        "id": "qEpb72PTBnFM"
      },
      "execution_count": null,
      "outputs": []
    }
  ]
}