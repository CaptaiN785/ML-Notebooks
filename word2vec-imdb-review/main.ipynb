{
 "cells": [
  {
   "cell_type": "code",
   "execution_count": 149,
   "id": "f99d92a6",
   "metadata": {
    "id": "f99d92a6"
   },
   "outputs": [],
   "source": [
    "import pandas as pd\n",
    "import numpy as np\n",
    "import re"
   ]
  },
  {
   "cell_type": "code",
   "execution_count": 150,
   "id": "3c383b28",
   "metadata": {
    "id": "3c383b28"
   },
   "outputs": [],
   "source": [
    "df = pd.read_csv('IMDB Dataset.csv', )"
   ]
  },
  {
   "cell_type": "code",
   "execution_count": 151,
   "id": "CQaberE2Y9qP",
   "metadata": {
    "colab": {
     "base_uri": "https://localhost:8080/",
     "height": 206
    },
    "id": "CQaberE2Y9qP",
    "outputId": "8371ba30-84f8-473b-bfe9-dce92566de65"
   },
   "outputs": [
    {
     "data": {
      "text/html": [
       "\n",
       "  <div id=\"df-705fd3b5-bd92-4b10-a7df-2ec2e9a17715\">\n",
       "    <div class=\"colab-df-container\">\n",
       "      <div>\n",
       "<style scoped>\n",
       "    .dataframe tbody tr th:only-of-type {\n",
       "        vertical-align: middle;\n",
       "    }\n",
       "\n",
       "    .dataframe tbody tr th {\n",
       "        vertical-align: top;\n",
       "    }\n",
       "\n",
       "    .dataframe thead th {\n",
       "        text-align: right;\n",
       "    }\n",
       "</style>\n",
       "<table border=\"1\" class=\"dataframe\">\n",
       "  <thead>\n",
       "    <tr style=\"text-align: right;\">\n",
       "      <th></th>\n",
       "      <th>review</th>\n",
       "      <th>sentiment</th>\n",
       "    </tr>\n",
       "  </thead>\n",
       "  <tbody>\n",
       "    <tr>\n",
       "      <th>0</th>\n",
       "      <td>One of the other reviewers has mentioned that ...</td>\n",
       "      <td>positive</td>\n",
       "    </tr>\n",
       "    <tr>\n",
       "      <th>1</th>\n",
       "      <td>A wonderful little production. &lt;br /&gt;&lt;br /&gt;The...</td>\n",
       "      <td>positive</td>\n",
       "    </tr>\n",
       "    <tr>\n",
       "      <th>2</th>\n",
       "      <td>I thought this was a wonderful way to spend ti...</td>\n",
       "      <td>positive</td>\n",
       "    </tr>\n",
       "    <tr>\n",
       "      <th>3</th>\n",
       "      <td>Basically there's a family where a little boy ...</td>\n",
       "      <td>negative</td>\n",
       "    </tr>\n",
       "    <tr>\n",
       "      <th>4</th>\n",
       "      <td>Petter Mattei's \"Love in the Time of Money\" is...</td>\n",
       "      <td>positive</td>\n",
       "    </tr>\n",
       "  </tbody>\n",
       "</table>\n",
       "</div>\n",
       "      <button class=\"colab-df-convert\" onclick=\"convertToInteractive('df-705fd3b5-bd92-4b10-a7df-2ec2e9a17715')\"\n",
       "              title=\"Convert this dataframe to an interactive table.\"\n",
       "              style=\"display:none;\">\n",
       "        \n",
       "  <svg xmlns=\"http://www.w3.org/2000/svg\" height=\"24px\"viewBox=\"0 0 24 24\"\n",
       "       width=\"24px\">\n",
       "    <path d=\"M0 0h24v24H0V0z\" fill=\"none\"/>\n",
       "    <path d=\"M18.56 5.44l.94 2.06.94-2.06 2.06-.94-2.06-.94-.94-2.06-.94 2.06-2.06.94zm-11 1L8.5 8.5l.94-2.06 2.06-.94-2.06-.94L8.5 2.5l-.94 2.06-2.06.94zm10 10l.94 2.06.94-2.06 2.06-.94-2.06-.94-.94-2.06-.94 2.06-2.06.94z\"/><path d=\"M17.41 7.96l-1.37-1.37c-.4-.4-.92-.59-1.43-.59-.52 0-1.04.2-1.43.59L10.3 9.45l-7.72 7.72c-.78.78-.78 2.05 0 2.83L4 21.41c.39.39.9.59 1.41.59.51 0 1.02-.2 1.41-.59l7.78-7.78 2.81-2.81c.8-.78.8-2.07 0-2.86zM5.41 20L4 18.59l7.72-7.72 1.47 1.35L5.41 20z\"/>\n",
       "  </svg>\n",
       "      </button>\n",
       "      \n",
       "  <style>\n",
       "    .colab-df-container {\n",
       "      display:flex;\n",
       "      flex-wrap:wrap;\n",
       "      gap: 12px;\n",
       "    }\n",
       "\n",
       "    .colab-df-convert {\n",
       "      background-color: #E8F0FE;\n",
       "      border: none;\n",
       "      border-radius: 50%;\n",
       "      cursor: pointer;\n",
       "      display: none;\n",
       "      fill: #1967D2;\n",
       "      height: 32px;\n",
       "      padding: 0 0 0 0;\n",
       "      width: 32px;\n",
       "    }\n",
       "\n",
       "    .colab-df-convert:hover {\n",
       "      background-color: #E2EBFA;\n",
       "      box-shadow: 0px 1px 2px rgba(60, 64, 67, 0.3), 0px 1px 3px 1px rgba(60, 64, 67, 0.15);\n",
       "      fill: #174EA6;\n",
       "    }\n",
       "\n",
       "    [theme=dark] .colab-df-convert {\n",
       "      background-color: #3B4455;\n",
       "      fill: #D2E3FC;\n",
       "    }\n",
       "\n",
       "    [theme=dark] .colab-df-convert:hover {\n",
       "      background-color: #434B5C;\n",
       "      box-shadow: 0px 1px 3px 1px rgba(0, 0, 0, 0.15);\n",
       "      filter: drop-shadow(0px 1px 2px rgba(0, 0, 0, 0.3));\n",
       "      fill: #FFFFFF;\n",
       "    }\n",
       "  </style>\n",
       "\n",
       "      <script>\n",
       "        const buttonEl =\n",
       "          document.querySelector('#df-705fd3b5-bd92-4b10-a7df-2ec2e9a17715 button.colab-df-convert');\n",
       "        buttonEl.style.display =\n",
       "          google.colab.kernel.accessAllowed ? 'block' : 'none';\n",
       "\n",
       "        async function convertToInteractive(key) {\n",
       "          const element = document.querySelector('#df-705fd3b5-bd92-4b10-a7df-2ec2e9a17715');\n",
       "          const dataTable =\n",
       "            await google.colab.kernel.invokeFunction('convertToInteractive',\n",
       "                                                     [key], {});\n",
       "          if (!dataTable) return;\n",
       "\n",
       "          const docLinkHtml = 'Like what you see? Visit the ' +\n",
       "            '<a target=\"_blank\" href=https://colab.research.google.com/notebooks/data_table.ipynb>data table notebook</a>'\n",
       "            + ' to learn more about interactive tables.';\n",
       "          element.innerHTML = '';\n",
       "          dataTable['output_type'] = 'display_data';\n",
       "          await google.colab.output.renderOutput(dataTable, element);\n",
       "          const docLink = document.createElement('div');\n",
       "          docLink.innerHTML = docLinkHtml;\n",
       "          element.appendChild(docLink);\n",
       "        }\n",
       "      </script>\n",
       "    </div>\n",
       "  </div>\n",
       "  "
      ],
      "text/plain": [
       "                                              review sentiment\n",
       "0  One of the other reviewers has mentioned that ...  positive\n",
       "1  A wonderful little production. <br /><br />The...  positive\n",
       "2  I thought this was a wonderful way to spend ti...  positive\n",
       "3  Basically there's a family where a little boy ...  negative\n",
       "4  Petter Mattei's \"Love in the Time of Money\" is...  positive"
      ]
     },
     "execution_count": 151,
     "metadata": {},
     "output_type": "execute_result"
    }
   ],
   "source": [
    "df.head()"
   ]
  },
  {
   "cell_type": "code",
   "execution_count": 152,
   "id": "741532b0",
   "metadata": {
    "colab": {
     "base_uri": "https://localhost:8080/",
     "height": 174
    },
    "id": "741532b0",
    "outputId": "7bac4018-ad13-4303-80d3-e5638a065211"
   },
   "outputs": [
    {
     "data": {
      "application/vnd.google.colaboratory.intrinsic+json": {
       "type": "string"
      },
      "text/plain": [
       "'A wonderful little production. <br /><br />The filming technique is very unassuming- very old-time-BBC fashion and gives a comforting, and sometimes discomforting, sense of realism to the entire piece. <br /><br />The actors are extremely well chosen- Michael Sheen not only \"has got all the polari\" but he has all the voices down pat too! You can truly see the seamless editing guided by the references to Williams\\' diary entries, not only is it well worth the watching but it is a terrificly written and performed piece. A masterful production about one of the great master\\'s of comedy and his life. <br /><br />The realism really comes home with the little things: the fantasy of the guard which, rather than use the traditional \\'dream\\' techniques remains solid then disappears. It plays on our knowledge and our senses, particularly with the scenes concerning Orton and Halliwell and the sets (particularly of their flat with Halliwell\\'s murals decorating every surface) are terribly well done.'"
      ]
     },
     "execution_count": 152,
     "metadata": {},
     "output_type": "execute_result"
    }
   ],
   "source": [
    "df['review'].loc[1]"
   ]
  },
  {
   "cell_type": "code",
   "execution_count": 153,
   "id": "b0db058b",
   "metadata": {
    "colab": {
     "base_uri": "https://localhost:8080/",
     "height": 174
    },
    "id": "b0db058b",
    "outputId": "badf3b9e-bd03-44b4-bcae-2d45e58b0489"
   },
   "outputs": [
    {
     "data": {
      "application/vnd.google.colaboratory.intrinsic+json": {
       "type": "string"
      },
      "text/plain": [
       "'A wonderful little production. The filming technique is very unassuming- very old-time-BBC fashion and gives a comforting, and sometimes discomforting, sense of realism to the entire piece. The actors are extremely well chosen- Michael Sheen not only \"has got all the polari\" but he has all the voices down pat too! You can truly see the seamless editing guided by the references to Williams\\' diary entries, not only is it well worth the watching but it is a terrificly written and performed piece. A masterful production about one of the great master\\'s of comedy and his life. The realism really comes home with the little things: the fantasy of the guard which, rather than use the traditional \\'dream\\' techniques remains solid then disappears. It plays on our knowledge and our senses, particularly with the scenes concerning Orton and Halliwell and the sets (particularly of their flat with Halliwell\\'s murals decorating every surface) are terribly well done.'"
      ]
     },
     "execution_count": 153,
     "metadata": {},
     "output_type": "execute_result"
    }
   ],
   "source": [
    "# Try removing the html tags\n",
    "re.sub(r'<[a-z\\s]+/?>', '', df['review'].loc[1])"
   ]
  },
  {
   "cell_type": "code",
   "execution_count": 154,
   "id": "30c39fd7",
   "metadata": {
    "id": "30c39fd7"
   },
   "outputs": [],
   "source": [
    "df['review'] = df['review'].apply(lambda x : re.sub(r'<[a-z\\s]+/?>', '', x))"
   ]
  },
  {
   "cell_type": "code",
   "execution_count": 155,
   "id": "94ce5aec",
   "metadata": {
    "id": "94ce5aec"
   },
   "outputs": [],
   "source": [
    "## Removing the symbols from every review\n",
    "df['reiview'] = df['review'].apply(lambda x: re.sub(r'[^a-zA-z]', ' ', x))"
   ]
  },
  {
   "cell_type": "code",
   "execution_count": 156,
   "id": "55277e23",
   "metadata": {
    "colab": {
     "base_uri": "https://localhost:8080/"
    },
    "id": "55277e23",
    "outputId": "69495972-7a17-4c88-90c5-d7d0a0d673c7"
   },
   "outputs": [
    {
     "data": {
      "text/plain": [
       "0    One of the other reviewers has mentioned that ...\n",
       "1    A wonderful little production. The filming tec...\n",
       "2    I thought this was a wonderful way to spend ti...\n",
       "3    Basically there's a family where a little boy ...\n",
       "4    Petter Mattei's \"Love in the Time of Money\" is...\n",
       "Name: review, dtype: object"
      ]
     },
     "execution_count": 156,
     "metadata": {},
     "output_type": "execute_result"
    }
   ],
   "source": [
    "df['review'].head()"
   ]
  },
  {
   "cell_type": "code",
   "execution_count": 157,
   "id": "703e3ef8",
   "metadata": {
    "id": "703e3ef8"
   },
   "outputs": [],
   "source": [
    "## Lowering the all alphabets\n",
    "df['review'] = df['review'].apply(lambda x : x.lower())"
   ]
  },
  {
   "cell_type": "code",
   "execution_count": 158,
   "id": "5f430fe3",
   "metadata": {
    "colab": {
     "base_uri": "https://localhost:8080/"
    },
    "id": "5f430fe3",
    "outputId": "9f7839c5-fffe-45db-98f6-9f8c18ecabba"
   },
   "outputs": [
    {
     "name": "stderr",
     "output_type": "stream",
     "text": [
      "[nltk_data] Downloading package stopwords to /root/nltk_data...\n",
      "[nltk_data]   Package stopwords is already up-to-date!\n"
     ]
    }
   ],
   "source": [
    "## Now removing the stopwords\n",
    "from nltk.corpus import stopwords\n",
    "import nltk\n",
    "nltk.download('stopwords')\n",
    "stwords = stopwords.words('english')"
   ]
  },
  {
   "cell_type": "code",
   "execution_count": 159,
   "id": "f4eff404",
   "metadata": {
    "colab": {
     "base_uri": "https://localhost:8080/"
    },
    "id": "f4eff404",
    "outputId": "e5fcbf7a-98de-4255-9524-9fa50e609974"
   },
   "outputs": [
    {
     "data": {
      "text/plain": [
       "['i', 'me', 'my', 'myself', 'we', 'our', 'ours', 'ourselves', 'you', \"you're\"]"
      ]
     },
     "execution_count": 159,
     "metadata": {},
     "output_type": "execute_result"
    }
   ],
   "source": [
    "stwords[:10]"
   ]
  },
  {
   "cell_type": "code",
   "execution_count": 160,
   "id": "S6lOi2kqcQAy",
   "metadata": {
    "id": "S6lOi2kqcQAy"
   },
   "outputs": [],
   "source": [
    "def remove_stopwords(sentence):\n",
    "    word_list = []\n",
    "    for word in sentence.split():\n",
    "        if word not in stwords:\n",
    "            word_list.append(word)\n",
    "    return word_list"
   ]
  },
  {
   "cell_type": "code",
   "execution_count": 161,
   "id": "46026e64",
   "metadata": {
    "id": "46026e64"
   },
   "outputs": [],
   "source": [
    "df['review'] = df['review'].apply(lambda x : remove_stopwords(x))"
   ]
  },
  {
   "cell_type": "code",
   "execution_count": 162,
   "id": "d224218c",
   "metadata": {
    "colab": {
     "base_uri": "https://localhost:8080/"
    },
    "id": "d224218c",
    "outputId": "1c47645e-335d-4062-ad22-ede30523b288"
   },
   "outputs": [
    {
     "name": "stderr",
     "output_type": "stream",
     "text": [
      "[nltk_data] Downloading package wordnet to /root/nltk_data...\n",
      "[nltk_data]   Package wordnet is already up-to-date!\n",
      "[nltk_data] Downloading package omw-1.4 to /root/nltk_data...\n",
      "[nltk_data]   Package omw-1.4 is already up-to-date!\n"
     ]
    }
   ],
   "source": [
    "## Lematizing the words\n",
    "from nltk.stem import WordNetLemmatizer\n",
    "nltk.download('wordnet')\n",
    "nltk.download('omw-1.4')\n",
    "lematizer = WordNetLemmatizer()"
   ]
  },
  {
   "cell_type": "code",
   "execution_count": 163,
   "id": "ea774ef9",
   "metadata": {
    "id": "ea774ef9"
   },
   "outputs": [],
   "source": [
    "df['review'] = df['review'].apply(lambda x : [lematizer.lemmatize(word) for word in x])"
   ]
  },
  {
   "cell_type": "code",
   "execution_count": 167,
   "id": "yJDiJcna1Dtl",
   "metadata": {
    "colab": {
     "base_uri": "https://localhost:8080/"
    },
    "id": "yJDiJcna1Dtl",
    "outputId": "f9f6cc04-19f7-4e52-db9b-bbb79af08f5d"
   },
   "outputs": [
    {
     "data": {
      "text/plain": [
       "array([list(['one', 'reviewer', 'mentioned', 'watching', '1', 'oz', 'episode', 'hooked.', 'right,', 'exactly', 'happened', 'me.the', 'first', 'thing', 'struck', 'oz', 'brutality', 'unflinching', 'scene', 'violence,', 'set', 'right', 'word', 'go.', 'trust', 'me,', 'show', 'faint', 'hearted', 'timid.', 'show', 'pull', 'punch', 'regard', 'drugs,', 'sex', 'violence.', 'hardcore,', 'classic', 'use', 'word.it', 'called', 'oz', 'nickname', 'given', 'oswald', 'maximum', 'security', 'state', 'penitentary.', 'focus', 'mainly', 'emerald', 'city,', 'experimental', 'section', 'prison', 'cell', 'glass', 'front', 'face', 'inwards,', 'privacy', 'high', 'agenda.', 'em', 'city', 'home', 'many..aryans,', 'muslims,', 'gangstas,', 'latinos,', 'christians,', 'italians,', 'irish', 'more....so', 'scuffles,', 'death', 'stares,', 'dodgy', 'dealing', 'shady', 'agreement', 'never', 'far', 'away.i', 'would', 'say', 'main', 'appeal', 'show', 'due', 'fact', 'go', 'show', 'dare.', 'forget', 'pretty', 'picture', 'painted', 'mainstream', 'audiences,', 'forget', 'charm,', 'forget', 'romance...oz', 'mess', 'around.', 'first', 'episode', 'ever', 'saw', 'struck', 'nasty', 'surreal,', 'say', 'ready', 'it,', 'watched', 'more,', 'developed', 'taste', 'oz,', 'got', 'accustomed', 'high', 'level', 'graphic', 'violence.', 'violence,', 'injustice', '(crooked', 'guard', \"who'll\", 'sold', 'nickel,', 'inmate', \"who'll\", 'kill', 'order', 'get', 'away', 'it,', 'well', 'mannered,', 'middle', 'class', 'inmate', 'turned', 'prison', 'bitch', 'due', 'lack', 'street', 'skill', 'prison', 'experience)', 'watching', 'oz,', 'may', 'become', 'comfortable', 'uncomfortable', 'viewing....thats', 'get', 'touch', 'darker', 'side.']),\n",
       "       list(['wonderful', 'little', 'production.', 'filming', 'technique', 'unassuming-', 'old-time-bbc', 'fashion', 'give', 'comforting,', 'sometimes', 'discomforting,', 'sense', 'realism', 'entire', 'piece.', 'actor', 'extremely', 'well', 'chosen-', 'michael', 'sheen', '\"has', 'got', 'polari\"', 'voice', 'pat', 'too!', 'truly', 'see', 'seamless', 'editing', 'guided', 'reference', \"williams'\", 'diary', 'entries,', 'well', 'worth', 'watching', 'terrificly', 'written', 'performed', 'piece.', 'masterful', 'production', 'one', 'great', \"master's\", 'comedy', 'life.', 'realism', 'really', 'come', 'home', 'little', 'things:', 'fantasy', 'guard', 'which,', 'rather', 'use', 'traditional', \"'dream'\", 'technique', 'remains', 'solid', 'disappears.', 'play', 'knowledge', 'senses,', 'particularly', 'scene', 'concerning', 'orton', 'halliwell', 'set', '(particularly', 'flat', \"halliwell's\", 'mural', 'decorating', 'every', 'surface)', 'terribly', 'well', 'done.']),\n",
       "       list(['thought', 'wonderful', 'way', 'spend', 'time', 'hot', 'summer', 'weekend,', 'sitting', 'air', 'conditioned', 'theater', 'watching', 'light-hearted', 'comedy.', 'plot', 'simplistic,', 'dialogue', 'witty', 'character', 'likable', '(even', 'well', 'bread', 'suspected', 'serial', 'killer).', 'may', 'disappointed', 'realize', 'match', 'point', '2:', 'risk', 'addiction,', 'thought', 'proof', 'woody', 'allen', 'still', 'fully', 'control', 'style', 'many', 'u', 'grown', 'love.this', \"i'd\", 'laughed', 'one', \"woody's\", 'comedy', 'year', '(dare', 'say', 'decade?).', \"i've\", 'never', 'impressed', 'scarlet', 'johanson,', 'managed', 'tone', '\"sexy\"', 'image', 'jumped', 'right', 'average,', 'spirited', 'young', 'woman.this', 'may', 'crown', 'jewel', 'career,', 'wittier', '\"devil', 'wear', 'prada\"', 'interesting', '\"superman\"', 'great', 'comedy', 'go', 'see', 'friends.']),\n",
       "       ...,\n",
       "       list(['catholic', 'taught', 'parochial', 'elementary', 'school', 'nuns,', 'taught', 'jesuit', 'priest', 'high', 'school', '&', 'college.', 'still', 'practicing', 'catholic', 'would', 'considered', '\"good', 'catholic\"', \"church's\", 'eye', 'believe', 'certain', 'thing', 'act', 'certain', 'way', 'church', 'tell', 'to.so', 'back', 'movie...its', 'bad', 'two', 'people', 'killed', 'nun', 'supposed', 'satire', 'embodiment', 'female', 'religious', 'figurehead.', 'comedy', 'satire', 'done', 'well', 'acting', 'diane', 'keaton.', 'never', 'saw', 'play', 'different', 'movie', 'may', 'good.at', 'first', 'thought', 'gun', 'might', 'fake', 'first', 'shooting', 'plan', 'female', 'lead', 'four', 'former', 'student', 'attempt', 'demonstrate', 'sister', \"mary's\", 'emotional', 'intellectual', 'bigotry', 'faith.', 'turn', 'bullet', 'real', 'story', 'tragedy...the', 'tragedy', 'loss', 'life', '(besides', 'two', 'former', 'students...the', 'life', 'aborted', 'babies,', 'life', \"student's\", 'mom),', 'tragedy', 'dogmatic', 'authority', 'love', 'people,', 'tragedy', 'organized', 'religion', 'replacing', 'true', 'faith', 'god.', 'wrong', \"today's\", 'islam,', \"yesterday's\", 'judaism', 'christianity.']),\n",
       "       list([\"i'm\", 'going', 'disagree', 'previous', 'comment', 'side', 'maltin', 'one.', 'second', 'rate,', 'excessively', 'vicious', 'western', 'creak', 'groan', 'trying', 'put', 'across', 'central', 'theme', 'wild', 'west', 'tamed', 'kicked', 'aside', 'steady', 'march', 'time.', 'would', 'like', 'tradition', '\"butch', 'cassidy', 'sundance', 'kid\",', 'lack', \"film's\", 'poignancy', 'charm.', 'andrew', \"mclaglen's\", 'direction', 'limp,', 'final', '30', 'minute', 'real', 'botch,', 'incomprehensible', 'strategy', 'part', 'hero', 'charlton', 'heston', 'chris', 'mitchum.', '(someone', 'give', 'holler', 'explain', 'set', 'hillside', 'fire.)', 'something', 'callous', 'whole', 'treatment', 'rape', 'scene,', \"woman's\", 'reaction', 'afterwards', 'certainly', 'ring', 'true.', 'coburn', 'plenty', 'nasty', 'half', 'breed', 'escaped', 'convict', 'revenge,', 'fellow', 'escapee', 'underdeveloped', \"(they're\", 'like', 'bowling', 'pin', 'knocked', 'one', 'one', 'story', 'lurch', 'forward).', 'michael', 'park', 'give', 'one', 'typically', 'shifty,', 'lethargic,', 'mumbling', 'performances,', 'case', 'appropriate', 'modern', 'style', 'sheriff', 'symbolizes', 'complacency', 'technological', 'progress', 'bring', 'about.']),\n",
       "       list(['one', 'expects', 'star', 'trek', 'movie', 'high', 'art,', 'fan', 'expect', 'movie', 'good', 'best', 'episodes.', 'unfortunately,', 'movie', 'muddled,', 'implausible', 'plot', 'left', 'cringing', '-', 'far', 'worst', 'nine', '(so', 'far)', 'movies.', 'even', 'chance', 'watch', 'well', 'known', 'character', 'interact', 'another', 'movie', \"can't\", 'save', 'movie', '-', 'including', 'goofy', 'scene', 'kirk,', 'spock', 'mccoy', 'yosemite.i', 'would', 'say', 'movie', 'worth', 'rental,', 'hardly', 'worth', 'watching,', 'however', 'true', 'fan', 'need', 'see', 'movies,', 'renting', 'movie', 'way', 'see', '-', 'even', 'cable', 'channel', 'avoid', 'movie.'])],\n",
       "      dtype=object)"
      ]
     },
     "execution_count": 167,
     "metadata": {},
     "output_type": "execute_result"
    }
   ],
   "source": [
    "df['review'].values"
   ]
  },
  {
   "cell_type": "code",
   "execution_count": null,
   "id": "o9zkdYyX1Dit",
   "metadata": {
    "id": "o9zkdYyX1Dit"
   },
   "outputs": [],
   "source": []
  },
  {
   "cell_type": "code",
   "execution_count": 1,
   "id": "5b08b36d",
   "metadata": {
    "id": "5b08b36d"
   },
   "outputs": [],
   "source": [
    "from gensim.models import word2vec"
   ]
  },
  {
   "cell_type": "code",
   "execution_count": 168,
   "id": "bdb2894b",
   "metadata": {
    "id": "bdb2894b"
   },
   "outputs": [],
   "source": [
    "model = word2vec.Word2Vec(df['review'].values,min_count = 2)"
   ]
  },
  {
   "cell_type": "code",
   "execution_count": 169,
   "id": "698bafa8",
   "metadata": {
    "colab": {
     "base_uri": "https://localhost:8080/"
    },
    "id": "698bafa8",
    "outputId": "a74f4a44-1f15-41af-dc2d-2f31a089eef0"
   },
   "outputs": [
    {
     "data": {
      "text/plain": [
       "{'one': <gensim.models.keyedvectors.Vocab at 0x7f58a83a97d0>,\n",
       " 'reviewer': <gensim.models.keyedvectors.Vocab at 0x7f58a83ef790>,\n",
       " 'mentioned': <gensim.models.keyedvectors.Vocab at 0x7f58a845e4d0>,\n",
       " 'watching': <gensim.models.keyedvectors.Vocab at 0x7f58a845e090>,\n",
       " '1': <gensim.models.keyedvectors.Vocab at 0x7f58a83c1c90>,\n",
       " 'oz': <gensim.models.keyedvectors.Vocab at 0x7f58a8391f50>,\n",
       " 'episode': <gensim.models.keyedvectors.Vocab at 0x7f58a84292d0>,\n",
       " 'hooked.': <gensim.models.keyedvectors.Vocab at 0x7f58a8429610>,\n",
       " 'right,': <gensim.models.keyedvectors.Vocab at 0x7f58a845eb90>,\n",
       " 'exactly': <gensim.models.keyedvectors.Vocab at 0x7f58a83c10d0>,\n",
       " 'happened': <gensim.models.keyedvectors.Vocab at 0x7f58a8429650>,\n",
       " 'me.the': <gensim.models.keyedvectors.Vocab at 0x7f58a8429550>,\n",
       " 'first': <gensim.models.keyedvectors.Vocab at 0x7f58c0625390>,\n",
       " 'thing': <gensim.models.keyedvectors.Vocab at 0x7f58c0625710>,\n",
       " 'struck': <gensim.models.keyedvectors.Vocab at 0x7f58a83b4a10>,\n",
       " 'brutality': <gensim.models.keyedvectors.Vocab at 0x7f58a83b48d0>,\n",
       " 'unflinching': <gensim.models.keyedvectors.Vocab at 0x7f58a8427ed0>,\n",
       " 'scene': <gensim.models.keyedvectors.Vocab at 0x7f58a8427450>,\n",
       " 'violence,': <gensim.models.keyedvectors.Vocab at 0x7f58a8427f10>,\n",
       " 'set': <gensim.models.keyedvectors.Vocab at 0x7f58a8427790>,\n",
       " 'right': <gensim.models.keyedvectors.Vocab at 0x7f58a84001d0>,\n",
       " 'word': <gensim.models.keyedvectors.Vocab at 0x7f58a8400d50>,\n",
       " 'go.': <gensim.models.keyedvectors.Vocab at 0x7f58a8400dd0>,\n",
       " 'trust': <gensim.models.keyedvectors.Vocab at 0x7f58a8400a90>,\n",
       " 'me,': <gensim.models.keyedvectors.Vocab at 0x7f58a8400150>,\n",
       " 'show': <gensim.models.keyedvectors.Vocab at 0x7f58a8400a50>,\n",
       " 'faint': <gensim.models.keyedvectors.Vocab at 0x7f58a8400090>,\n",
       " 'hearted': <gensim.models.keyedvectors.Vocab at 0x7f58a8473390>,\n",
       " 'timid.': <gensim.models.keyedvectors.Vocab at 0x7f58a83b2790>,\n",
       " 'pull': <gensim.models.keyedvectors.Vocab at 0x7f58a83b23d0>,\n",
       " 'punch': <gensim.models.keyedvectors.Vocab at 0x7f58a839cc50>,\n",
       " 'regard': <gensim.models.keyedvectors.Vocab at 0x7f58a839cb90>,\n",
       " 'drugs,': <gensim.models.keyedvectors.Vocab at 0x7f58a839c550>,\n",
       " 'sex': <gensim.models.keyedvectors.Vocab at 0x7f58a839ce90>,\n",
       " 'violence.': <gensim.models.keyedvectors.Vocab at 0x7f58a8428850>,\n",
       " 'hardcore,': <gensim.models.keyedvectors.Vocab at 0x7f58a8428ad0>,\n",
       " 'classic': <gensim.models.keyedvectors.Vocab at 0x7f58a8428e50>,\n",
       " 'use': <gensim.models.keyedvectors.Vocab at 0x7f58a8428190>,\n",
       " 'word.it': <gensim.models.keyedvectors.Vocab at 0x7f58a8428750>,\n",
       " 'called': <gensim.models.keyedvectors.Vocab at 0x7f58a83fdfd0>,\n",
       " 'nickname': <gensim.models.keyedvectors.Vocab at 0x7f58a83fd390>,\n",
       " 'given': <gensim.models.keyedvectors.Vocab at 0x7f58a83fd050>,\n",
       " 'oswald': <gensim.models.keyedvectors.Vocab at 0x7f58a83fd950>,\n",
       " 'maximum': <gensim.models.keyedvectors.Vocab at 0x7f58c0617c50>,\n",
       " 'security': <gensim.models.keyedvectors.Vocab at 0x7f58c0617ed0>,\n",
       " 'state': <gensim.models.keyedvectors.Vocab at 0x7f58a83cb290>,\n",
       " 'focus': <gensim.models.keyedvectors.Vocab at 0x7f58a83cb210>,\n",
       " 'mainly': <gensim.models.keyedvectors.Vocab at 0x7f58a83cb110>,\n",
       " 'emerald': <gensim.models.keyedvectors.Vocab at 0x7f58a83cb750>,\n",
       " 'city,': <gensim.models.keyedvectors.Vocab at 0x7f58a83cb390>,\n",
       " 'experimental': <gensim.models.keyedvectors.Vocab at 0x7f58a83cb610>,\n",
       " 'section': <gensim.models.keyedvectors.Vocab at 0x7f58a83cb3d0>,\n",
       " 'prison': <gensim.models.keyedvectors.Vocab at 0x7f58a83cb490>,\n",
       " 'cell': <gensim.models.keyedvectors.Vocab at 0x7f58a83cb590>,\n",
       " 'glass': <gensim.models.keyedvectors.Vocab at 0x7f58a83cb6d0>,\n",
       " 'front': <gensim.models.keyedvectors.Vocab at 0x7f58a83cb310>,\n",
       " 'face': <gensim.models.keyedvectors.Vocab at 0x7f58a83cb190>,\n",
       " 'inwards,': <gensim.models.keyedvectors.Vocab at 0x7f58a83cb4d0>,\n",
       " 'privacy': <gensim.models.keyedvectors.Vocab at 0x7f58a83cb2d0>,\n",
       " 'high': <gensim.models.keyedvectors.Vocab at 0x7f58a83cb450>,\n",
       " 'agenda.': <gensim.models.keyedvectors.Vocab at 0x7f58a83cb090>,\n",
       " 'em': <gensim.models.keyedvectors.Vocab at 0x7f58a83cb550>,\n",
       " 'city': <gensim.models.keyedvectors.Vocab at 0x7f58a83cb410>,\n",
       " 'home': <gensim.models.keyedvectors.Vocab at 0x7f58a83cb510>,\n",
       " 'muslims,': <gensim.models.keyedvectors.Vocab at 0x7f58a83cb350>,\n",
       " 'latinos,': <gensim.models.keyedvectors.Vocab at 0x7f58a83cb5d0>,\n",
       " 'christians,': <gensim.models.keyedvectors.Vocab at 0x7f58a83b5c50>,\n",
       " 'italians,': <gensim.models.keyedvectors.Vocab at 0x7f58a83b5790>,\n",
       " 'irish': <gensim.models.keyedvectors.Vocab at 0x7f58a83b5350>,\n",
       " 'death': <gensim.models.keyedvectors.Vocab at 0x7f58a83b5190>,\n",
       " 'stares,': <gensim.models.keyedvectors.Vocab at 0x7f58a83b5910>,\n",
       " 'dodgy': <gensim.models.keyedvectors.Vocab at 0x7f58a83b59d0>,\n",
       " 'dealing': <gensim.models.keyedvectors.Vocab at 0x7f58a83b5fd0>,\n",
       " 'shady': <gensim.models.keyedvectors.Vocab at 0x7f58a84cb750>,\n",
       " 'agreement': <gensim.models.keyedvectors.Vocab at 0x7f58a84cbf50>,\n",
       " 'never': <gensim.models.keyedvectors.Vocab at 0x7f58a84cb4d0>,\n",
       " 'far': <gensim.models.keyedvectors.Vocab at 0x7f58a84cb710>,\n",
       " 'away.i': <gensim.models.keyedvectors.Vocab at 0x7f58a84cbe10>,\n",
       " 'would': <gensim.models.keyedvectors.Vocab at 0x7f58a84cbd90>,\n",
       " 'say': <gensim.models.keyedvectors.Vocab at 0x7f58a84cbc90>,\n",
       " 'main': <gensim.models.keyedvectors.Vocab at 0x7f58a84cbc10>,\n",
       " 'appeal': <gensim.models.keyedvectors.Vocab at 0x7f58a84cb1d0>,\n",
       " 'due': <gensim.models.keyedvectors.Vocab at 0x7f58a83f6f50>,\n",
       " 'fact': <gensim.models.keyedvectors.Vocab at 0x7f58a83f6f10>,\n",
       " 'go': <gensim.models.keyedvectors.Vocab at 0x7f58a83f6350>,\n",
       " 'dare.': <gensim.models.keyedvectors.Vocab at 0x7f58a83f6d90>,\n",
       " 'forget': <gensim.models.keyedvectors.Vocab at 0x7f58a83f6790>,\n",
       " 'pretty': <gensim.models.keyedvectors.Vocab at 0x7f58a83f6c10>,\n",
       " 'picture': <gensim.models.keyedvectors.Vocab at 0x7f58a83e5950>,\n",
       " 'painted': <gensim.models.keyedvectors.Vocab at 0x7f58a83e57d0>,\n",
       " 'mainstream': <gensim.models.keyedvectors.Vocab at 0x7f58a83e50d0>,\n",
       " 'audiences,': <gensim.models.keyedvectors.Vocab at 0x7f58a83e5d90>,\n",
       " 'charm,': <gensim.models.keyedvectors.Vocab at 0x7f58a83e51d0>,\n",
       " 'mess': <gensim.models.keyedvectors.Vocab at 0x7f58a83e5f10>,\n",
       " 'around.': <gensim.models.keyedvectors.Vocab at 0x7f58a83e5fd0>,\n",
       " 'ever': <gensim.models.keyedvectors.Vocab at 0x7f58a83e5d50>,\n",
       " 'saw': <gensim.models.keyedvectors.Vocab at 0x7f58c06cad50>,\n",
       " 'nasty': <gensim.models.keyedvectors.Vocab at 0x7f58a83c5910>,\n",
       " 'surreal,': <gensim.models.keyedvectors.Vocab at 0x7f58a83c5ed0>,\n",
       " 'ready': <gensim.models.keyedvectors.Vocab at 0x7f58a83c59d0>,\n",
       " 'it,': <gensim.models.keyedvectors.Vocab at 0x7f58a83c5a10>,\n",
       " 'watched': <gensim.models.keyedvectors.Vocab at 0x7f58a83c5fd0>,\n",
       " 'more,': <gensim.models.keyedvectors.Vocab at 0x7f58a83c51d0>,\n",
       " 'developed': <gensim.models.keyedvectors.Vocab at 0x7f58a83c52d0>,\n",
       " 'taste': <gensim.models.keyedvectors.Vocab at 0x7f58a83c5ad0>,\n",
       " 'oz,': <gensim.models.keyedvectors.Vocab at 0x7f58a83c5950>,\n",
       " 'got': <gensim.models.keyedvectors.Vocab at 0x7f58a83c5c90>,\n",
       " 'accustomed': <gensim.models.keyedvectors.Vocab at 0x7f58a83c5490>,\n",
       " 'level': <gensim.models.keyedvectors.Vocab at 0x7f58a83c5550>,\n",
       " 'graphic': <gensim.models.keyedvectors.Vocab at 0x7f58a83b9f50>,\n",
       " 'injustice': <gensim.models.keyedvectors.Vocab at 0x7f58a83b9650>,\n",
       " 'guard': <gensim.models.keyedvectors.Vocab at 0x7f58a83b9bd0>,\n",
       " \"who'll\": <gensim.models.keyedvectors.Vocab at 0x7f58a83dc190>,\n",
       " 'sold': <gensim.models.keyedvectors.Vocab at 0x7f58a83dc6d0>,\n",
       " 'nickel,': <gensim.models.keyedvectors.Vocab at 0x7f58a83dc590>,\n",
       " 'inmate': <gensim.models.keyedvectors.Vocab at 0x7f58a844ae90>,\n",
       " 'kill': <gensim.models.keyedvectors.Vocab at 0x7f58a844a190>,\n",
       " 'order': <gensim.models.keyedvectors.Vocab at 0x7f58a844ad10>,\n",
       " 'get': <gensim.models.keyedvectors.Vocab at 0x7f58c05d7410>,\n",
       " 'away': <gensim.models.keyedvectors.Vocab at 0x7f58a83a3310>,\n",
       " 'well': <gensim.models.keyedvectors.Vocab at 0x7f58a83a3d10>,\n",
       " 'mannered,': <gensim.models.keyedvectors.Vocab at 0x7f58a8442710>,\n",
       " 'middle': <gensim.models.keyedvectors.Vocab at 0x7f58a84427d0>,\n",
       " 'class': <gensim.models.keyedvectors.Vocab at 0x7f58a843aad0>,\n",
       " 'turned': <gensim.models.keyedvectors.Vocab at 0x7f58a843ad10>,\n",
       " 'bitch': <gensim.models.keyedvectors.Vocab at 0x7f58a844c7d0>,\n",
       " 'lack': <gensim.models.keyedvectors.Vocab at 0x7f58a844c4d0>,\n",
       " 'street': <gensim.models.keyedvectors.Vocab at 0x7f58a844cc90>,\n",
       " 'skill': <gensim.models.keyedvectors.Vocab at 0x7f58a844c8d0>,\n",
       " 'experience)': <gensim.models.keyedvectors.Vocab at 0x7f58a844ca50>,\n",
       " 'may': <gensim.models.keyedvectors.Vocab at 0x7f58a844cb50>,\n",
       " 'become': <gensim.models.keyedvectors.Vocab at 0x7f58a844cc10>,\n",
       " 'comfortable': <gensim.models.keyedvectors.Vocab at 0x7f58a844cd10>,\n",
       " 'uncomfortable': <gensim.models.keyedvectors.Vocab at 0x7f58a8455bd0>,\n",
       " 'touch': <gensim.models.keyedvectors.Vocab at 0x7f58a84553d0>,\n",
       " 'darker': <gensim.models.keyedvectors.Vocab at 0x7f58a8455890>,\n",
       " 'side.': <gensim.models.keyedvectors.Vocab at 0x7f58a83c02d0>,\n",
       " 'wonderful': <gensim.models.keyedvectors.Vocab at 0x7f58a83c0b90>,\n",
       " 'little': <gensim.models.keyedvectors.Vocab at 0x7f58a83c0c50>,\n",
       " 'production.': <gensim.models.keyedvectors.Vocab at 0x7f58a83c0890>,\n",
       " 'filming': <gensim.models.keyedvectors.Vocab at 0x7f58a83c0290>,\n",
       " 'technique': <gensim.models.keyedvectors.Vocab at 0x7f58c066ac50>,\n",
       " 'fashion': <gensim.models.keyedvectors.Vocab at 0x7f58c066a410>,\n",
       " 'give': <gensim.models.keyedvectors.Vocab at 0x7f58c066a050>,\n",
       " 'comforting,': <gensim.models.keyedvectors.Vocab at 0x7f58a83ab410>,\n",
       " 'sometimes': <gensim.models.keyedvectors.Vocab at 0x7f58a83aba10>,\n",
       " 'discomforting,': <gensim.models.keyedvectors.Vocab at 0x7f58a83e73d0>,\n",
       " 'sense': <gensim.models.keyedvectors.Vocab at 0x7f58a83e7250>,\n",
       " 'realism': <gensim.models.keyedvectors.Vocab at 0x7f58a83e7690>,\n",
       " 'entire': <gensim.models.keyedvectors.Vocab at 0x7f58a83e7b10>,\n",
       " 'piece.': <gensim.models.keyedvectors.Vocab at 0x7f58a83e70d0>,\n",
       " 'actor': <gensim.models.keyedvectors.Vocab at 0x7f58a8479110>,\n",
       " 'extremely': <gensim.models.keyedvectors.Vocab at 0x7f58a8479a50>,\n",
       " 'michael': <gensim.models.keyedvectors.Vocab at 0x7f58a839a650>,\n",
       " 'sheen': <gensim.models.keyedvectors.Vocab at 0x7f58a839a550>,\n",
       " '\"has': <gensim.models.keyedvectors.Vocab at 0x7f58a839add0>,\n",
       " 'voice': <gensim.models.keyedvectors.Vocab at 0x7f58a839a6d0>,\n",
       " 'pat': <gensim.models.keyedvectors.Vocab at 0x7f58c0678490>,\n",
       " 'too!': <gensim.models.keyedvectors.Vocab at 0x7f58c0678e50>,\n",
       " 'truly': <gensim.models.keyedvectors.Vocab at 0x7f58c0678390>,\n",
       " 'see': <gensim.models.keyedvectors.Vocab at 0x7f58c0678690>,\n",
       " 'seamless': <gensim.models.keyedvectors.Vocab at 0x7f58a8397690>,\n",
       " 'editing': <gensim.models.keyedvectors.Vocab at 0x7f58a845d9d0>,\n",
       " 'guided': <gensim.models.keyedvectors.Vocab at 0x7f58a845d350>,\n",
       " 'reference': <gensim.models.keyedvectors.Vocab at 0x7f58a83f1710>,\n",
       " \"williams'\": <gensim.models.keyedvectors.Vocab at 0x7f58a83f1cd0>,\n",
       " 'diary': <gensim.models.keyedvectors.Vocab at 0x7f58a83f1390>,\n",
       " 'entries,': <gensim.models.keyedvectors.Vocab at 0x7f58a83f1f50>,\n",
       " 'worth': <gensim.models.keyedvectors.Vocab at 0x7f58a83d9e10>,\n",
       " 'terrificly': <gensim.models.keyedvectors.Vocab at 0x7f58a83d9090>,\n",
       " 'written': <gensim.models.keyedvectors.Vocab at 0x7f58a83d9410>,\n",
       " 'performed': <gensim.models.keyedvectors.Vocab at 0x7f58a843ea90>,\n",
       " 'masterful': <gensim.models.keyedvectors.Vocab at 0x7f58a843e5d0>,\n",
       " 'production': <gensim.models.keyedvectors.Vocab at 0x7f58a843e410>,\n",
       " 'great': <gensim.models.keyedvectors.Vocab at 0x7f58a843e790>,\n",
       " \"master's\": <gensim.models.keyedvectors.Vocab at 0x7f58a843e110>,\n",
       " 'comedy': <gensim.models.keyedvectors.Vocab at 0x7f58a843e190>,\n",
       " 'life.': <gensim.models.keyedvectors.Vocab at 0x7f58a83b3410>,\n",
       " 'really': <gensim.models.keyedvectors.Vocab at 0x7f58a83b37d0>,\n",
       " 'come': <gensim.models.keyedvectors.Vocab at 0x7f58a83b3750>,\n",
       " 'things:': <gensim.models.keyedvectors.Vocab at 0x7f58a83bf410>,\n",
       " 'fantasy': <gensim.models.keyedvectors.Vocab at 0x7f58a844dad0>,\n",
       " 'which,': <gensim.models.keyedvectors.Vocab at 0x7f58a844d290>,\n",
       " 'rather': <gensim.models.keyedvectors.Vocab at 0x7f58a844d810>,\n",
       " 'traditional': <gensim.models.keyedvectors.Vocab at 0x7f58a844d350>,\n",
       " \"'dream'\": <gensim.models.keyedvectors.Vocab at 0x7f58a83d7e10>,\n",
       " 'remains': <gensim.models.keyedvectors.Vocab at 0x7f58a83d7990>,\n",
       " 'solid': <gensim.models.keyedvectors.Vocab at 0x7f58a83bc590>,\n",
       " 'disappears.': <gensim.models.keyedvectors.Vocab at 0x7f58a83bc890>,\n",
       " 'play': <gensim.models.keyedvectors.Vocab at 0x7f58a83bc610>,\n",
       " 'knowledge': <gensim.models.keyedvectors.Vocab at 0x7f58a83bce10>,\n",
       " 'senses,': <gensim.models.keyedvectors.Vocab at 0x7f58a83ac9d0>,\n",
       " 'particularly': <gensim.models.keyedvectors.Vocab at 0x7f58a83ac290>,\n",
       " 'concerning': <gensim.models.keyedvectors.Vocab at 0x7f58a83ac710>,\n",
       " 'orton': <gensim.models.keyedvectors.Vocab at 0x7f58a83e4190>,\n",
       " 'halliwell': <gensim.models.keyedvectors.Vocab at 0x7f58a83e40d0>,\n",
       " '(particularly': <gensim.models.keyedvectors.Vocab at 0x7f58a83e4a50>,\n",
       " 'flat': <gensim.models.keyedvectors.Vocab at 0x7f58a83e4b10>,\n",
       " 'mural': <gensim.models.keyedvectors.Vocab at 0x7f58a83e4ed0>,\n",
       " 'decorating': <gensim.models.keyedvectors.Vocab at 0x7f58a83e4d10>,\n",
       " 'every': <gensim.models.keyedvectors.Vocab at 0x7f58a83e4610>,\n",
       " 'surface)': <gensim.models.keyedvectors.Vocab at 0x7f58a8401b50>,\n",
       " 'terribly': <gensim.models.keyedvectors.Vocab at 0x7f58a84016d0>,\n",
       " 'done.': <gensim.models.keyedvectors.Vocab at 0x7f58a8401550>,\n",
       " 'thought': <gensim.models.keyedvectors.Vocab at 0x7f58a8401210>,\n",
       " 'way': <gensim.models.keyedvectors.Vocab at 0x7f58a8401050>,\n",
       " 'spend': <gensim.models.keyedvectors.Vocab at 0x7f58a8401650>,\n",
       " 'time': <gensim.models.keyedvectors.Vocab at 0x7f58a8461550>,\n",
       " 'hot': <gensim.models.keyedvectors.Vocab at 0x7f58a84616d0>,\n",
       " 'summer': <gensim.models.keyedvectors.Vocab at 0x7f58a8461390>,\n",
       " 'weekend,': <gensim.models.keyedvectors.Vocab at 0x7f58a8461b50>,\n",
       " 'sitting': <gensim.models.keyedvectors.Vocab at 0x7f58a8461150>,\n",
       " 'air': <gensim.models.keyedvectors.Vocab at 0x7f58a6365fd0>,\n",
       " 'conditioned': <gensim.models.keyedvectors.Vocab at 0x7f58a8470f10>,\n",
       " 'theater': <gensim.models.keyedvectors.Vocab at 0x7f58a841e5d0>,\n",
       " 'light-hearted': <gensim.models.keyedvectors.Vocab at 0x7f58a841e850>,\n",
       " 'comedy.': <gensim.models.keyedvectors.Vocab at 0x7f58a841ec90>,\n",
       " 'plot': <gensim.models.keyedvectors.Vocab at 0x7f58a8443a90>,\n",
       " 'simplistic,': <gensim.models.keyedvectors.Vocab at 0x7f58a8443450>,\n",
       " 'dialogue': <gensim.models.keyedvectors.Vocab at 0x7f58a84433d0>,\n",
       " 'witty': <gensim.models.keyedvectors.Vocab at 0x7f58a8443a50>,\n",
       " 'character': <gensim.models.keyedvectors.Vocab at 0x7f58a8443950>,\n",
       " 'likable': <gensim.models.keyedvectors.Vocab at 0x7f58a8443150>,\n",
       " '(even': <gensim.models.keyedvectors.Vocab at 0x7f58a84819d0>,\n",
       " 'bread': <gensim.models.keyedvectors.Vocab at 0x7f58a8481b50>,\n",
       " 'suspected': <gensim.models.keyedvectors.Vocab at 0x7f58a8481b90>,\n",
       " 'serial': <gensim.models.keyedvectors.Vocab at 0x7f58a8481fd0>,\n",
       " 'killer).': <gensim.models.keyedvectors.Vocab at 0x7f58a8481a50>,\n",
       " 'disappointed': <gensim.models.keyedvectors.Vocab at 0x7f58a83c48d0>,\n",
       " 'realize': <gensim.models.keyedvectors.Vocab at 0x7f58a83c4a50>,\n",
       " 'match': <gensim.models.keyedvectors.Vocab at 0x7f58a83c4f90>,\n",
       " 'point': <gensim.models.keyedvectors.Vocab at 0x7f58a83c4bd0>,\n",
       " '2:': <gensim.models.keyedvectors.Vocab at 0x7f58a83c46d0>,\n",
       " 'risk': <gensim.models.keyedvectors.Vocab at 0x7f58a83a4a10>,\n",
       " 'addiction,': <gensim.models.keyedvectors.Vocab at 0x7f58a83a43d0>,\n",
       " 'proof': <gensim.models.keyedvectors.Vocab at 0x7f58a83a4690>,\n",
       " 'woody': <gensim.models.keyedvectors.Vocab at 0x7f58a83a4210>,\n",
       " 'allen': <gensim.models.keyedvectors.Vocab at 0x7f58a83a4790>,\n",
       " 'still': <gensim.models.keyedvectors.Vocab at 0x7f58a83a4090>,\n",
       " 'fully': <gensim.models.keyedvectors.Vocab at 0x7f58a843b8d0>,\n",
       " 'control': <gensim.models.keyedvectors.Vocab at 0x7f58a843b4d0>,\n",
       " 'style': <gensim.models.keyedvectors.Vocab at 0x7f58a843b6d0>,\n",
       " 'many': <gensim.models.keyedvectors.Vocab at 0x7f58a83ede90>,\n",
       " 'u': <gensim.models.keyedvectors.Vocab at 0x7f58a83ed7d0>,\n",
       " 'grown': <gensim.models.keyedvectors.Vocab at 0x7f58a83ed1d0>,\n",
       " 'love.this': <gensim.models.keyedvectors.Vocab at 0x7f58a83edc10>,\n",
       " \"i'd\": <gensim.models.keyedvectors.Vocab at 0x7f58a8441310>,\n",
       " 'laughed': <gensim.models.keyedvectors.Vocab at 0x7f58a83d8790>,\n",
       " \"woody's\": <gensim.models.keyedvectors.Vocab at 0x7f58a83d8210>,\n",
       " 'year': <gensim.models.keyedvectors.Vocab at 0x7f58a83d8610>,\n",
       " '(dare': <gensim.models.keyedvectors.Vocab at 0x7f58a83c7bd0>,\n",
       " \"i've\": <gensim.models.keyedvectors.Vocab at 0x7f58a83c7510>,\n",
       " 'impressed': <gensim.models.keyedvectors.Vocab at 0x7f58a83c7c50>,\n",
       " 'scarlet': <gensim.models.keyedvectors.Vocab at 0x7f58a83c7990>,\n",
       " 'managed': <gensim.models.keyedvectors.Vocab at 0x7f58a83c7f50>,\n",
       " 'tone': <gensim.models.keyedvectors.Vocab at 0x7f58a83c7410>,\n",
       " '\"sexy\"': <gensim.models.keyedvectors.Vocab at 0x7f58a83c7350>,\n",
       " 'image': <gensim.models.keyedvectors.Vocab at 0x7f58a83c7b50>,\n",
       " 'jumped': <gensim.models.keyedvectors.Vocab at 0x7f58a83c7590>,\n",
       " 'average,': <gensim.models.keyedvectors.Vocab at 0x7f58a83c7490>,\n",
       " 'spirited': <gensim.models.keyedvectors.Vocab at 0x7f58c067d710>,\n",
       " 'young': <gensim.models.keyedvectors.Vocab at 0x7f58c067d850>,\n",
       " 'woman.this': <gensim.models.keyedvectors.Vocab at 0x7f58a8437050>,\n",
       " 'crown': <gensim.models.keyedvectors.Vocab at 0x7f58a8437150>,\n",
       " 'jewel': <gensim.models.keyedvectors.Vocab at 0x7f58a8437610>,\n",
       " 'career,': <gensim.models.keyedvectors.Vocab at 0x7f58a8437d10>,\n",
       " 'wittier': <gensim.models.keyedvectors.Vocab at 0x7f58a84375d0>,\n",
       " '\"devil': <gensim.models.keyedvectors.Vocab at 0x7f58a83e1a90>,\n",
       " 'wear': <gensim.models.keyedvectors.Vocab at 0x7f58a83e14d0>,\n",
       " 'prada\"': <gensim.models.keyedvectors.Vocab at 0x7f58a83e16d0>,\n",
       " 'interesting': <gensim.models.keyedvectors.Vocab at 0x7f58a83e1510>,\n",
       " '\"superman\"': <gensim.models.keyedvectors.Vocab at 0x7f58a8472990>,\n",
       " 'friends.': <gensim.models.keyedvectors.Vocab at 0x7f58a8472190>,\n",
       " 'basically': <gensim.models.keyedvectors.Vocab at 0x7f58a84728d0>,\n",
       " \"there's\": <gensim.models.keyedvectors.Vocab at 0x7f58a8472a50>,\n",
       " 'family': <gensim.models.keyedvectors.Vocab at 0x7f58c05d8110>,\n",
       " 'boy': <gensim.models.keyedvectors.Vocab at 0x7f58c0709a90>,\n",
       " '(jake)': <gensim.models.keyedvectors.Vocab at 0x7f58a8446b50>,\n",
       " 'think': <gensim.models.keyedvectors.Vocab at 0x7f58a8446e10>,\n",
       " 'zombie': <gensim.models.keyedvectors.Vocab at 0x7f58a8446f90>,\n",
       " 'closet': <gensim.models.keyedvectors.Vocab at 0x7f58a84461d0>,\n",
       " '&': <gensim.models.keyedvectors.Vocab at 0x7f58a8446050>,\n",
       " 'parent': <gensim.models.keyedvectors.Vocab at 0x7f58a8446a10>,\n",
       " 'fighting': <gensim.models.keyedvectors.Vocab at 0x7f58a8446150>,\n",
       " 'time.this': <gensim.models.keyedvectors.Vocab at 0x7f58a840ff10>,\n",
       " 'movie': <gensim.models.keyedvectors.Vocab at 0x7f58a840f810>,\n",
       " 'slower': <gensim.models.keyedvectors.Vocab at 0x7f58a840f590>,\n",
       " 'soap': <gensim.models.keyedvectors.Vocab at 0x7f58a840fb90>,\n",
       " 'suddenly,': <gensim.models.keyedvectors.Vocab at 0x7f58a8450710>,\n",
       " 'jake': <gensim.models.keyedvectors.Vocab at 0x7f58a84507d0>,\n",
       " 'decides': <gensim.models.keyedvectors.Vocab at 0x7f58a8477f90>,\n",
       " 'rambo': <gensim.models.keyedvectors.Vocab at 0x7f58a8477a90>,\n",
       " 'going': <gensim.models.keyedvectors.Vocab at 0x7f58a8477bd0>,\n",
       " 'make': <gensim.models.keyedvectors.Vocab at 0x7f58a8445150>,\n",
       " 'film': <gensim.models.keyedvectors.Vocab at 0x7f58a8445090>,\n",
       " 'must': <gensim.models.keyedvectors.Vocab at 0x7f58a8445cd0>,\n",
       " 'decide': <gensim.models.keyedvectors.Vocab at 0x7f58a8445290>,\n",
       " 'thriller': <gensim.models.keyedvectors.Vocab at 0x7f58a8464b10>,\n",
       " 'drama!': <gensim.models.keyedvectors.Vocab at 0x7f58a84640d0>,\n",
       " 'drama': <gensim.models.keyedvectors.Vocab at 0x7f58a84645d0>,\n",
       " 'watchable.': <gensim.models.keyedvectors.Vocab at 0x7f58a8464fd0>,\n",
       " 'divorcing': <gensim.models.keyedvectors.Vocab at 0x7f58a8406710>,\n",
       " 'arguing': <gensim.models.keyedvectors.Vocab at 0x7f58a83d1f90>,\n",
       " 'like': <gensim.models.keyedvectors.Vocab at 0x7f58a83d1e90>,\n",
       " 'real': <gensim.models.keyedvectors.Vocab at 0x7f58a83d1290>,\n",
       " 'totally': <gensim.models.keyedvectors.Vocab at 0x7f58a83fa650>,\n",
       " 'ruin': <gensim.models.keyedvectors.Vocab at 0x7f58a83fa990>,\n",
       " 'film!': <gensim.models.keyedvectors.Vocab at 0x7f58a83e9d90>,\n",
       " 'expected': <gensim.models.keyedvectors.Vocab at 0x7f58a83e9710>,\n",
       " 'boogeyman': <gensim.models.keyedvectors.Vocab at 0x7f58a83e9b50>,\n",
       " 'similar': <gensim.models.keyedvectors.Vocab at 0x7f58a84044d0>,\n",
       " 'movie,': <gensim.models.keyedvectors.Vocab at 0x7f58d8e71fd0>,\n",
       " 'instead': <gensim.models.keyedvectors.Vocab at 0x7f58d9af7c10>,\n",
       " 'meaningless': <gensim.models.keyedvectors.Vocab at 0x7f58a83dd6d0>,\n",
       " '10': <gensim.models.keyedvectors.Vocab at 0x7f58a83dd3d0>,\n",
       " 'playing': <gensim.models.keyedvectors.Vocab at 0x7f58a8434890>,\n",
       " 'descent': <gensim.models.keyedvectors.Vocab at 0x7f58a8434c50>,\n",
       " 'dialogs.': <gensim.models.keyedvectors.Vocab at 0x7f58a8434cd0>,\n",
       " 'shot': <gensim.models.keyedvectors.Vocab at 0x7f58a8434f50>,\n",
       " 'ignore': <gensim.models.keyedvectors.Vocab at 0x7f58a8434450>,\n",
       " 'them.': <gensim.models.keyedvectors.Vocab at 0x7f58a8434990>,\n",
       " \"mattei's\": <gensim.models.keyedvectors.Vocab at 0x7f58a8434750>,\n",
       " '\"love': <gensim.models.keyedvectors.Vocab at 0x7f58a8473c50>,\n",
       " 'money\"': <gensim.models.keyedvectors.Vocab at 0x7f58a8473850>,\n",
       " 'visually': <gensim.models.keyedvectors.Vocab at 0x7f58f7b21d50>,\n",
       " 'stunning': <gensim.models.keyedvectors.Vocab at 0x7f58c0661ed0>,\n",
       " 'watch.': <gensim.models.keyedvectors.Vocab at 0x7f58a84338d0>,\n",
       " 'mr.': <gensim.models.keyedvectors.Vocab at 0x7f58a84337d0>,\n",
       " 'mattei': <gensim.models.keyedvectors.Vocab at 0x7f58a8433a50>,\n",
       " 'offer': <gensim.models.keyedvectors.Vocab at 0x7f58a8433c50>,\n",
       " 'vivid': <gensim.models.keyedvectors.Vocab at 0x7f58a83f8990>,\n",
       " 'portrait': <gensim.models.keyedvectors.Vocab at 0x7f58a83f88d0>,\n",
       " 'human': <gensim.models.keyedvectors.Vocab at 0x7f58c05e1990>,\n",
       " 'relations.': <gensim.models.keyedvectors.Vocab at 0x7f58a8426d90>,\n",
       " 'seems': <gensim.models.keyedvectors.Vocab at 0x7f58c06a8b90>,\n",
       " 'telling': <gensim.models.keyedvectors.Vocab at 0x7f58a8461ed0>,\n",
       " 'money,': <gensim.models.keyedvectors.Vocab at 0x7f58a8461a50>,\n",
       " 'power': <gensim.models.keyedvectors.Vocab at 0x7f58a844e450>,\n",
       " 'success': <gensim.models.keyedvectors.Vocab at 0x7f58a844e410>,\n",
       " 'people': <gensim.models.keyedvectors.Vocab at 0x7f58a8439750>,\n",
       " 'different': <gensim.models.keyedvectors.Vocab at 0x7f58a84391d0>,\n",
       " 'situation': <gensim.models.keyedvectors.Vocab at 0x7f58a8439a90>,\n",
       " 'encounter.': <gensim.models.keyedvectors.Vocab at 0x7f58a8439590>,\n",
       " 'variation': <gensim.models.keyedvectors.Vocab at 0x7f58a8439e10>,\n",
       " 'arthur': <gensim.models.keyedvectors.Vocab at 0x7f58a842d850>,\n",
       " \"schnitzler's\": <gensim.models.keyedvectors.Vocab at 0x7f58a8398310>,\n",
       " 'theme,': <gensim.models.keyedvectors.Vocab at 0x7f58a83c88d0>,\n",
       " 'director': <gensim.models.keyedvectors.Vocab at 0x7f58a83c8c50>,\n",
       " 'transfer': <gensim.models.keyedvectors.Vocab at 0x7f58a83c8c90>,\n",
       " 'action': <gensim.models.keyedvectors.Vocab at 0x7f58a83c8050>,\n",
       " 'present': <gensim.models.keyedvectors.Vocab at 0x7f58a83c89d0>,\n",
       " 'new': <gensim.models.keyedvectors.Vocab at 0x7f58a83c8510>,\n",
       " 'york': <gensim.models.keyedvectors.Vocab at 0x7f58a83c8810>,\n",
       " 'meet': <gensim.models.keyedvectors.Vocab at 0x7f58a83c84d0>,\n",
       " 'connect.': <gensim.models.keyedvectors.Vocab at 0x7f58a83c81d0>,\n",
       " 'connected': <gensim.models.keyedvectors.Vocab at 0x7f58a83c8290>,\n",
       " 'way,': <gensim.models.keyedvectors.Vocab at 0x7f58a83c8610>,\n",
       " 'another': <gensim.models.keyedvectors.Vocab at 0x7f58c063ea90>,\n",
       " 'next': <gensim.models.keyedvectors.Vocab at 0x7f58a83bb3d0>,\n",
       " 'person,': <gensim.models.keyedvectors.Vocab at 0x7f58a83bb390>,\n",
       " 'know': <gensim.models.keyedvectors.Vocab at 0x7f58a83bb590>,\n",
       " 'previous': <gensim.models.keyedvectors.Vocab at 0x7f58a83bb710>,\n",
       " 'contact.': <gensim.models.keyedvectors.Vocab at 0x7f58a83db6d0>,\n",
       " 'sophisticated': <gensim.models.keyedvectors.Vocab at 0x7f58a83db650>,\n",
       " 'luxurious': <gensim.models.keyedvectors.Vocab at 0x7f58a83dbc90>,\n",
       " 'look.': <gensim.models.keyedvectors.Vocab at 0x7f58a83db690>,\n",
       " 'taken': <gensim.models.keyedvectors.Vocab at 0x7f58a8464950>,\n",
       " 'live': <gensim.models.keyedvectors.Vocab at 0x7f58a8487b10>,\n",
       " 'world': <gensim.models.keyedvectors.Vocab at 0x7f58a8487650>,\n",
       " 'soul': <gensim.models.keyedvectors.Vocab at 0x7f58a83a1bd0>,\n",
       " 'stage': <gensim.models.keyedvectors.Vocab at 0x7f58a83a16d0>,\n",
       " 'loneliness': <gensim.models.keyedvectors.Vocab at 0x7f58a847b190>,\n",
       " 'inhabits.': <gensim.models.keyedvectors.Vocab at 0x7f58a847b2d0>,\n",
       " 'big': <gensim.models.keyedvectors.Vocab at 0x7f58a847b950>,\n",
       " 'best': <gensim.models.keyedvectors.Vocab at 0x7f58a847be50>,\n",
       " 'place': <gensim.models.keyedvectors.Vocab at 0x7f58a847b150>,\n",
       " 'relation': <gensim.models.keyedvectors.Vocab at 0x7f58a83e3050>,\n",
       " 'find': <gensim.models.keyedvectors.Vocab at 0x7f58a83e3b50>,\n",
       " 'sincere': <gensim.models.keyedvectors.Vocab at 0x7f58a83ade10>,\n",
       " 'fulfillment,': <gensim.models.keyedvectors.Vocab at 0x7f58a83ad110>,\n",
       " 'case': <gensim.models.keyedvectors.Vocab at 0x7f58a83addd0>,\n",
       " 'encounter.the': <gensim.models.keyedvectors.Vocab at 0x7f58a83a0050>,\n",
       " 'acting': <gensim.models.keyedvectors.Vocab at 0x7f58a83a0d90>,\n",
       " 'good': <gensim.models.keyedvectors.Vocab at 0x7f58a8447190>,\n",
       " 'direction.': <gensim.models.keyedvectors.Vocab at 0x7f58a8447490>,\n",
       " 'steve': <gensim.models.keyedvectors.Vocab at 0x7f58a8447f10>,\n",
       " 'buscemi,': <gensim.models.keyedvectors.Vocab at 0x7f58a8447e50>,\n",
       " 'rosario': <gensim.models.keyedvectors.Vocab at 0x7f58a8447a90>,\n",
       " 'dawson,': <gensim.models.keyedvectors.Vocab at 0x7f58c05ec6d0>,\n",
       " 'carol': <gensim.models.keyedvectors.Vocab at 0x7f58a844fe10>,\n",
       " 'kane,': <gensim.models.keyedvectors.Vocab at 0x7f58a844f750>,\n",
       " 'imperioli,': <gensim.models.keyedvectors.Vocab at 0x7f58a844f610>,\n",
       " 'adrian': <gensim.models.keyedvectors.Vocab at 0x7f58a844fc10>,\n",
       " 'grenier,': <gensim.models.keyedvectors.Vocab at 0x7f58a844f310>,\n",
       " 'rest': <gensim.models.keyedvectors.Vocab at 0x7f58a844f050>,\n",
       " 'talented': <gensim.models.keyedvectors.Vocab at 0x7f58a83eb290>,\n",
       " 'cast,': <gensim.models.keyedvectors.Vocab at 0x7f58a8407110>,\n",
       " 'wish': <gensim.models.keyedvectors.Vocab at 0x7f58a8407b10>,\n",
       " 'luck': <gensim.models.keyedvectors.Vocab at 0x7f58a8407f50>,\n",
       " 'await': <gensim.models.keyedvectors.Vocab at 0x7f58a8407e90>,\n",
       " 'anxiously': <gensim.models.keyedvectors.Vocab at 0x7f58a8407750>,\n",
       " 'work.': <gensim.models.keyedvectors.Vocab at 0x7f58a8407710>,\n",
       " 'probably': <gensim.models.keyedvectors.Vocab at 0x7f58a83c3cd0>,\n",
       " 'all-time': <gensim.models.keyedvectors.Vocab at 0x7f58a83c3450>,\n",
       " 'favorite': <gensim.models.keyedvectors.Vocab at 0x7f58a83c3610>,\n",
       " 'story': <gensim.models.keyedvectors.Vocab at 0x7f58a84352d0>,\n",
       " 'selflessness,': <gensim.models.keyedvectors.Vocab at 0x7f58a8435f10>,\n",
       " 'sacrifice': <gensim.models.keyedvectors.Vocab at 0x7f58a84354d0>,\n",
       " 'dedication': <gensim.models.keyedvectors.Vocab at 0x7f58a846c2d0>,\n",
       " 'noble': <gensim.models.keyedvectors.Vocab at 0x7f58a846c7d0>,\n",
       " 'cause,': <gensim.models.keyedvectors.Vocab at 0x7f58a846c850>,\n",
       " 'preachy': <gensim.models.keyedvectors.Vocab at 0x7f58a846c4d0>,\n",
       " 'boring.': <gensim.models.keyedvectors.Vocab at 0x7f58a846cc50>,\n",
       " 'old,': <gensim.models.keyedvectors.Vocab at 0x7f58a83a72d0>,\n",
       " 'despite': <gensim.models.keyedvectors.Vocab at 0x7f58a83fb150>,\n",
       " 'seen': <gensim.models.keyedvectors.Vocab at 0x7f58a83fbf10>,\n",
       " '15': <gensim.models.keyedvectors.Vocab at 0x7f58a83fb090>,\n",
       " 'last': <gensim.models.keyedvectors.Vocab at 0x7f58a83fb850>,\n",
       " '25': <gensim.models.keyedvectors.Vocab at 0x7f58a83fb790>,\n",
       " 'years.': <gensim.models.keyedvectors.Vocab at 0x7f58a844b690>,\n",
       " 'paul': <gensim.models.keyedvectors.Vocab at 0x7f58a844b410>,\n",
       " \"lukas'\": <gensim.models.keyedvectors.Vocab at 0x7f58a839d950>,\n",
       " 'performance': <gensim.models.keyedvectors.Vocab at 0x7f58a839df90>,\n",
       " 'brings': <gensim.models.keyedvectors.Vocab at 0x7f58a839d5d0>,\n",
       " 'tear': <gensim.models.keyedvectors.Vocab at 0x7f58a839dc50>,\n",
       " 'eyes,': <gensim.models.keyedvectors.Vocab at 0x7f58a839d510>,\n",
       " 'bette': <gensim.models.keyedvectors.Vocab at 0x7f58a846d950>,\n",
       " 'davis,': <gensim.models.keyedvectors.Vocab at 0x7f58a846d210>,\n",
       " 'sympathetic': <gensim.models.keyedvectors.Vocab at 0x7f58a846d910>,\n",
       " 'roles,': <gensim.models.keyedvectors.Vocab at 0x7f58a846dc10>,\n",
       " 'delight.': <gensim.models.keyedvectors.Vocab at 0x7f58a846d0d0>,\n",
       " 'kid': <gensim.models.keyedvectors.Vocab at 0x7f58a846d6d0>,\n",
       " 'are,': <gensim.models.keyedvectors.Vocab at 0x7f58a846d7d0>,\n",
       " 'grandma': <gensim.models.keyedvectors.Vocab at 0x7f58a846db50>,\n",
       " 'says,': <gensim.models.keyedvectors.Vocab at 0x7f58a84d0cd0>,\n",
       " 'children,': <gensim.models.keyedvectors.Vocab at 0x7f58a84d0690>,\n",
       " 'fun': <gensim.models.keyedvectors.Vocab at 0x7f58a84d03d0>,\n",
       " \"mother's\": <gensim.models.keyedvectors.Vocab at 0x7f58a84d0050>,\n",
       " 'slow': <gensim.models.keyedvectors.Vocab at 0x7f58a84d0e50>,\n",
       " 'awakening': <gensim.models.keyedvectors.Vocab at 0x7f58a84d0a50>,\n",
       " \"what's\": <gensim.models.keyedvectors.Vocab at 0x7f58a83b76d0>,\n",
       " 'happening': <gensim.models.keyedvectors.Vocab at 0x7f58a83b7b10>,\n",
       " 'roof': <gensim.models.keyedvectors.Vocab at 0x7f58a83b7710>,\n",
       " 'believable': <gensim.models.keyedvectors.Vocab at 0x7f58a83b7cd0>,\n",
       " 'startling.': <gensim.models.keyedvectors.Vocab at 0x7f58a83b7590>,\n",
       " 'dozen': <gensim.models.keyedvectors.Vocab at 0x7f58a842f3d0>,\n",
       " 'thumbs,': <gensim.models.keyedvectors.Vocab at 0x7f58a842fe50>,\n",
       " \"they'd\": <gensim.models.keyedvectors.Vocab at 0x7f58a842f190>,\n",
       " '\"up\"': <gensim.models.keyedvectors.Vocab at 0x7f58a8421190>,\n",
       " 'movie.': <gensim.models.keyedvectors.Vocab at 0x7f58a8421c10>,\n",
       " 'sure': <gensim.models.keyedvectors.Vocab at 0x7f58a8421dd0>,\n",
       " 'resurrection': <gensim.models.keyedvectors.Vocab at 0x7f58a8421150>,\n",
       " 'dated': <gensim.models.keyedvectors.Vocab at 0x7f58a8421350>,\n",
       " 'seahunt': <gensim.models.keyedvectors.Vocab at 0x7f58a8421c90>,\n",
       " 'series': <gensim.models.keyedvectors.Vocab at 0x7f58a84217d0>,\n",
       " 'tech': <gensim.models.keyedvectors.Vocab at 0x7f58a8421e90>,\n",
       " 'today': <gensim.models.keyedvectors.Vocab at 0x7f58a8421f50>,\n",
       " 'bring': <gensim.models.keyedvectors.Vocab at 0x7f58a84c4e90>,\n",
       " 'back': <gensim.models.keyedvectors.Vocab at 0x7f58a84c4810>,\n",
       " 'excitement': <gensim.models.keyedvectors.Vocab at 0x7f58a84c44d0>,\n",
       " 'me.i': <gensim.models.keyedvectors.Vocab at 0x7f58a84c4590>,\n",
       " 'grew': <gensim.models.keyedvectors.Vocab at 0x7f58a83b6810>,\n",
       " 'black': <gensim.models.keyedvectors.Vocab at 0x7f58a83b6390>,\n",
       " 'white': <gensim.models.keyedvectors.Vocab at 0x7f58a83b67d0>,\n",
       " 'tv': <gensim.models.keyedvectors.Vocab at 0x7f58a83b6e10>,\n",
       " 'gunsmoke': <gensim.models.keyedvectors.Vocab at 0x7f58a83b6ad0>,\n",
       " \"hero's\": <gensim.models.keyedvectors.Vocab at 0x7f58a840c810>,\n",
       " 'vote': <gensim.models.keyedvectors.Vocab at 0x7f58c06bf390>,\n",
       " 'comeback': <gensim.models.keyedvectors.Vocab at 0x7f58a843f550>,\n",
       " 'sea': <gensim.models.keyedvectors.Vocab at 0x7f58a843f490>,\n",
       " 'need': <gensim.models.keyedvectors.Vocab at 0x7f58a843fe90>,\n",
       " 'change': <gensim.models.keyedvectors.Vocab at 0x7f58a83fcbd0>,\n",
       " 'pace': <gensim.models.keyedvectors.Vocab at 0x7f58a83fccd0>,\n",
       " 'work': <gensim.models.keyedvectors.Vocab at 0x7f58a83fcb90>,\n",
       " 'water': <gensim.models.keyedvectors.Vocab at 0x7f58a842b810>,\n",
       " 'thank': <gensim.models.keyedvectors.Vocab at 0x7f58a842be90>,\n",
       " 'outlet': <gensim.models.keyedvectors.Vocab at 0x7f58a842b750>,\n",
       " 'view': <gensim.models.keyedvectors.Vocab at 0x7f58a842b550>,\n",
       " 'viewpoint': <gensim.models.keyedvectors.Vocab at 0x7f58a842bb50>,\n",
       " 'movies.so': <gensim.models.keyedvectors.Vocab at 0x7f58a83c2850>,\n",
       " 'ole': <gensim.models.keyedvectors.Vocab at 0x7f58a83c2650>,\n",
       " 'believe': <gensim.models.keyedvectors.Vocab at 0x7f58a83c2b90>,\n",
       " 'wanna': <gensim.models.keyedvectors.Vocab at 0x7f58a83c2150>,\n",
       " 'nice': <gensim.models.keyedvectors.Vocab at 0x7f58a83ea510>,\n",
       " 'read': <gensim.models.keyedvectors.Vocab at 0x7f58a83eac10>,\n",
       " 'plus': <gensim.models.keyedvectors.Vocab at 0x7f58c0697190>,\n",
       " 'rhyme': <gensim.models.keyedvectors.Vocab at 0x7f58a84540d0>,\n",
       " 'line': <gensim.models.keyedvectors.Vocab at 0x7f58a8454790>,\n",
       " 'let': <gensim.models.keyedvectors.Vocab at 0x7f58a8454ed0>,\n",
       " 'leave': <gensim.models.keyedvectors.Vocab at 0x7f58a8454810>,\n",
       " 'doubt': <gensim.models.keyedvectors.Vocab at 0x7f58a8454b10>,\n",
       " 'it.': <gensim.models.keyedvectors.Vocab at 0x7f58a8454190>,\n",
       " 'amazing,': <gensim.models.keyedvectors.Vocab at 0x7f58a84542d0>,\n",
       " 'fresh': <gensim.models.keyedvectors.Vocab at 0x7f58a8454350>,\n",
       " 'innovative': <gensim.models.keyedvectors.Vocab at 0x7f58a83dead0>,\n",
       " 'idea': <gensim.models.keyedvectors.Vocab at 0x7f58a83dec90>,\n",
       " \"70's\": <gensim.models.keyedvectors.Vocab at 0x7f58a83de250>,\n",
       " 'aired.': <gensim.models.keyedvectors.Vocab at 0x7f58a83dec10>,\n",
       " '7': <gensim.models.keyedvectors.Vocab at 0x7f58a83de390>,\n",
       " '8': <gensim.models.keyedvectors.Vocab at 0x7f58a845c910>,\n",
       " 'brilliant,': <gensim.models.keyedvectors.Vocab at 0x7f58a845c2d0>,\n",
       " 'dropped': <gensim.models.keyedvectors.Vocab at 0x7f58a845cc50>,\n",
       " 'that.': <gensim.models.keyedvectors.Vocab at 0x7f58a845ca90>,\n",
       " '1990,': <gensim.models.keyedvectors.Vocab at 0x7f58a845ced0>,\n",
       " 'funny': <gensim.models.keyedvectors.Vocab at 0x7f58a845c9d0>,\n",
       " 'anymore,': <gensim.models.keyedvectors.Vocab at 0x7f58a83a2510>,\n",
       " 'continued': <gensim.models.keyedvectors.Vocab at 0x7f58a83a2990>,\n",
       " 'decline': <gensim.models.keyedvectors.Vocab at 0x7f58a83a20d0>,\n",
       " 'complete': <gensim.models.keyedvectors.Vocab at 0x7f58a83a2d10>,\n",
       " 'waste': <gensim.models.keyedvectors.Vocab at 0x7f58a8471850>,\n",
       " 'disgraceful': <gensim.models.keyedvectors.Vocab at 0x7f58a8471390>,\n",
       " 'fallen.': <gensim.models.keyedvectors.Vocab at 0x7f58a8471190>,\n",
       " 'writing': <gensim.models.keyedvectors.Vocab at 0x7f58a8471e90>,\n",
       " 'painfully': <gensim.models.keyedvectors.Vocab at 0x7f58a6336f90>,\n",
       " 'bad,': <gensim.models.keyedvectors.Vocab at 0x7f58c0672b50>,\n",
       " 'almost': <gensim.models.keyedvectors.Vocab at 0x7f58a8393d90>,\n",
       " 'bad': <gensim.models.keyedvectors.Vocab at 0x7f58a83930d0>,\n",
       " '-': <gensim.models.keyedvectors.Vocab at 0x7f58a83f51d0>,\n",
       " 'mildly': <gensim.models.keyedvectors.Vocab at 0x7f58a83f5ed0>,\n",
       " 'entertaining': <gensim.models.keyedvectors.Vocab at 0x7f58a83f5590>,\n",
       " 'respite': <gensim.models.keyedvectors.Vocab at 0x7f58a83f5690>,\n",
       " 'air.': <gensim.models.keyedvectors.Vocab at 0x7f58a83f5cd0>,\n",
       " 'hard': <gensim.models.keyedvectors.Vocab at 0x7f58c06bb210>,\n",
       " 'creator': <gensim.models.keyedvectors.Vocab at 0x7f58a83f3490>,\n",
       " 'original': <gensim.models.keyedvectors.Vocab at 0x7f58a83f3350>,\n",
       " 'cast': <gensim.models.keyedvectors.Vocab at 0x7f58a83f3690>,\n",
       " 'also': <gensim.models.keyedvectors.Vocab at 0x7f58a83f3410>,\n",
       " 'chose': <gensim.models.keyedvectors.Vocab at 0x7f58a83f3550>,\n",
       " 'band': <gensim.models.keyedvectors.Vocab at 0x7f58a83f3c90>,\n",
       " 'hack': <gensim.models.keyedvectors.Vocab at 0x7f58a8440b50>,\n",
       " 'followed.': <gensim.models.keyedvectors.Vocab at 0x7f58a8440a10>,\n",
       " 'recognize': <gensim.models.keyedvectors.Vocab at 0x7f58a8440110>,\n",
       " 'brilliance': <gensim.models.keyedvectors.Vocab at 0x7f58a8440dd0>,\n",
       " 'fit': <gensim.models.keyedvectors.Vocab at 0x7f58a83e0110>,\n",
       " 'replace': <gensim.models.keyedvectors.Vocab at 0x7f58a83e0f50>,\n",
       " 'mediocrity?': <gensim.models.keyedvectors.Vocab at 0x7f58a8431190>,\n",
       " 'felt': <gensim.models.keyedvectors.Vocab at 0x7f58a8431cd0>,\n",
       " '2': <gensim.models.keyedvectors.Vocab at 0x7f58a84319d0>,\n",
       " 'star': <gensim.models.keyedvectors.Vocab at 0x7f58a8431c10>,\n",
       " 'respect': <gensim.models.keyedvectors.Vocab at 0x7f58a8431a50>,\n",
       " 'made': <gensim.models.keyedvectors.Vocab at 0x7f58a83fe3d0>,\n",
       " 'huge': <gensim.models.keyedvectors.Vocab at 0x7f58a83fe750>,\n",
       " 'success.': <gensim.models.keyedvectors.Vocab at 0x7f58c0629a90>,\n",
       " 'now,': <gensim.models.keyedvectors.Vocab at 0x7f58a848ebd0>,\n",
       " 'awful.': <gensim.models.keyedvectors.Vocab at 0x7f58a848e5d0>,\n",
       " \"can't\": <gensim.models.keyedvectors.Vocab at 0x7f58a848e090>,\n",
       " 'encouraged': <gensim.models.keyedvectors.Vocab at 0x7f58a8478390>,\n",
       " 'positive': <gensim.models.keyedvectors.Vocab at 0x7f58a8478c10>,\n",
       " 'comment': <gensim.models.keyedvectors.Vocab at 0x7f58a84784d0>,\n",
       " 'looking': <gensim.models.keyedvectors.Vocab at 0x7f58a83ca090>,\n",
       " 'forward': <gensim.models.keyedvectors.Vocab at 0x7f58a83ca610>,\n",
       " 'film.': <gensim.models.keyedvectors.Vocab at 0x7f58a83ca710>,\n",
       " 'mistake.': <gensim.models.keyedvectors.Vocab at 0x7f58a83cae90>,\n",
       " 'worst': <gensim.models.keyedvectors.Vocab at 0x7f58a83ca390>,\n",
       " 'awful': <gensim.models.keyedvectors.Vocab at 0x7f58a83cac90>,\n",
       " 'way:': <gensim.models.keyedvectors.Vocab at 0x7f58a83cae10>,\n",
       " 'editing,': <gensim.models.keyedvectors.Vocab at 0x7f58a83caf50>,\n",
       " 'pacing,': <gensim.models.keyedvectors.Vocab at 0x7f58a83cad10>,\n",
       " 'storyline,': <gensim.models.keyedvectors.Vocab at 0x7f58a83ca2d0>,\n",
       " 'soundtrack': <gensim.models.keyedvectors.Vocab at 0x7f58a83cad50>,\n",
       " '(the': <gensim.models.keyedvectors.Vocab at 0x7f58a83ca490>,\n",
       " \"film's\": <gensim.models.keyedvectors.Vocab at 0x7f58a83cac10>,\n",
       " 'song': <gensim.models.keyedvectors.Vocab at 0x7f58a83ca250>,\n",
       " 'lame': <gensim.models.keyedvectors.Vocab at 0x7f58a83ca9d0>,\n",
       " 'country': <gensim.models.keyedvectors.Vocab at 0x7f58a83caed0>,\n",
       " 'tune': <gensim.models.keyedvectors.Vocab at 0x7f58a83caa90>,\n",
       " 'played': <gensim.models.keyedvectors.Vocab at 0x7f58a83cab50>,\n",
       " 'le': <gensim.models.keyedvectors.Vocab at 0x7f58a83cac50>,\n",
       " 'four': <gensim.models.keyedvectors.Vocab at 0x7f58c0642090>,\n",
       " 'times).': <gensim.models.keyedvectors.Vocab at 0x7f58a83d5d10>,\n",
       " 'look': <gensim.models.keyedvectors.Vocab at 0x7f58a83d5210>,\n",
       " 'cheap': <gensim.models.keyedvectors.Vocab at 0x7f58a83d5850>,\n",
       " 'boring': <gensim.models.keyedvectors.Vocab at 0x7f58a83d5390>,\n",
       " 'extreme.': <gensim.models.keyedvectors.Vocab at 0x7f58a83d5250>,\n",
       " 'rarely': <gensim.models.keyedvectors.Vocab at 0x7f58d4c60fd0>,\n",
       " 'happy': <gensim.models.keyedvectors.Vocab at 0x7f58c06c9810>,\n",
       " 'end': <gensim.models.keyedvectors.Vocab at 0x7f58c06c9950>,\n",
       " 'credit': <gensim.models.keyedvectors.Vocab at 0x7f58c05f3350>,\n",
       " 'prevents': <gensim.models.keyedvectors.Vocab at 0x7f58a8395dd0>,\n",
       " 'giving': <gensim.models.keyedvectors.Vocab at 0x7f58a8399d50>,\n",
       " 'harvey': <gensim.models.keyedvectors.Vocab at 0x7f58a8399650>,\n",
       " 'keitel': <gensim.models.keyedvectors.Vocab at 0x7f58a8420ad0>,\n",
       " 'least': <gensim.models.keyedvectors.Vocab at 0x7f58a84201d0>,\n",
       " 'making': <gensim.models.keyedvectors.Vocab at 0x7f58a84207d0>,\n",
       " 'bit': <gensim.models.keyedvectors.Vocab at 0x7f58a84203d0>,\n",
       " 'effort.': <gensim.models.keyedvectors.Vocab at 0x7f58a8420b90>,\n",
       " 'obsessive': <gensim.models.keyedvectors.Vocab at 0x7f58a83be490>,\n",
       " 'only.': <gensim.models.keyedvectors.Vocab at 0x7f58a83be990>,\n",
       " 'gut': <gensim.models.keyedvectors.Vocab at 0x7f58a83befd0>,\n",
       " 'wrenching': <gensim.models.keyedvectors.Vocab at 0x7f58a83bef10>,\n",
       " 'laughter': <gensim.models.keyedvectors.Vocab at 0x7f58a83be710>,\n",
       " 'old': <gensim.models.keyedvectors.Vocab at 0x7f58a8460b10>,\n",
       " 'love': <gensim.models.keyedvectors.Vocab at 0x7f58a8460cd0>,\n",
       " 'hell': <gensim.models.keyedvectors.Vocab at 0x7f58a8460590>,\n",
       " 'even': <gensim.models.keyedvectors.Vocab at 0x7f58a8460ed0>,\n",
       " 'mom': <gensim.models.keyedvectors.Vocab at 0x7f58a84601d0>,\n",
       " 'liked': <gensim.models.keyedvectors.Vocab at 0x7f58a8460d90>,\n",
       " 'it.great': <gensim.models.keyedvectors.Vocab at 0x7f58a8460390>,\n",
       " 'phil': <gensim.models.keyedvectors.Vocab at 0x7f58a84609d0>,\n",
       " 'alien': <gensim.models.keyedvectors.Vocab at 0x7f58a8460710>,\n",
       " 'quirky': <gensim.models.keyedvectors.Vocab at 0x7f58a8436410>,\n",
       " 'humour': <gensim.models.keyedvectors.Vocab at 0x7f58a8436050>,\n",
       " 'based': <gensim.models.keyedvectors.Vocab at 0x7f58a8436d50>,\n",
       " 'around': <gensim.models.keyedvectors.Vocab at 0x7f58a8436450>,\n",
       " 'oddness': <gensim.models.keyedvectors.Vocab at 0x7f58a84366d0>,\n",
       " 'everything': <gensim.models.keyedvectors.Vocab at 0x7f58a8436ad0>,\n",
       " 'actual': <gensim.models.keyedvectors.Vocab at 0x7f58a842ea10>,\n",
       " 'odd': <gensim.models.keyedvectors.Vocab at 0x7f58a842e3d0>,\n",
       " 'progressed': <gensim.models.keyedvectors.Vocab at 0x7f58a842e210>,\n",
       " 'joke': <gensim.models.keyedvectors.Vocab at 0x7f58a842e490>,\n",
       " 'low': <gensim.models.keyedvectors.Vocab at 0x7f58a842e350>,\n",
       " 'budget': <gensim.models.keyedvectors.Vocab at 0x7f58a8458450>,\n",
       " '(thats': <gensim.models.keyedvectors.Vocab at 0x7f58a8458050>,\n",
       " 'problem': <gensim.models.keyedvectors.Vocab at 0x7f58a8458690>,\n",
       " 'itself),': <gensim.models.keyedvectors.Vocab at 0x7f58a8458910>,\n",
       " 'characters,': <gensim.models.keyedvectors.Vocab at 0x7f58a8458210>,\n",
       " 'eventually': <gensim.models.keyedvectors.Vocab at 0x7f58a8458f50>,\n",
       " 'lost': <gensim.models.keyedvectors.Vocab at 0x7f58a843c510>,\n",
       " 'interest.i': <gensim.models.keyedvectors.Vocab at 0x7f58a843ce50>,\n",
       " 'imagine': <gensim.models.keyedvectors.Vocab at 0x7f58a843c710>,\n",
       " 'stoner': <gensim.models.keyedvectors.Vocab at 0x7f58a843ced0>,\n",
       " 'currently': <gensim.models.keyedvectors.Vocab at 0x7f58a843c790>,\n",
       " 'something': <gensim.models.keyedvectors.Vocab at 0x7f58a843c210>,\n",
       " 'better': <gensim.models.keyedvectors.Vocab at 0x7f58a843c410>,\n",
       " 'try': <gensim.models.keyedvectors.Vocab at 0x7f58a83e6090>,\n",
       " '\"brother': <gensim.models.keyedvectors.Vocab at 0x7f58a83e6b10>,\n",
       " 'planet\"': <gensim.models.keyedvectors.Vocab at 0x7f58a83e6f90>,\n",
       " '12': <gensim.models.keyedvectors.Vocab at 0x7f58a83e6810>,\n",
       " 'came': <gensim.models.keyedvectors.Vocab at 0x7f58a83e6b50>,\n",
       " 'out.': <gensim.models.keyedvectors.Vocab at 0x7f58a83e6390>,\n",
       " 'recall': <gensim.models.keyedvectors.Vocab at 0x7f58a83e6ad0>,\n",
       " 'scariest': <gensim.models.keyedvectors.Vocab at 0x7f58a83e6210>,\n",
       " 'bird': <gensim.models.keyedvectors.Vocab at 0x7f58a8405690>,\n",
       " 'eating': <gensim.models.keyedvectors.Vocab at 0x7f58a8405bd0>,\n",
       " 'men': <gensim.models.keyedvectors.Vocab at 0x7f58a8438f10>,\n",
       " 'dangling': <gensim.models.keyedvectors.Vocab at 0x7f58a8438650>,\n",
       " 'helplessly': <gensim.models.keyedvectors.Vocab at 0x7f58a8438690>,\n",
       " 'parachute': <gensim.models.keyedvectors.Vocab at 0x7f58a84384d0>,\n",
       " 'horror.': <gensim.models.keyedvectors.Vocab at 0x7f58a8438c90>,\n",
       " 'horror.as': <gensim.models.keyedvectors.Vocab at 0x7f58a8438150>,\n",
       " 'cheesy': <gensim.models.keyedvectors.Vocab at 0x7f58a840ead0>,\n",
       " 'b': <gensim.models.keyedvectors.Vocab at 0x7f58a840eb90>,\n",
       " 'saturday': <gensim.models.keyedvectors.Vocab at 0x7f58a840e210>,\n",
       " 'afternoons,': <gensim.models.keyedvectors.Vocab at 0x7f58a840edd0>,\n",
       " 'tired': <gensim.models.keyedvectors.Vocab at 0x7f58a8403310>,\n",
       " 'formula': <gensim.models.keyedvectors.Vocab at 0x7f58a8403750>,\n",
       " 'monster': <gensim.models.keyedvectors.Vocab at 0x7f58a8403950>,\n",
       " 'type': <gensim.models.keyedvectors.Vocab at 0x7f58a8403ed0>,\n",
       " 'usually': <gensim.models.keyedvectors.Vocab at 0x7f58a8402090>,\n",
       " 'included': <gensim.models.keyedvectors.Vocab at 0x7f58a84025d0>,\n",
       " 'hero,': <gensim.models.keyedvectors.Vocab at 0x7f58a8402a10>,\n",
       " 'beautiful': <gensim.models.keyedvectors.Vocab at 0x7f58a8402c90>,\n",
       " 'woman': <gensim.models.keyedvectors.Vocab at 0x7f58a84325d0>,\n",
       " 'might': <gensim.models.keyedvectors.Vocab at 0x7f58a8486fd0>,\n",
       " 'daughter': <gensim.models.keyedvectors.Vocab at 0x7f58a8486610>,\n",
       " 'professor': <gensim.models.keyedvectors.Vocab at 0x7f58a8486290>,\n",
       " 'resolution': <gensim.models.keyedvectors.Vocab at 0x7f58a8486e50>,\n",
       " 'died': <gensim.models.keyedvectors.Vocab at 0x7f58a8486cd0>,\n",
       " 'end.': <gensim.models.keyedvectors.Vocab at 0x7f58a8396e50>,\n",
       " 'care': <gensim.models.keyedvectors.Vocab at 0x7f58a8396f10>,\n",
       " 'much': <gensim.models.keyedvectors.Vocab at 0x7f58a8396d10>,\n",
       " 'romantic': <gensim.models.keyedvectors.Vocab at 0x7f58a8396890>,\n",
       " 'angle': <gensim.models.keyedvectors.Vocab at 0x7f58a83aa0d0>,\n",
       " 'predictable': <gensim.models.keyedvectors.Vocab at 0x7f58a83aaed0>,\n",
       " 'plots.': <gensim.models.keyedvectors.Vocab at 0x7f58a83aae50>,\n",
       " 'unintentional': <gensim.models.keyedvectors.Vocab at 0x7f58a83aadd0>,\n",
       " 'later,': <gensim.models.keyedvectors.Vocab at 0x7f58a83bad50>,\n",
       " 'psycho': <gensim.models.keyedvectors.Vocab at 0x7f58a83ba950>,\n",
       " 'loved': <gensim.models.keyedvectors.Vocab at 0x7f58a83bab90>,\n",
       " 'star,': <gensim.models.keyedvectors.Vocab at 0x7f58a83bad10>,\n",
       " 'janet': <gensim.models.keyedvectors.Vocab at 0x7f58a83ba050>,\n",
       " 'leigh,': <gensim.models.keyedvectors.Vocab at 0x7f58a83bac10>,\n",
       " 'bumped': <gensim.models.keyedvectors.Vocab at 0x7f58a83f9e10>,\n",
       " 'early': <gensim.models.keyedvectors.Vocab at 0x7f58a83b0890>,\n",
       " 'sat': <gensim.models.keyedvectors.Vocab at 0x7f58a8412a10>,\n",
       " 'took': <gensim.models.keyedvectors.Vocab at 0x7f58a8412090>,\n",
       " 'notice': <gensim.models.keyedvectors.Vocab at 0x7f58a8412a50>,\n",
       " 'point.': <gensim.models.keyedvectors.Vocab at 0x7f58a8412850>,\n",
       " 'since': <gensim.models.keyedvectors.Vocab at 0x7f58a8412d50>,\n",
       " 'screenwriter': <gensim.models.keyedvectors.Vocab at 0x7f58a8412390>,\n",
       " 'story,': <gensim.models.keyedvectors.Vocab at 0x7f58a8412cd0>,\n",
       " 'scary': <gensim.models.keyedvectors.Vocab at 0x7f58a83b8e90>,\n",
       " 'possible': <gensim.models.keyedvectors.Vocab at 0x7f58a83f4e90>,\n",
       " 'well-worn': <gensim.models.keyedvectors.Vocab at 0x7f58a83f4e10>,\n",
       " 'formula.': <gensim.models.keyedvectors.Vocab at 0x7f58a83f4810>,\n",
       " 'rules.': <gensim.models.keyedvectors.Vocab at 0x7f58a83f4610>,\n",
       " 'im': <gensim.models.keyedvectors.Vocab at 0x7f58a83f48d0>,\n",
       " 'fan': <gensim.models.keyedvectors.Vocab at 0x7f58a83f4710>,\n",
       " \"boll's\": <gensim.models.keyedvectors.Vocab at 0x7f58a83f41d0>,\n",
       " 'are.': <gensim.models.keyedvectors.Vocab at 0x7f58a83f4b90>,\n",
       " 'enjoyed': <gensim.models.keyedvectors.Vocab at 0x7f58a83d4510>,\n",
       " 'postal': <gensim.models.keyedvectors.Vocab at 0x7f58a83d4710>,\n",
       " '(maybe': <gensim.models.keyedvectors.Vocab at 0x7f58a83d4bd0>,\n",
       " 'one).': <gensim.models.keyedvectors.Vocab at 0x7f58a83d4210>,\n",
       " 'boll': <gensim.models.keyedvectors.Vocab at 0x7f58a83d4ed0>,\n",
       " 'apparently': <gensim.models.keyedvectors.Vocab at 0x7f58a83d4050>,\n",
       " 'bought': <gensim.models.keyedvectors.Vocab at 0x7f58a8488650>,\n",
       " 'cry': <gensim.models.keyedvectors.Vocab at 0x7f58a8488350>,\n",
       " 'long': <gensim.models.keyedvectors.Vocab at 0x7f58a8488750>,\n",
       " 'ago': <gensim.models.keyedvectors.Vocab at 0x7f58a8488790>,\n",
       " 'game': <gensim.models.keyedvectors.Vocab at 0x7f58a8488990>,\n",
       " 'killing': <gensim.models.keyedvectors.Vocab at 0x7f58a8488610>,\n",
       " 'infiltrating': <gensim.models.keyedvectors.Vocab at 0x7f58a8488c50>,\n",
       " 'secret': <gensim.models.keyedvectors.Vocab at 0x7f58a84886d0>,\n",
       " 'research': <gensim.models.keyedvectors.Vocab at 0x7f58a8444210>,\n",
       " 'lab': <gensim.models.keyedvectors.Vocab at 0x7f58a84449d0>,\n",
       " 'located': <gensim.models.keyedvectors.Vocab at 0x7f58a8444090>,\n",
       " 'tropical': <gensim.models.keyedvectors.Vocab at 0x7f58a8444a10>,\n",
       " 'island': <gensim.models.keyedvectors.Vocab at 0x7f58a8444310>,\n",
       " 'warned,': <gensim.models.keyedvectors.Vocab at 0x7f58a8444c50>,\n",
       " 'cry...': <gensim.models.keyedvectors.Vocab at 0x7f58a840add0>,\n",
       " 'mr': <gensim.models.keyedvectors.Vocab at 0x7f58a840a710>,\n",
       " 'together': <gensim.models.keyedvectors.Vocab at 0x7f58a840a4d0>,\n",
       " 'along': <gensim.models.keyedvectors.Vocab at 0x7f58a840afd0>,\n",
       " 'legion': <gensim.models.keyedvectors.Vocab at 0x7f58a83f7c10>,\n",
       " 'feeling': <gensim.models.keyedvectors.Vocab at 0x7f58a83f7810>,\n",
       " 'invite': <gensim.models.keyedvectors.Vocab at 0x7f58a83f7e90>,\n",
       " 'three': <gensim.models.keyedvectors.Vocab at 0x7f58a843d8d0>,\n",
       " 'countryman': <gensim.models.keyedvectors.Vocab at 0x7f58a843d510>,\n",
       " 'with.': <gensim.models.keyedvectors.Vocab at 0x7f58a843dd90>,\n",
       " 'player': <gensim.models.keyedvectors.Vocab at 0x7f58a843d910>,\n",
       " 'name': <gensim.models.keyedvectors.Vocab at 0x7f58a843dfd0>,\n",
       " 'til': <gensim.models.keyedvectors.Vocab at 0x7f58a839ba10>,\n",
       " 'schweiger,': <gensim.models.keyedvectors.Vocab at 0x7f58a839bb90>,\n",
       " 'udo': <gensim.models.keyedvectors.Vocab at 0x7f58a839b8d0>,\n",
       " 'kier': <gensim.models.keyedvectors.Vocab at 0x7f58a839b690>,\n",
       " 'ralf': <gensim.models.keyedvectors.Vocab at 0x7f58a839b0d0>,\n",
       " 'actually': <gensim.models.keyedvectors.Vocab at 0x7f58a839b910>,\n",
       " 'self': <gensim.models.keyedvectors.Vocab at 0x7f58a83d62d0>,\n",
       " 'biz.': <gensim.models.keyedvectors.Vocab at 0x7f58a83d6210>,\n",
       " 'tale': <gensim.models.keyedvectors.Vocab at 0x7f58a847ea90>,\n",
       " 'this,': <gensim.models.keyedvectors.Vocab at 0x7f58a847ef50>,\n",
       " 'jack': <gensim.models.keyedvectors.Vocab at 0x7f58a847e5d0>,\n",
       " 'carver': <gensim.models.keyedvectors.Vocab at 0x7f58a847e8d0>,\n",
       " 'schweiger': <gensim.models.keyedvectors.Vocab at 0x7f58a847ed50>,\n",
       " '(yes': <gensim.models.keyedvectors.Vocab at 0x7f58a84300d0>,\n",
       " 'german': <gensim.models.keyedvectors.Vocab at 0x7f58a8430a90>,\n",
       " 'hail': <gensim.models.keyedvectors.Vocab at 0x7f58a8430110>,\n",
       " 'bratwurst': <gensim.models.keyedvectors.Vocab at 0x7f58a8430710>,\n",
       " 'however': <gensim.models.keyedvectors.Vocab at 0x7f58a8430890>,\n",
       " 'complained': <gensim.models.keyedvectors.Vocab at 0x7f58a83e2210>,\n",
       " \"he's\": <gensim.models.keyedvectors.Vocab at 0x7f58a83e2ad0>,\n",
       " 'staying': <gensim.models.keyedvectors.Vocab at 0x7f58a83e2a10>,\n",
       " 'true': <gensim.models.keyedvectors.Vocab at 0x7f58a83e2e50>,\n",
       " 'whole': <gensim.models.keyedvectors.Vocab at 0x7f58a83e2d10>,\n",
       " 'agenda': <gensim.models.keyedvectors.Vocab at 0x7f58a83e2b50>,\n",
       " 'person': <gensim.models.keyedvectors.Vocab at 0x7f58a83bd5d0>,\n",
       " 'perspective': <gensim.models.keyedvectors.Vocab at 0x7f58a83bdf10>,\n",
       " 'looked': <gensim.models.keyedvectors.Vocab at 0x7f58a83bd6d0>,\n",
       " 'kicking': <gensim.models.keyedvectors.Vocab at 0x7f58a83bded0>,\n",
       " 'however,': <gensim.models.keyedvectors.Vocab at 0x7f58a83bd750>,\n",
       " 'storyline': <gensim.models.keyedvectors.Vocab at 0x7f58a83bd290>,\n",
       " 'beyond': <gensim.models.keyedvectors.Vocab at 0x7f58a8408a10>,\n",
       " 'demented.': <gensim.models.keyedvectors.Vocab at 0x7f58a8408c10>,\n",
       " 'evil': <gensim.models.keyedvectors.Vocab at 0x7f58a83ee950>,\n",
       " 'mad': <gensim.models.keyedvectors.Vocab at 0x7f58a83ee150>,\n",
       " 'scientist': <gensim.models.keyedvectors.Vocab at 0x7f58a83ee350>,\n",
       " 'dr.': <gensim.models.keyedvectors.Vocab at 0x7f58a83ee810>,\n",
       " 'kier,': <gensim.models.keyedvectors.Vocab at 0x7f58a83ee710>,\n",
       " 'gm': <gensim.models.keyedvectors.Vocab at 0x7f58a83ee2d0>,\n",
       " 'called.': <gensim.models.keyedvectors.Vocab at 0x7f58a83ee550>,\n",
       " 'performing': <gensim.models.keyedvectors.Vocab at 0x7f58a83eea50>,\n",
       " 'top-secret': <gensim.models.keyedvectors.Vocab at 0x7f58a83ee910>,\n",
       " 'reminds': <gensim.models.keyedvectors.Vocab at 0x7f58a83ee290>,\n",
       " '\"spoiler\"': <gensim.models.keyedvectors.Vocab at 0x7f58a8415790>,\n",
       " 'vancouver': <gensim.models.keyedvectors.Vocab at 0x7f58a8415e90>,\n",
       " 'reason.': <gensim.models.keyedvectors.Vocab at 0x7f58a8415cd0>,\n",
       " 'thats': <gensim.models.keyedvectors.Vocab at 0x7f58c0652090>,\n",
       " 'palm': <gensim.models.keyedvectors.Vocab at 0x7f58a846ea90>,\n",
       " 'tree': <gensim.models.keyedvectors.Vocab at 0x7f58a846ea10>,\n",
       " 'here.': <gensim.models.keyedvectors.Vocab at 0x7f58a846fe50>,\n",
       " 'rich': <gensim.models.keyedvectors.Vocab at 0x7f58a846f050>,\n",
       " 'gone': <gensim.models.keyedvectors.Vocab at 0x7f58a846fd10>,\n",
       " 'started': <gensim.models.keyedvectors.Vocab at 0x7f58a846f9d0>,\n",
       " 'cannot': <gensim.models.keyedvectors.Vocab at 0x7f58a846f5d0>,\n",
       " 'more..': <gensim.models.keyedvectors.Vocab at 0x7f58a83ff850>,\n",
       " 'stay': <gensim.models.keyedvectors.Vocab at 0x7f58a83ff590>,\n",
       " 'shenanigan': <gensim.models.keyedvectors.Vocab at 0x7f58a83ff490>,\n",
       " 'delivers': <gensim.models.keyedvectors.Vocab at 0x7f58a83ff7d0>,\n",
       " 'experience,': <gensim.models.keyedvectors.Vocab at 0x7f58a83ffb90>,\n",
       " 'meaning': <gensim.models.keyedvectors.Vocab at 0x7f58a83ffa50>,\n",
       " 'suck.there': <gensim.models.keyedvectors.Vocab at 0x7f58a83ff110>,\n",
       " 'mentioning': <gensim.models.keyedvectors.Vocab at 0x7f58a8424f90>,\n",
       " 'imply': <gensim.models.keyedvectors.Vocab at 0x7f58a84245d0>,\n",
       " 'area': <gensim.models.keyedvectors.Vocab at 0x7f58a8424e50>,\n",
       " 'boat': <gensim.models.keyedvectors.Vocab at 0x7f58a8424290>,\n",
       " 'scenes.': <gensim.models.keyedvectors.Vocab at 0x7f58a8424ed0>,\n",
       " 'squad': <gensim.models.keyedvectors.Vocab at 0x7f58a8425850>,\n",
       " 'enters': <gensim.models.keyedvectors.Vocab at 0x7f58a8425ad0>,\n",
       " 'laugh..': <gensim.models.keyedvectors.Vocab at 0x7f58a8425c10>,\n",
       " 'reek': <gensim.models.keyedvectors.Vocab at 0x7f58a8425190>,\n",
       " \"(that's\": <gensim.models.keyedvectors.Vocab at 0x7f58a83f0590>,\n",
       " 'poop': <gensim.models.keyedvectors.Vocab at 0x7f58a83f08d0>,\n",
       " 'take': <gensim.models.keyedvectors.Vocab at 0x7f58a83f0e50>,\n",
       " 'btw': <gensim.models.keyedvectors.Vocab at 0x7f58a83f0dd0>,\n",
       " 'annoying': <gensim.models.keyedvectors.Vocab at 0x7f58a83f0b50>,\n",
       " 'sidekick': <gensim.models.keyedvectors.Vocab at 0x7f58a83f07d0>,\n",
       " 'shoot': <gensim.models.keyedvectors.Vocab at 0x7f58a83f0f50>,\n",
       " 'minute': <gensim.models.keyedvectors.Vocab at 0x7f58a83f0410>,\n",
       " 'screen.': <gensim.models.keyedvectors.Vocab at 0x7f58a83f0090>,\n",
       " 'lost.i': <gensim.models.keyedvectors.Vocab at 0x7f58a83afbd0>,\n",
       " 'appreciate': <gensim.models.keyedvectors.Vocab at 0x7f58a83af7d0>,\n",
       " 'trying': <gensim.models.keyedvectors.Vocab at 0x7f58a83dfe90>,\n",
       " 'shakespeare': <gensim.models.keyedvectors.Vocab at 0x7f58a83df2d0>,\n",
       " 'masses,': <gensim.models.keyedvectors.Vocab at 0x7f58a83df390>,\n",
       " 'good.is': <gensim.models.keyedvectors.Vocab at 0x7f58a83df090>,\n",
       " \"'the\": <gensim.models.keyedvectors.Vocab at 0x7f58a83df8d0>,\n",
       " 'scottish': <gensim.models.keyedvectors.Vocab at 0x7f58a83a6190>,\n",
       " \"play'\": <gensim.models.keyedvectors.Vocab at 0x7f58a83a67d0>,\n",
       " 'shakespeare?': <gensim.models.keyedvectors.Vocab at 0x7f58a83ec690>,\n",
       " 'know.': <gensim.models.keyedvectors.Vocab at 0x7f58a83ec390>,\n",
       " 'certain': <gensim.models.keyedvectors.Vocab at 0x7f58a83ec150>,\n",
       " 'rev': <gensim.models.keyedvectors.Vocab at 0x7f58a83ec350>,\n",
       " '(hence': <gensim.models.keyedvectors.Vocab at 0x7f58a83eca90>,\n",
       " 'tried': <gensim.models.keyedvectors.Vocab at 0x7f58a83eca10>,\n",
       " 'victorian': <gensim.models.keyedvectors.Vocab at 0x7f58a83d3190>,\n",
       " 'era.in': <gensim.models.keyedvectors.Vocab at 0x7f58a83d3590>,\n",
       " 'words,': <gensim.models.keyedvectors.Vocab at 0x7f58a83d3b50>,\n",
       " 'improve': <gensim.models.keyedvectors.Vocab at 0x7f58a83d3110>,\n",
       " 'write': <gensim.models.keyedvectors.Vocab at 0x7f58a83d3a50>,\n",
       " 'ten': <gensim.models.keyedvectors.Vocab at 0x7f58a84102d0>,\n",
       " 'text': <gensim.models.keyedvectors.Vocab at 0x7f58a8410910>,\n",
       " '(and': <gensim.models.keyedvectors.Vocab at 0x7f58a8410310>,\n",
       " 'english': <gensim.models.keyedvectors.Vocab at 0x7f58a8410110>,\n",
       " 'composition': <gensim.models.keyedvectors.Vocab at 0x7f58a8410d50>,\n",
       " 'forte': <gensim.models.keyedvectors.Vocab at 0x7f58a8392750>,\n",
       " 'keep': <gensim.models.keyedvectors.Vocab at 0x7f58a8392b10>,\n",
       " 'saying': <gensim.models.keyedvectors.Vocab at 0x7f58a8392f50>,\n",
       " 'goes,': <gensim.models.keyedvectors.Vocab at 0x7f58a8392b90>,\n",
       " 'cut': <gensim.models.keyedvectors.Vocab at 0x7f58a8392e90>,\n",
       " 'fantastic': <gensim.models.keyedvectors.Vocab at 0x7f58a8392b50>,\n",
       " 'prisoner': <gensim.models.keyedvectors.Vocab at 0x7f58a83e8ed0>,\n",
       " 'famous.': <gensim.models.keyedvectors.Vocab at 0x7f58a83e8c90>,\n",
       " 'george': <gensim.models.keyedvectors.Vocab at 0x7f58a83e8250>,\n",
       " 'clooney': <gensim.models.keyedvectors.Vocab at 0x7f58a83e8750>,\n",
       " \"i'm\": <gensim.models.keyedvectors.Vocab at 0x7f58a83e8310>,\n",
       " 'roll': <gensim.models.keyedvectors.Vocab at 0x7f58a83e8290>,\n",
       " 'bad.': <gensim.models.keyedvectors.Vocab at 0x7f58a83e8050>,\n",
       " 'man': <gensim.models.keyedvectors.Vocab at 0x7f58a83e8b50>,\n",
       " 'constant': <gensim.models.keyedvectors.Vocab at 0x7f58a8463c90>,\n",
       " 'recommand': <gensim.models.keyedvectors.Vocab at 0x7f58a8463910>,\n",
       " 'everybody.': <gensim.models.keyedvectors.Vocab at 0x7f58a8463590>,\n",
       " 'greeting': <gensim.models.keyedvectors.Vocab at 0x7f58a8463190>,\n",
       " 'bart': <gensim.models.keyedvectors.Vocab at 0x7f58a8463610>,\n",
       " 'kind': <gensim.models.keyedvectors.Vocab at 0x7f58a8463450>,\n",
       " 'drawn': <gensim.models.keyedvectors.Vocab at 0x7f58a8463b90>,\n",
       " 'erotic': <gensim.models.keyedvectors.Vocab at 0x7f58c065c210>,\n",
       " 'scenes,': <gensim.models.keyedvectors.Vocab at 0x7f58a83dac50>,\n",
       " 'amateurish': <gensim.models.keyedvectors.Vocab at 0x7f58a83da310>,\n",
       " 'unbelievable': <gensim.models.keyedvectors.Vocab at 0x7f58a83da190>,\n",
       " 'seen.': <gensim.models.keyedvectors.Vocab at 0x7f58a8474610>,\n",
       " 'sort': <gensim.models.keyedvectors.Vocab at 0x7f58a8474850>,\n",
       " 'school': <gensim.models.keyedvectors.Vocab at 0x7f58a8474550>,\n",
       " 'project.': <gensim.models.keyedvectors.Vocab at 0x7f58a8474590>,\n",
       " 'rosanna': <gensim.models.keyedvectors.Vocab at 0x7f58a8474c50>,\n",
       " 'arquette': <gensim.models.keyedvectors.Vocab at 0x7f58a8490290>,\n",
       " 'thinking??': <gensim.models.keyedvectors.Vocab at 0x7f58a8490790>,\n",
       " 'stock': <gensim.models.keyedvectors.Vocab at 0x7f58a8468f50>,\n",
       " 'bizarre': <gensim.models.keyedvectors.Vocab at 0x7f58a84683d0>,\n",
       " 'supposed': <gensim.models.keyedvectors.Vocab at 0x7f58a8468350>,\n",
       " 'midwest': <gensim.models.keyedvectors.Vocab at 0x7f58a8468090>,\n",
       " 'town?': <gensim.models.keyedvectors.Vocab at 0x7f58a847af50>,\n",
       " 'involved': <gensim.models.keyedvectors.Vocab at 0x7f58a847a590>,\n",
       " 'one.': <gensim.models.keyedvectors.Vocab at 0x7f58a847af10>,\n",
       " 'lesson': <gensim.models.keyedvectors.Vocab at 0x7f58a847a350>,\n",
       " 'learned': <gensim.models.keyedvectors.Vocab at 0x7f58a847a910>,\n",
       " 'brilliant': <gensim.models.keyedvectors.Vocab at 0x7f58a847a490>,\n",
       " 'insights,': <gensim.models.keyedvectors.Vocab at 0x7f58a847ac90>,\n",
       " 'stilted': <gensim.models.keyedvectors.Vocab at 0x7f58a847ae90>,\n",
       " 'quite': <gensim.models.keyedvectors.Vocab at 0x7f58a847a810>,\n",
       " 'ridiculous': <gensim.models.keyedvectors.Vocab at 0x7f58a84ca610>,\n",
       " '(but': <gensim.models.keyedvectors.Vocab at 0x7f58a84c7790>,\n",
       " 'lot': <gensim.models.keyedvectors.Vocab at 0x7f58a84c7fd0>,\n",
       " 'skin,': <gensim.models.keyedvectors.Vocab at 0x7f58a84c7090>,\n",
       " 'intrigue': <gensim.models.keyedvectors.Vocab at 0x7f58a84c7190>,\n",
       " 'you)': <gensim.models.keyedvectors.Vocab at 0x7f58a84c78d0>,\n",
       " 'videotaped': <gensim.models.keyedvectors.Vocab at 0x7f58a8466bd0>,\n",
       " 'bisexual': <gensim.models.keyedvectors.Vocab at 0x7f58a8466210>,\n",
       " 'relationship,': <gensim.models.keyedvectors.Vocab at 0x7f58a8466b10>,\n",
       " 'nowhere,': <gensim.models.keyedvectors.Vocab at 0x7f58a84667d0>,\n",
       " 'heterosexual': <gensim.models.keyedvectors.Vocab at 0x7f58a8466e50>,\n",
       " 'encounters.': <gensim.models.keyedvectors.Vocab at 0x7f58a8466810>,\n",
       " 'absurd': <gensim.models.keyedvectors.Vocab at 0x7f58a8466690>,\n",
       " 'dance,': <gensim.models.keyedvectors.Vocab at 0x7f58a8453210>,\n",
       " 'everybody': <gensim.models.keyedvectors.Vocab at 0x7f58a84536d0>,\n",
       " 'stereotyped': <gensim.models.keyedvectors.Vocab at 0x7f58a8453550>,\n",
       " 'roles?': <gensim.models.keyedvectors.Vocab at 0x7f58a8453690>,\n",
       " 'pass,': <gensim.models.keyedvectors.Vocab at 0x7f58a8453510>,\n",
       " 'million': <gensim.models.keyedvectors.Vocab at 0x7f58a8414b50>,\n",
       " 'mile': <gensim.models.keyedvectors.Vocab at 0x7f58a8414e10>,\n",
       " 'wasted': <gensim.models.keyedvectors.Vocab at 0x7f58a8414210>,\n",
       " 'film,': <gensim.models.keyedvectors.Vocab at 0x7f58a8414c90>,\n",
       " 'money': <gensim.models.keyedvectors.Vocab at 0x7f58a8414f90>,\n",
       " 'could': <gensim.models.keyedvectors.Vocab at 0x7f58a8465090>,\n",
       " 'spent': <gensim.models.keyedvectors.Vocab at 0x7f58a8465d10>,\n",
       " 'starving': <gensim.models.keyedvectors.Vocab at 0x7f58a8465950>,\n",
       " 'child': <gensim.models.keyedvectors.Vocab at 0x7f58a8465750>,\n",
       " 'aid': <gensim.models.keyedvectors.Vocab at 0x7f58a8465250>,\n",
       " 'simply': <gensim.models.keyedvectors.Vocab at 0x7f58a8465c50>,\n",
       " 'remade.': <gensim.models.keyedvectors.Vocab at 0x7f58a84658d0>,\n",
       " 'fails': <gensim.models.keyedvectors.Vocab at 0x7f58a8465810>,\n",
       " 'capture': <gensim.models.keyedvectors.Vocab at 0x7f58a841a390>,\n",
       " 'flavor': <gensim.models.keyedvectors.Vocab at 0x7f58a841a910>,\n",
       " 'terror': <gensim.models.keyedvectors.Vocab at 0x7f58a841aa50>,\n",
       " '1963': <gensim.models.keyedvectors.Vocab at 0x7f58a841a350>,\n",
       " 'title.': <gensim.models.keyedvectors.Vocab at 0x7f58a84cc250>,\n",
       " 'liam': <gensim.models.keyedvectors.Vocab at 0x7f58a84ccc10>,\n",
       " 'neeson': <gensim.models.keyedvectors.Vocab at 0x7f58a84cc610>,\n",
       " 'excellent': <gensim.models.keyedvectors.Vocab at 0x7f58a84cc290>,\n",
       " 'always': <gensim.models.keyedvectors.Vocab at 0x7f58a84cc950>,\n",
       " 'is,': <gensim.models.keyedvectors.Vocab at 0x7f58a84cc350>,\n",
       " 'hold': <gensim.models.keyedvectors.Vocab at 0x7f58a84cc710>,\n",
       " 'up,': <gensim.models.keyedvectors.Vocab at 0x7f58a84ccc50>,\n",
       " 'exception': <gensim.models.keyedvectors.Vocab at 0x7f58a84cc310>,\n",
       " 'owen': <gensim.models.keyedvectors.Vocab at 0x7f58a84cc5d0>,\n",
       " 'wilson,': <gensim.models.keyedvectors.Vocab at 0x7f58a8469ad0>,\n",
       " 'feel': <gensim.models.keyedvectors.Vocab at 0x7f58a8469790>,\n",
       " 'luke.': <gensim.models.keyedvectors.Vocab at 0x7f58a8469510>,\n",
       " 'major': <gensim.models.keyedvectors.Vocab at 0x7f58a8469c50>,\n",
       " 'fault': <gensim.models.keyedvectors.Vocab at 0x7f58a848bb10>,\n",
       " 'version': <gensim.models.keyedvectors.Vocab at 0x7f58a848b610>,\n",
       " 'strayed': <gensim.models.keyedvectors.Vocab at 0x7f58a848b6d0>,\n",
       " 'shirley': <gensim.models.keyedvectors.Vocab at 0x7f58a848b4d0>,\n",
       " 'jackson': <gensim.models.keyedvectors.Vocab at 0x7f58a848be90>,\n",
       " 'attempt': <gensim.models.keyedvectors.Vocab at 0x7f58a8489c10>,\n",
       " 'grandiose': <gensim.models.keyedvectors.Vocab at 0x7f58a84898d0>,\n",
       " 'thrill': <gensim.models.keyedvectors.Vocab at 0x7f58a8489b90>,\n",
       " 'earlier': <gensim.models.keyedvectors.Vocab at 0x7f58a84896d0>,\n",
       " 'trade': <gensim.models.keyedvectors.Vocab at 0x7f58a8489750>,\n",
       " 'special': <gensim.models.keyedvectors.Vocab at 0x7f58a8462ad0>,\n",
       " 'effects.': <gensim.models.keyedvectors.Vocab at 0x7f58a8462d50>,\n",
       " 'enjoy': <gensim.models.keyedvectors.Vocab at 0x7f58a84620d0>,\n",
       " 'friction': <gensim.models.keyedvectors.Vocab at 0x7f58a8462cd0>,\n",
       " 'older': <gensim.models.keyedvectors.Vocab at 0x7f58a8462f50>,\n",
       " 'more.': <gensim.models.keyedvectors.Vocab at 0x7f58a84625d0>,\n",
       " 'top': <gensim.models.keyedvectors.Vocab at 0x7f58a848f210>,\n",
       " 'movies.': <gensim.models.keyedvectors.Vocab at 0x7f58a848fa90>,\n",
       " 'horrible.': <gensim.models.keyedvectors.Vocab at 0x7f58a848fe90>,\n",
       " 'continuous': <gensim.models.keyedvectors.Vocab at 0x7f58a8423c50>,\n",
       " 'fight': <gensim.models.keyedvectors.Vocab at 0x7f58a8423890>,\n",
       " 'another.': <gensim.models.keyedvectors.Vocab at 0x7f58a8423790>,\n",
       " 'chance': <gensim.models.keyedvectors.Vocab at 0x7f58a8423cd0>,\n",
       " 'development,': <gensim.models.keyedvectors.Vocab at 0x7f58a8480f90>,\n",
       " 'busy': <gensim.models.keyedvectors.Vocab at 0x7f58a8480850>,\n",
       " 'running': <gensim.models.keyedvectors.Vocab at 0x7f58a8480c50>,\n",
       " 'sword': <gensim.models.keyedvectors.Vocab at 0x7f58a8480050>,\n",
       " 'emotional': <gensim.models.keyedvectors.Vocab at 0x7f58a84ce190>,\n",
       " 'attachment': <gensim.models.keyedvectors.Vocab at 0x7f58a84ce550>,\n",
       " '(except': <gensim.models.keyedvectors.Vocab at 0x7f58a84ce210>,\n",
       " 'machine': <gensim.models.keyedvectors.Vocab at 0x7f58a8411e10>,\n",
       " 'wanted': <gensim.models.keyedvectors.Vocab at 0x7f58a8411910>,\n",
       " 'destroy': <gensim.models.keyedvectors.Vocab at 0x7f58a8411690>,\n",
       " 'them)': <gensim.models.keyedvectors.Vocab at 0x7f58a8411350>,\n",
       " 'blatantly': <gensim.models.keyedvectors.Vocab at 0x7f58a8411610>,\n",
       " 'stolen': <gensim.models.keyedvectors.Vocab at 0x7f58a8482290>,\n",
       " 'movies,': <gensim.models.keyedvectors.Vocab at 0x7f58a8482e50>,\n",
       " 'lotr,': <gensim.models.keyedvectors.Vocab at 0x7f58a8482610>,\n",
       " 'war': <gensim.models.keyedvectors.Vocab at 0x7f58a8482150>,\n",
       " 'matrix.': <gensim.models.keyedvectors.Vocab at 0x7f58a8482050>,\n",
       " 'ghost': <gensim.models.keyedvectors.Vocab at 0x7f58a8482d50>,\n",
       " 'final': <gensim.models.keyedvectors.Vocab at 0x7f58a8482e90>,\n",
       " 'yoda,': <gensim.models.keyedvectors.Vocab at 0x7f58a8482f50>,\n",
       " 'vader.': <gensim.models.keyedvectors.Vocab at 0x7f58a8418690>,\n",
       " '>the': <gensim.models.keyedvectors.Vocab at 0x7f58a8418210>,\n",
       " 'spider': <gensim.models.keyedvectors.Vocab at 0x7f58a84183d0>,\n",
       " 'beginning': <gensim.models.keyedvectors.Vocab at 0x7f58a8418a10>,\n",
       " 'frodo': <gensim.models.keyedvectors.Vocab at 0x7f58a8418790>,\n",
       " 'attacked': <gensim.models.keyedvectors.Vocab at 0x7f58a8418950>,\n",
       " 'return': <gensim.models.keyedvectors.Vocab at 0x7f58a8418810>,\n",
       " 'kings.': <gensim.models.keyedvectors.Vocab at 0x7f58a8418e90>,\n",
       " '(elijah': <gensim.models.keyedvectors.Vocab at 0x7f58a8418290>,\n",
       " 'wood': <gensim.models.keyedvectors.Vocab at 0x7f58a848c3d0>,\n",
       " 'victim': <gensim.models.keyedvectors.Vocab at 0x7f58a848c0d0>,\n",
       " 'films)': <gensim.models.keyedvectors.Vocab at 0x7f58a848c310>,\n",
       " 'hypnotizes': <gensim.models.keyedvectors.Vocab at 0x7f58a848c5d0>,\n",
       " 'wrap': <gensim.models.keyedvectors.Vocab at 0x7f58a848c490>,\n",
       " 'vs.': <gensim.models.keyedvectors.Vocab at 0x7f58a841d310>,\n",
       " 'theme': <gensim.models.keyedvectors.Vocab at 0x7f58a841da90>,\n",
       " 'example': <gensim.models.keyedvectors.Vocab at 0x7f58a841d890>,\n",
       " 'time?': <gensim.models.keyedvectors.Vocab at 0x7f58a841d5d0>,\n",
       " 'someone': <gensim.models.keyedvectors.Vocab at 0x7f58a841dd90>,\n",
       " 'tell': <gensim.models.keyedvectors.Vocab at 0x7f58a841da10>,\n",
       " 'juvenile': <gensim.models.keyedvectors.Vocab at 0x7f58a846b1d0>,\n",
       " 'rushed': <gensim.models.keyedvectors.Vocab at 0x7f58a846bdd0>,\n",
       " 'conclusion.': <gensim.models.keyedvectors.Vocab at 0x7f58a846bed0>,\n",
       " \"children's\": <gensim.models.keyedvectors.Vocab at 0x7f58a846bcd0>,\n",
       " 'adult': <gensim.models.keyedvectors.Vocab at 0x7f58a83a5f50>,\n",
       " 'either.': <gensim.models.keyedvectors.Vocab at 0x7f58a83a5610>,\n",
       " 'disappointment': <gensim.models.keyedvectors.Vocab at 0x7f58a83a50d0>,\n",
       " 'least.': <gensim.models.keyedvectors.Vocab at 0x7f58a83a5050>,\n",
       " 'save': <gensim.models.keyedvectors.Vocab at 0x7f58a83a5e90>,\n",
       " 'money.': <gensim.models.keyedvectors.Vocab at 0x7f58a83a5d90>,\n",
       " 'remember': <gensim.models.keyedvectors.Vocab at 0x7f58a841f950>,\n",
       " 'film,it': <gensim.models.keyedvectors.Vocab at 0x7f58a841f150>,\n",
       " 'cinema': <gensim.models.keyedvectors.Vocab at 0x7f58a841f390>,\n",
       " 'dark': <gensim.models.keyedvectors.Vocab at 0x7f58a841f990>,\n",
       " 'nervous': <gensim.models.keyedvectors.Vocab at 0x7f58a841fc10>,\n",
       " 'dad': <gensim.models.keyedvectors.Vocab at 0x7f58a841f650>,\n",
       " 'brother': <gensim.models.keyedvectors.Vocab at 0x7f58a8413c10>,\n",
       " 'sister': <gensim.models.keyedvectors.Vocab at 0x7f58a8413850>,\n",
       " ...}"
      ]
     },
     "execution_count": 169,
     "metadata": {},
     "output_type": "execute_result"
    }
   ],
   "source": [
    "model.wv.vocab"
   ]
  },
  {
   "cell_type": "code",
   "execution_count": 175,
   "id": "9503d60e",
   "metadata": {
    "colab": {
     "base_uri": "https://localhost:8080/"
    },
    "id": "9503d60e",
    "outputId": "70bbca7b-9223-44ca-8436-e32ef50a6183"
   },
   "outputs": [
    {
     "data": {
      "text/plain": [
       "array([ 0.71564454,  2.0369048 , -0.51013803,  1.5552806 ,  1.5449461 ,\n",
       "       -1.2197245 ,  0.19909085, -1.9989643 ,  0.9966204 ,  1.7857339 ,\n",
       "       -1.5894897 , -0.15150085, -0.5490741 ,  0.9575895 , -0.40758646,\n",
       "       -0.64510685,  0.7982487 ,  1.1767765 ,  0.5170048 , -1.3131657 ,\n",
       "        0.2049339 , -0.280735  ,  0.8401107 ,  1.2732075 ,  1.0147954 ,\n",
       "       -0.5162073 ,  0.28984722, -0.13154617,  0.06232799,  0.39871383,\n",
       "        0.23874955, -0.3634738 , -0.4953183 , -3.169896  , -0.08148207,\n",
       "        1.5286269 , -1.8408973 , -0.2715767 , -0.09569142, -0.5534123 ,\n",
       "       -3.1784453 ,  1.6089917 , -2.0170624 ,  0.81537354,  1.353786  ,\n",
       "       -0.44447368, -0.28890476,  2.1677153 ,  0.52364284, -0.93702316,\n",
       "        0.76454526, -2.239794  ,  0.8651669 , -0.8374311 , -1.2763067 ,\n",
       "        0.53525555,  1.7652415 ,  0.8229187 , -0.7576925 ,  1.6321949 ,\n",
       "        0.8934718 , -2.4672432 ,  1.5173857 ,  0.63045657,  0.5578915 ,\n",
       "        1.8100375 ,  2.0577362 ,  0.52882695,  0.90710425,  0.08438294,\n",
       "        0.39910758,  0.6569256 ,  2.0629616 , -0.46532476,  1.6008952 ,\n",
       "        0.5533699 , -0.4381421 ,  1.1780334 , -1.6094618 , -1.138839  ,\n",
       "        0.76774573, -2.0962303 ,  1.4778525 , -1.3480953 ,  0.34215224,\n",
       "        1.6449182 , -0.37648422,  0.1828225 ,  1.2740822 , -2.3356733 ,\n",
       "       -1.1500111 ,  0.11080529,  1.1751786 ,  1.6493311 , -1.0476143 ,\n",
       "        0.51413083,  0.35980216, -0.2999121 , -1.4178559 , -0.47538748],\n",
       "      dtype=float32)"
      ]
     },
     "execution_count": 175,
     "metadata": {},
     "output_type": "execute_result"
    }
   ],
   "source": [
    "model.wv['cinema']"
   ]
  },
  {
   "cell_type": "code",
   "execution_count": 317,
   "id": "eEdUQqd7BUL-",
   "metadata": {
    "id": "eEdUQqd7BUL-"
   },
   "outputs": [],
   "source": [
    "model.save(\"word2vec.model\")"
   ]
  },
  {
   "cell_type": "code",
   "execution_count": 3,
   "id": "nDjcKc-cD3nA",
   "metadata": {
    "id": "nDjcKc-cD3nA"
   },
   "outputs": [],
   "source": [
    "new_model = word2vec.Word2Vec.load(\"word2vec.model\")"
   ]
  },
  {
   "cell_type": "code",
   "execution_count": 5,
   "id": "VmJRVoHuD3iP",
   "metadata": {
    "colab": {
     "base_uri": "https://localhost:8080/"
    },
    "id": "VmJRVoHuD3iP",
    "outputId": "48d820f5-241f-44f6-d2d2-12d961928689"
   },
   "outputs": [
    {
     "data": {
      "text/plain": [
       "[('happy.', 0.6508349180221558),\n",
       " ('afraid', 0.6021447777748108),\n",
       " ('till', 0.5998531579971313),\n",
       " ('sad', 0.5928460359573364),\n",
       " ('wanting', 0.5913044214248657),\n",
       " ('patiently', 0.5892525315284729),\n",
       " ('upset', 0.5891013741493225),\n",
       " ('satisfied', 0.5885534882545471),\n",
       " ('waiting.', 0.5880694389343262),\n",
       " ('bitter', 0.5701492428779602)]"
      ]
     },
     "execution_count": 5,
     "metadata": {},
     "output_type": "execute_result"
    }
   ],
   "source": [
    "new_model.wv.most_similar('happy')"
   ]
  },
  {
   "cell_type": "code",
   "execution_count": null,
   "id": "7WCDYt_hD3ci",
   "metadata": {
    "id": "7WCDYt_hD3ci"
   },
   "outputs": [],
   "source": []
  },
  {
   "cell_type": "code",
   "execution_count": 188,
   "id": "a938e61d",
   "metadata": {
    "id": "a938e61d"
   },
   "outputs": [],
   "source": [
    "def avgWord2Vec(word_list):\n",
    "\n",
    "    length = len(word_list)\n",
    "    sum = np.zeros(100)\n",
    "\n",
    "    for word in word_list:\n",
    "        if word in model.wv.vocab:\n",
    "            sum = sum + model.wv[word]\n",
    "    sum = sum/length\n",
    "    return sum"
   ]
  },
  {
   "cell_type": "code",
   "execution_count": 190,
   "id": "5d40a63d",
   "metadata": {
    "id": "5d40a63d"
   },
   "outputs": [],
   "source": [
    "df['text'] = df['review'].apply(lambda x : avgWord2Vec(x))"
   ]
  },
  {
   "cell_type": "code",
   "execution_count": 191,
   "id": "56dabc16",
   "metadata": {
    "colab": {
     "base_uri": "https://localhost:8080/"
    },
    "id": "56dabc16",
    "outputId": "425926d0-e3a9-488a-c0b0-58e0f99bf62e"
   },
   "outputs": [
    {
     "data": {
      "text/plain": [
       "0    [0.38169972102817457, -0.24737755199714143, -0...\n",
       "1    [0.09291415535256095, -0.1847791397735348, -0....\n",
       "2    [0.3936858545761382, -0.22136432832637584, -0....\n",
       "3    [0.37759725227952, -0.3024542321690076, -0.151...\n",
       "4    [0.23477347803581505, -0.3566759927216917, 0.1...\n",
       "Name: text, dtype: object"
      ]
     },
     "execution_count": 191,
     "metadata": {},
     "output_type": "execute_result"
    }
   ],
   "source": [
    "df['text'].head()"
   ]
  },
  {
   "cell_type": "code",
   "execution_count": 193,
   "id": "SJ1aAEb65O6N",
   "metadata": {
    "id": "SJ1aAEb65O6N"
   },
   "outputs": [],
   "source": [
    "df['label'] = df['sentiment'].map({'positive':1, 'negative':0})"
   ]
  },
  {
   "cell_type": "code",
   "execution_count": 209,
   "id": "whmHeMrH5zgV",
   "metadata": {
    "id": "whmHeMrH5zgV"
   },
   "outputs": [],
   "source": [
    "X = np.array([ x for x in df['text']])"
   ]
  },
  {
   "cell_type": "code",
   "execution_count": 210,
   "id": "xSD1gmCz681d",
   "metadata": {
    "colab": {
     "base_uri": "https://localhost:8080/"
    },
    "id": "xSD1gmCz681d",
    "outputId": "fdfd19b5-2e84-4f36-992f-713a41e41a95"
   },
   "outputs": [
    {
     "data": {
      "text/plain": [
       "(50000, 100)"
      ]
     },
     "execution_count": 210,
     "metadata": {},
     "output_type": "execute_result"
    }
   ],
   "source": [
    "X.shape"
   ]
  },
  {
   "cell_type": "code",
   "execution_count": 211,
   "id": "1af88143",
   "metadata": {
    "id": "1af88143"
   },
   "outputs": [],
   "source": [
    "# Now model training and testing the datas\n",
    "y = df['label']\n",
    "from sklearn.model_selection import train_test_split\n",
    "X_train, X_test, y_train , y_test = train_test_split(X, y, test_size = 0.2, random_state = 50)"
   ]
  },
  {
   "cell_type": "code",
   "execution_count": 217,
   "id": "9kbkVsD17MHK",
   "metadata": {
    "colab": {
     "base_uri": "https://localhost:8080/"
    },
    "id": "9kbkVsD17MHK",
    "outputId": "de734ba1-9835-4c5f-d765-d6fcb45049a1"
   },
   "outputs": [
    {
     "data": {
      "text/plain": [
       "((40000, 100), (40000,))"
      ]
     },
     "execution_count": 217,
     "metadata": {},
     "output_type": "execute_result"
    }
   ],
   "source": [
    "X_train.shape, y_train.shape"
   ]
  },
  {
   "cell_type": "code",
   "execution_count": 308,
   "id": "59cba476",
   "metadata": {
    "id": "59cba476"
   },
   "outputs": [],
   "source": [
    "from sklearn.naive_bayes import GaussianNB, MultinomialNB\n",
    "from sklearn.linear_model import LogisticRegression\n",
    "from sklearn.ensemble import RandomForestClassifier\n",
    "from sklearn.svm import SVC\n",
    "from sklearn.preprocessing import StandardScaler, MinMaxScaler"
   ]
  },
  {
   "cell_type": "code",
   "execution_count": 309,
   "id": "fc98042e",
   "metadata": {
    "id": "fc98042e"
   },
   "outputs": [],
   "source": [
    "md = LogisticRegression()"
   ]
  },
  {
   "cell_type": "code",
   "execution_count": 310,
   "id": "348cc4b6",
   "metadata": {
    "colab": {
     "base_uri": "https://localhost:8080/"
    },
    "id": "348cc4b6",
    "outputId": "8b453d5d-d0da-4519-fae4-1deac9c8097c"
   },
   "outputs": [
    {
     "name": "stderr",
     "output_type": "stream",
     "text": [
      "/usr/local/lib/python3.7/dist-packages/sklearn/linear_model/_logistic.py:818: ConvergenceWarning: lbfgs failed to converge (status=1):\n",
      "STOP: TOTAL NO. of ITERATIONS REACHED LIMIT.\n",
      "\n",
      "Increase the number of iterations (max_iter) or scale the data as shown in:\n",
      "    https://scikit-learn.org/stable/modules/preprocessing.html\n",
      "Please also refer to the documentation for alternative solver options:\n",
      "    https://scikit-learn.org/stable/modules/linear_model.html#logistic-regression\n",
      "  extra_warning_msg=_LOGISTIC_SOLVER_CONVERGENCE_MSG,\n"
     ]
    },
    {
     "data": {
      "text/plain": [
       "LogisticRegression()"
      ]
     },
     "execution_count": 310,
     "metadata": {},
     "output_type": "execute_result"
    }
   ],
   "source": [
    "md.fit(X_train, y_train)"
   ]
  },
  {
   "cell_type": "code",
   "execution_count": 311,
   "id": "dde7153b",
   "metadata": {
    "id": "dde7153b"
   },
   "outputs": [],
   "source": [
    "pred = md.predict(X_test)"
   ]
  },
  {
   "cell_type": "code",
   "execution_count": 312,
   "id": "hgLZ4OGv-Iuj",
   "metadata": {
    "id": "hgLZ4OGv-Iuj"
   },
   "outputs": [],
   "source": [
    "from sklearn.metrics import accuracy_score, confusion_matrix"
   ]
  },
  {
   "cell_type": "code",
   "execution_count": 313,
   "id": "ezvfBWW48atQ",
   "metadata": {
    "colab": {
     "base_uri": "https://localhost:8080/"
    },
    "id": "ezvfBWW48atQ",
    "outputId": "9d7daa73-0b7c-4870-c9d5-ad4a4baa7d1b"
   },
   "outputs": [
    {
     "name": "stdout",
     "output_type": "stream",
     "text": [
      "Accuracy :  0.8403\n"
     ]
    }
   ],
   "source": [
    "print(\"Accuracy : \", accuracy_score(pred, y_test))"
   ]
  },
  {
   "cell_type": "code",
   "execution_count": 314,
   "id": "Zz54TES08aog",
   "metadata": {
    "colab": {
     "base_uri": "https://localhost:8080/"
    },
    "id": "Zz54TES08aog",
    "outputId": "ae6b7767-17d0-4767-c712-ef3fdb42d459"
   },
   "outputs": [
    {
     "name": "stdout",
     "output_type": "stream",
     "text": [
      "[[4169  730]\n",
      " [ 867 4234]]\n"
     ]
    }
   ],
   "source": [
    "print(confusion_matrix(pred, y_test))"
   ]
  },
  {
   "cell_type": "code",
   "execution_count": 315,
   "id": "NFT5H_j4-mUR",
   "metadata": {
    "id": "NFT5H_j4-mUR"
   },
   "outputs": [],
   "source": [
    "pred_train = md.predict(X_train)"
   ]
  },
  {
   "cell_type": "code",
   "execution_count": 316,
   "id": "UDYtqh1WAfU3",
   "metadata": {
    "colab": {
     "base_uri": "https://localhost:8080/"
    },
    "id": "UDYtqh1WAfU3",
    "outputId": "d34f6ac7-6102-40d8-a027-ce0d92f37753"
   },
   "outputs": [
    {
     "name": "stdout",
     "output_type": "stream",
     "text": [
      "Accuracy :  0.844225\n"
     ]
    }
   ],
   "source": [
    "print(\"Accuracy : \", accuracy_score(pred_train, y_train))"
   ]
  },
  {
   "cell_type": "code",
   "execution_count": null,
   "id": "6wXYDU4OD2Fr",
   "metadata": {
    "id": "6wXYDU4OD2Fr"
   },
   "outputs": [],
   "source": []
  }
 ],
 "metadata": {
  "colab": {
   "collapsed_sections": [],
   "name": "main.ipynb",
   "provenance": []
  },
  "kernelspec": {
   "display_name": "Python 3 (ipykernel)",
   "language": "python",
   "name": "python3"
  },
  "language_info": {
   "codemirror_mode": {
    "name": "ipython",
    "version": 3
   },
   "file_extension": ".py",
   "mimetype": "text/x-python",
   "name": "python",
   "nbconvert_exporter": "python",
   "pygments_lexer": "ipython3",
   "version": "3.10.3"
  }
 },
 "nbformat": 4,
 "nbformat_minor": 5
}
