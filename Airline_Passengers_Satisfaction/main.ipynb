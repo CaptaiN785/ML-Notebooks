{
 "cells": [
  {
   "cell_type": "code",
   "execution_count": 64,
   "id": "a70b12b4",
   "metadata": {},
   "outputs": [],
   "source": [
    "import pandas as pd\n",
    "import numpy as np\n",
    "import matplotlib.pyplot as plt\n",
    "import seaborn as sns\n",
    "%matplotlib inline"
   ]
  },
  {
   "cell_type": "code",
   "execution_count": 65,
   "id": "fa1dce59",
   "metadata": {},
   "outputs": [],
   "source": [
    "df = pd.read_csv('airline_passenger_satisfaction.csv')"
   ]
  },
  {
   "cell_type": "code",
   "execution_count": 66,
   "id": "d6594172",
   "metadata": {},
   "outputs": [
    {
     "data": {
      "text/html": [
       "<div>\n",
       "<style scoped>\n",
       "    .dataframe tbody tr th:only-of-type {\n",
       "        vertical-align: middle;\n",
       "    }\n",
       "\n",
       "    .dataframe tbody tr th {\n",
       "        vertical-align: top;\n",
       "    }\n",
       "\n",
       "    .dataframe thead th {\n",
       "        text-align: right;\n",
       "    }\n",
       "</style>\n",
       "<table border=\"1\" class=\"dataframe\">\n",
       "  <thead>\n",
       "    <tr style=\"text-align: right;\">\n",
       "      <th></th>\n",
       "      <th>ID</th>\n",
       "      <th>Gender</th>\n",
       "      <th>Age</th>\n",
       "      <th>Customer Type</th>\n",
       "      <th>Type of Travel</th>\n",
       "      <th>Class</th>\n",
       "      <th>Flight Distance</th>\n",
       "      <th>Departure Delay</th>\n",
       "      <th>Arrival Delay</th>\n",
       "      <th>Departure and Arrival Time Convenience</th>\n",
       "      <th>...</th>\n",
       "      <th>On-board Service</th>\n",
       "      <th>Seat Comfort</th>\n",
       "      <th>Leg Room Service</th>\n",
       "      <th>Cleanliness</th>\n",
       "      <th>Food and Drink</th>\n",
       "      <th>In-flight Service</th>\n",
       "      <th>In-flight Wifi Service</th>\n",
       "      <th>In-flight Entertainment</th>\n",
       "      <th>Baggage Handling</th>\n",
       "      <th>Satisfaction</th>\n",
       "    </tr>\n",
       "  </thead>\n",
       "  <tbody>\n",
       "    <tr>\n",
       "      <th>0</th>\n",
       "      <td>1</td>\n",
       "      <td>Male</td>\n",
       "      <td>48</td>\n",
       "      <td>First-time</td>\n",
       "      <td>Business</td>\n",
       "      <td>Business</td>\n",
       "      <td>821</td>\n",
       "      <td>2</td>\n",
       "      <td>5.0</td>\n",
       "      <td>3</td>\n",
       "      <td>...</td>\n",
       "      <td>3</td>\n",
       "      <td>5</td>\n",
       "      <td>2</td>\n",
       "      <td>5</td>\n",
       "      <td>5</td>\n",
       "      <td>5</td>\n",
       "      <td>3</td>\n",
       "      <td>5</td>\n",
       "      <td>5</td>\n",
       "      <td>Neutral or Dissatisfied</td>\n",
       "    </tr>\n",
       "    <tr>\n",
       "      <th>1</th>\n",
       "      <td>2</td>\n",
       "      <td>Female</td>\n",
       "      <td>35</td>\n",
       "      <td>Returning</td>\n",
       "      <td>Business</td>\n",
       "      <td>Business</td>\n",
       "      <td>821</td>\n",
       "      <td>26</td>\n",
       "      <td>39.0</td>\n",
       "      <td>2</td>\n",
       "      <td>...</td>\n",
       "      <td>5</td>\n",
       "      <td>4</td>\n",
       "      <td>5</td>\n",
       "      <td>5</td>\n",
       "      <td>3</td>\n",
       "      <td>5</td>\n",
       "      <td>2</td>\n",
       "      <td>5</td>\n",
       "      <td>5</td>\n",
       "      <td>Satisfied</td>\n",
       "    </tr>\n",
       "    <tr>\n",
       "      <th>2</th>\n",
       "      <td>3</td>\n",
       "      <td>Male</td>\n",
       "      <td>41</td>\n",
       "      <td>Returning</td>\n",
       "      <td>Business</td>\n",
       "      <td>Business</td>\n",
       "      <td>853</td>\n",
       "      <td>0</td>\n",
       "      <td>0.0</td>\n",
       "      <td>4</td>\n",
       "      <td>...</td>\n",
       "      <td>3</td>\n",
       "      <td>5</td>\n",
       "      <td>3</td>\n",
       "      <td>5</td>\n",
       "      <td>5</td>\n",
       "      <td>3</td>\n",
       "      <td>4</td>\n",
       "      <td>3</td>\n",
       "      <td>3</td>\n",
       "      <td>Satisfied</td>\n",
       "    </tr>\n",
       "    <tr>\n",
       "      <th>3</th>\n",
       "      <td>4</td>\n",
       "      <td>Male</td>\n",
       "      <td>50</td>\n",
       "      <td>Returning</td>\n",
       "      <td>Business</td>\n",
       "      <td>Business</td>\n",
       "      <td>1905</td>\n",
       "      <td>0</td>\n",
       "      <td>0.0</td>\n",
       "      <td>2</td>\n",
       "      <td>...</td>\n",
       "      <td>5</td>\n",
       "      <td>5</td>\n",
       "      <td>5</td>\n",
       "      <td>4</td>\n",
       "      <td>4</td>\n",
       "      <td>5</td>\n",
       "      <td>2</td>\n",
       "      <td>5</td>\n",
       "      <td>5</td>\n",
       "      <td>Satisfied</td>\n",
       "    </tr>\n",
       "    <tr>\n",
       "      <th>4</th>\n",
       "      <td>5</td>\n",
       "      <td>Female</td>\n",
       "      <td>49</td>\n",
       "      <td>Returning</td>\n",
       "      <td>Business</td>\n",
       "      <td>Business</td>\n",
       "      <td>3470</td>\n",
       "      <td>0</td>\n",
       "      <td>1.0</td>\n",
       "      <td>3</td>\n",
       "      <td>...</td>\n",
       "      <td>3</td>\n",
       "      <td>4</td>\n",
       "      <td>4</td>\n",
       "      <td>5</td>\n",
       "      <td>4</td>\n",
       "      <td>3</td>\n",
       "      <td>3</td>\n",
       "      <td>3</td>\n",
       "      <td>3</td>\n",
       "      <td>Satisfied</td>\n",
       "    </tr>\n",
       "  </tbody>\n",
       "</table>\n",
       "<p>5 rows × 24 columns</p>\n",
       "</div>"
      ],
      "text/plain": [
       "   ID  Gender  Age Customer Type Type of Travel     Class  Flight Distance  \\\n",
       "0   1    Male   48    First-time       Business  Business              821   \n",
       "1   2  Female   35     Returning       Business  Business              821   \n",
       "2   3    Male   41     Returning       Business  Business              853   \n",
       "3   4    Male   50     Returning       Business  Business             1905   \n",
       "4   5  Female   49     Returning       Business  Business             3470   \n",
       "\n",
       "   Departure Delay  Arrival Delay  Departure and Arrival Time Convenience  \\\n",
       "0                2            5.0                                       3   \n",
       "1               26           39.0                                       2   \n",
       "2                0            0.0                                       4   \n",
       "3                0            0.0                                       2   \n",
       "4                0            1.0                                       3   \n",
       "\n",
       "   ...  On-board Service  Seat Comfort  Leg Room Service  Cleanliness  \\\n",
       "0  ...                 3             5                 2            5   \n",
       "1  ...                 5             4                 5            5   \n",
       "2  ...                 3             5                 3            5   \n",
       "3  ...                 5             5                 5            4   \n",
       "4  ...                 3             4                 4            5   \n",
       "\n",
       "   Food and Drink  In-flight Service  In-flight Wifi Service  \\\n",
       "0               5                  5                       3   \n",
       "1               3                  5                       2   \n",
       "2               5                  3                       4   \n",
       "3               4                  5                       2   \n",
       "4               4                  3                       3   \n",
       "\n",
       "   In-flight Entertainment  Baggage Handling             Satisfaction  \n",
       "0                        5                 5  Neutral or Dissatisfied  \n",
       "1                        5                 5                Satisfied  \n",
       "2                        3                 3                Satisfied  \n",
       "3                        5                 5                Satisfied  \n",
       "4                        3                 3                Satisfied  \n",
       "\n",
       "[5 rows x 24 columns]"
      ]
     },
     "execution_count": 66,
     "metadata": {},
     "output_type": "execute_result"
    }
   ],
   "source": [
    "df.head()"
   ]
  },
  {
   "cell_type": "code",
   "execution_count": 67,
   "id": "e6037487",
   "metadata": {},
   "outputs": [
    {
     "data": {
      "text/plain": [
       "Index(['ID', 'Gender', 'Age', 'Customer Type', 'Type of Travel', 'Class',\n",
       "       'Flight Distance', 'Departure Delay', 'Arrival Delay',\n",
       "       'Departure and Arrival Time Convenience', 'Ease of Online Booking',\n",
       "       'Check-in Service', 'Online Boarding', 'Gate Location',\n",
       "       'On-board Service', 'Seat Comfort', 'Leg Room Service', 'Cleanliness',\n",
       "       'Food and Drink', 'In-flight Service', 'In-flight Wifi Service',\n",
       "       'In-flight Entertainment', 'Baggage Handling', 'Satisfaction'],\n",
       "      dtype='object')"
      ]
     },
     "execution_count": 67,
     "metadata": {},
     "output_type": "execute_result"
    }
   ],
   "source": [
    "df.columns"
   ]
  },
  {
   "cell_type": "code",
   "execution_count": 68,
   "id": "c1a821d8",
   "metadata": {},
   "outputs": [
    {
     "data": {
      "text/plain": [
       "array(['Neutral or Dissatisfied', 'Satisfied'], dtype=object)"
      ]
     },
     "execution_count": 68,
     "metadata": {},
     "output_type": "execute_result"
    }
   ],
   "source": [
    "df.Satisfaction.unique()"
   ]
  },
  {
   "cell_type": "markdown",
   "id": "dd5aa24d",
   "metadata": {},
   "source": [
    "- ID is unique so, it is of no use\n",
    "- Droping the ID columns"
   ]
  },
  {
   "cell_type": "code",
   "execution_count": 69,
   "id": "90d6bbb6",
   "metadata": {},
   "outputs": [],
   "source": [
    "df.drop(\"ID\", axis = 1, inplace = True)"
   ]
  },
  {
   "cell_type": "code",
   "execution_count": 70,
   "id": "43712004",
   "metadata": {},
   "outputs": [
    {
     "data": {
      "text/plain": [
       "(129880, 23)"
      ]
     },
     "execution_count": 70,
     "metadata": {},
     "output_type": "execute_result"
    }
   ],
   "source": [
    "df.shape"
   ]
  },
  {
   "cell_type": "markdown",
   "id": "2449fee2",
   "metadata": {},
   "source": [
    "## Missing Values"
   ]
  },
  {
   "cell_type": "code",
   "execution_count": 71,
   "id": "a406e1a1",
   "metadata": {
    "scrolled": true
   },
   "outputs": [
    {
     "data": {
      "text/plain": [
       "Gender                                      0\n",
       "Age                                         0\n",
       "Customer Type                               0\n",
       "Type of Travel                              0\n",
       "Class                                       0\n",
       "Flight Distance                             0\n",
       "Departure Delay                             0\n",
       "Arrival Delay                             393\n",
       "Departure and Arrival Time Convenience      0\n",
       "Ease of Online Booking                      0\n",
       "Check-in Service                            0\n",
       "Online Boarding                             0\n",
       "Gate Location                               0\n",
       "On-board Service                            0\n",
       "Seat Comfort                                0\n",
       "Leg Room Service                            0\n",
       "Cleanliness                                 0\n",
       "Food and Drink                              0\n",
       "In-flight Service                           0\n",
       "In-flight Wifi Service                      0\n",
       "In-flight Entertainment                     0\n",
       "Baggage Handling                            0\n",
       "Satisfaction                                0\n",
       "dtype: int64"
      ]
     },
     "execution_count": 71,
     "metadata": {},
     "output_type": "execute_result"
    }
   ],
   "source": [
    "df.isna().sum()"
   ]
  },
  {
   "cell_type": "code",
   "execution_count": 72,
   "id": "853763f6",
   "metadata": {},
   "outputs": [
    {
     "name": "stderr",
     "output_type": "stream",
     "text": [
      "C:\\Users\\USER\\AppData\\Local\\Programs\\Python\\Python310\\lib\\site-packages\\seaborn\\distributions.py:2619: FutureWarning: `distplot` is a deprecated function and will be removed in a future version. Please adapt your code to use either `displot` (a figure-level function with similar flexibility) or `histplot` (an axes-level function for histograms).\n",
      "  warnings.warn(msg, FutureWarning)\n"
     ]
    },
    {
     "data": {
      "text/plain": [
       "<AxesSubplot:xlabel='Arrival Delay', ylabel='Density'>"
      ]
     },
     "execution_count": 72,
     "metadata": {},
     "output_type": "execute_result"
    },
    {
     "data": {
      "image/png": "[encoded data removed]",
      "text/plain": [
       "<Figure size 432x288 with 1 Axes>"
      ]
     },
     "metadata": {
      "needs_background": "light"
     },
     "output_type": "display_data"
    }
   ],
   "source": [
    "sns.distplot(a=df['Arrival Delay'])"
   ]
  },
  {
   "cell_type": "markdown",
   "id": "72411521",
   "metadata": {},
   "source": [
    "- Majority is with 0 waiting time\n",
    "- so I will fill the arrival time with 0"
   ]
  },
  {
   "cell_type": "code",
   "execution_count": 73,
   "id": "5468fd99",
   "metadata": {},
   "outputs": [],
   "source": [
    "df['Arrival Delay'] = df['Arrival Delay'].fillna(0)"
   ]
  },
  {
   "cell_type": "code",
   "execution_count": 74,
   "id": "fd038af3",
   "metadata": {},
   "outputs": [
    {
     "data": {
      "text/plain": [
       "array(['Neutral or Dissatisfied', 'Satisfied'], dtype=object)"
      ]
     },
     "execution_count": 74,
     "metadata": {},
     "output_type": "execute_result"
    }
   ],
   "source": [
    "# Converting the target columns into integer valueable\n",
    "df['Satisfaction'].unique()"
   ]
  },
  {
   "cell_type": "code",
   "execution_count": 75,
   "id": "71eb7680",
   "metadata": {},
   "outputs": [],
   "source": [
    "df['Satisfaction'] = df['Satisfaction'].map({'Satisfied': 1, 'Neutral or Dissatisfied':0})"
   ]
  },
  {
   "cell_type": "code",
   "execution_count": 76,
   "id": "00b30ea1",
   "metadata": {},
   "outputs": [
    {
     "data": {
      "text/plain": [
       "array([0, 1], dtype=int64)"
      ]
     },
     "execution_count": 76,
     "metadata": {},
     "output_type": "execute_result"
    }
   ],
   "source": [
    "df['Satisfaction'].unique()"
   ]
  },
  {
   "cell_type": "markdown",
   "id": "404fe3f6",
   "metadata": {},
   "source": [
    "# EDA and Feature selection"
   ]
  },
  {
   "cell_type": "code",
   "execution_count": 77,
   "id": "41fdc5e9",
   "metadata": {},
   "outputs": [
    {
     "name": "stdout",
     "output_type": "stream",
     "text": [
      "<class 'pandas.core.frame.DataFrame'>\n",
      "RangeIndex: 129880 entries, 0 to 129879\n",
      "Data columns (total 23 columns):\n",
      " #   Column                                  Non-Null Count   Dtype  \n",
      "---  ------                                  --------------   -----  \n",
      " 0   Gender                                  129880 non-null  object \n",
      " 1   Age                                     129880 non-null  int64  \n",
      " 2   Customer Type                           129880 non-null  object \n",
      " 3   Type of Travel                          129880 non-null  object \n",
      " 4   Class                                   129880 non-null  object \n",
      " 5   Flight Distance                         129880 non-null  int64  \n",
      " 6   Departure Delay                         129880 non-null  int64  \n",
      " 7   Arrival Delay                           129880 non-null  float64\n",
      " 8   Departure and Arrival Time Convenience  129880 non-null  int64  \n",
      " 9   Ease of Online Booking                  129880 non-null  int64  \n",
      " 10  Check-in Service                        129880 non-null  int64  \n",
      " 11  Online Boarding                         129880 non-null  int64  \n",
      " 12  Gate Location                           129880 non-null  int64  \n",
      " 13  On-board Service                        129880 non-null  int64  \n",
      " 14  Seat Comfort                            129880 non-null  int64  \n",
      " 15  Leg Room Service                        129880 non-null  int64  \n",
      " 16  Cleanliness                             129880 non-null  int64  \n",
      " 17  Food and Drink                          129880 non-null  int64  \n",
      " 18  In-flight Service                       129880 non-null  int64  \n",
      " 19  In-flight Wifi Service                  129880 non-null  int64  \n",
      " 20  In-flight Entertainment                 129880 non-null  int64  \n",
      " 21  Baggage Handling                        129880 non-null  int64  \n",
      " 22  Satisfaction                            129880 non-null  int64  \n",
      "dtypes: float64(1), int64(18), object(4)\n",
      "memory usage: 22.8+ MB\n"
     ]
    }
   ],
   "source": [
    "df.info()"
   ]
  },
  {
   "cell_type": "markdown",
   "id": "72e161f0",
   "metadata": {},
   "source": [
    "- I will build new dataframe inorder to not disturb the main dataframe"
   ]
  },
  {
   "cell_type": "code",
   "execution_count": 78,
   "id": "058a0f07",
   "metadata": {},
   "outputs": [
    {
     "data": {
      "text/plain": [
       "<AxesSubplot:>"
      ]
     },
     "execution_count": 78,
     "metadata": {},
     "output_type": "execute_result"
    },
    {
     "data": {
      "image/png": "[encoded data removed]",
      "text/plain": [
       "<Figure size 864x576 with 2 Axes>"
      ]
     },
     "metadata": {
      "needs_background": "light"
     },
     "output_type": "display_data"
    }
   ],
   "source": [
    "plt.figure(figsize=(12, 8))\n",
    "sns.heatmap(df.corr(), annot = True, fmt='1.2f', cmap='YlGnBu')"
   ]
  },
  {
   "cell_type": "code",
   "execution_count": 79,
   "id": "81119bd6",
   "metadata": {},
   "outputs": [],
   "source": [
    "final_df = pd.DataFrame()"
   ]
  },
  {
   "cell_type": "code",
   "execution_count": 80,
   "id": "cba263a5",
   "metadata": {},
   "outputs": [
    {
     "name": "stdout",
     "output_type": "stream",
     "text": [
      "<class 'pandas.core.frame.DataFrame'>\n",
      "Index: 0 entries\n",
      "Empty DataFrame"
     ]
    }
   ],
   "source": [
    "final_df.info()"
   ]
  },
  {
   "cell_type": "code",
   "execution_count": 81,
   "id": "f29419b5",
   "metadata": {},
   "outputs": [
    {
     "data": {
      "text/plain": [
       "<Figure size 576x576 with 0 Axes>"
      ]
     },
     "execution_count": 81,
     "metadata": {},
     "output_type": "execute_result"
    },
    {
     "data": {
      "text/plain": [
       "<Figure size 576x576 with 0 Axes>"
      ]
     },
     "metadata": {},
     "output_type": "display_data"
    }
   ],
   "source": [
    "plt.figure(figsize=(8, 8))"
   ]
  },
  {
   "cell_type": "code",
   "execution_count": 151,
   "id": "3d6f4fe8",
   "metadata": {},
   "outputs": [],
   "source": [
    "def bar(df, feature, size=(5, 4)):\n",
    "    plt.figure(figsize=size)\n",
    "    sns.barplot(x=feature, y='Satisfaction', data = df)\n",
    "    plt.show()"
   ]
  },
  {
   "cell_type": "markdown",
   "id": "5c56d84a",
   "metadata": {},
   "source": [
    "## Gender"
   ]
  },
  {
   "cell_type": "code",
   "execution_count": 83,
   "id": "75a0fe47",
   "metadata": {},
   "outputs": [],
   "source": [
    "df['Male'] = [0 if i == 'Female' else 1 for i in df['Gender']]"
   ]
  },
  {
   "cell_type": "code",
   "execution_count": 84,
   "id": "17d0a813",
   "metadata": {},
   "outputs": [
    {
     "data": {
      "image/png": "[encoded data removed]",
      "text/plain": [
       "<Figure size 360x360 with 1 Axes>"
      ]
     },
     "metadata": {
      "needs_background": "light"
     },
     "output_type": "display_data"
    }
   ],
   "source": [
    "bar(df, 'Male', (5, 5))"
   ]
  },
  {
   "cell_type": "markdown",
   "id": "90a38ec1",
   "metadata": {},
   "source": [
    "- Here Gender is not creating more of impact on Target\n",
    "- Average of both Gender has same impact on Target\n",
    "- I will not consider the Gender in features selection"
   ]
  },
  {
   "cell_type": "markdown",
   "id": "edcf3fcd",
   "metadata": {},
   "source": [
    "## Age"
   ]
  },
  {
   "cell_type": "code",
   "execution_count": 85,
   "id": "ff584cb8",
   "metadata": {},
   "outputs": [
    {
     "data": {
      "text/plain": [
       "<AxesSubplot:xlabel='Satisfaction', ylabel='Age'>"
      ]
     },
     "execution_count": 85,
     "metadata": {},
     "output_type": "execute_result"
    },
    {
     "data": {
      "image/png": "[encoded data removed]",
      "text/plain": [
       "<Figure size 432x288 with 1 Axes>"
      ]
     },
     "metadata": {
      "needs_background": "light"
     },
     "output_type": "display_data"
    }
   ],
   "source": [
    "sns.barplot(x='Satisfaction', y='Age', data = df)"
   ]
  },
  {
   "cell_type": "code",
   "execution_count": 86,
   "id": "b5c6e64c",
   "metadata": {},
   "outputs": [
    {
     "data": {
      "text/plain": [
       "<AxesSubplot:xlabel='Age', ylabel='Satisfaction'>"
      ]
     },
     "execution_count": 86,
     "metadata": {},
     "output_type": "execute_result"
    },
    {
     "data": {
      "image/png": "[encoded data removed]",
      "text/plain": [
       "<Figure size 2160x288 with 1 Axes>"
      ]
     },
     "metadata": {
      "needs_background": "light"
     },
     "output_type": "display_data"
    }
   ],
   "source": [
    "plt.figure(figsize=(30, 4))\n",
    "sns.pointplot(x='Age', y='Satisfaction', data = df)"
   ]
  },
  {
   "cell_type": "code",
   "execution_count": 87,
   "id": "197d521a",
   "metadata": {},
   "outputs": [],
   "source": [
    "\"\"\"\n",
    "\n",
    "Age Group:\n",
    "0  - 21 : 0\n",
    "21 - 39 : 1\n",
    "39 - 61 : 2\n",
    "61 - 71 : 3\n",
    "71 +    : 4\n",
    "\n",
    "\"\"\"\n",
    "age_grp = []\n",
    "for i in df['Age']:\n",
    "    if i < 21:\n",
    "        age_grp.append(0)\n",
    "    elif i >= 21 and i < 39:\n",
    "        age_grp.append(1)\n",
    "    elif i >= 39 and i < 61:\n",
    "        age_grp.append(2)\n",
    "    elif i >= 61 and i < 71:\n",
    "        age_grp.append(3)\n",
    "    else:\n",
    "        age_grp.append(4)\n",
    "\n",
    "final_df['Age_Grp'] = age_grp"
   ]
  },
  {
   "cell_type": "code",
   "execution_count": 88,
   "id": "298e73eb",
   "metadata": {},
   "outputs": [
    {
     "data": {
      "text/html": [
       "<div>\n",
       "<style scoped>\n",
       "    .dataframe tbody tr th:only-of-type {\n",
       "        vertical-align: middle;\n",
       "    }\n",
       "\n",
       "    .dataframe tbody tr th {\n",
       "        vertical-align: top;\n",
       "    }\n",
       "\n",
       "    .dataframe thead th {\n",
       "        text-align: right;\n",
       "    }\n",
       "</style>\n",
       "<table border=\"1\" class=\"dataframe\">\n",
       "  <thead>\n",
       "    <tr style=\"text-align: right;\">\n",
       "      <th></th>\n",
       "      <th>Age_Grp</th>\n",
       "    </tr>\n",
       "  </thead>\n",
       "  <tbody>\n",
       "    <tr>\n",
       "      <th>0</th>\n",
       "      <td>2</td>\n",
       "    </tr>\n",
       "    <tr>\n",
       "      <th>1</th>\n",
       "      <td>1</td>\n",
       "    </tr>\n",
       "    <tr>\n",
       "      <th>2</th>\n",
       "      <td>2</td>\n",
       "    </tr>\n",
       "    <tr>\n",
       "      <th>3</th>\n",
       "      <td>2</td>\n",
       "    </tr>\n",
       "    <tr>\n",
       "      <th>4</th>\n",
       "      <td>2</td>\n",
       "    </tr>\n",
       "  </tbody>\n",
       "</table>\n",
       "</div>"
      ],
      "text/plain": [
       "   Age_Grp\n",
       "0        2\n",
       "1        1\n",
       "2        2\n",
       "3        2\n",
       "4        2"
      ]
     },
     "execution_count": 88,
     "metadata": {},
     "output_type": "execute_result"
    }
   ],
   "source": [
    "final_df.head()"
   ]
  },
  {
   "cell_type": "markdown",
   "id": "f8fdc2e0",
   "metadata": {},
   "source": [
    "## Customer type"
   ]
  },
  {
   "cell_type": "code",
   "execution_count": 89,
   "id": "52866001",
   "metadata": {},
   "outputs": [
    {
     "data": {
      "text/plain": [
       "array(['First-time', 'Returning'], dtype=object)"
      ]
     },
     "execution_count": 89,
     "metadata": {},
     "output_type": "execute_result"
    }
   ],
   "source": [
    "df['Customer Type'].unique()"
   ]
  },
  {
   "cell_type": "code",
   "execution_count": 90,
   "id": "fb7fe261",
   "metadata": {},
   "outputs": [
    {
     "data": {
      "image/png": "[encoded data removed]",
      "text/plain": [
       "<Figure size 576x432 with 1 Axes>"
      ]
     },
     "metadata": {
      "needs_background": "light"
     },
     "output_type": "display_data"
    }
   ],
   "source": [
    "bar(df, 'Customer Type')"
   ]
  },
  {
   "cell_type": "markdown",
   "id": "90828a38",
   "metadata": {},
   "source": [
    "- Here returning customer is higly satisfied\n",
    "- So it making sense to keep it in features"
   ]
  },
  {
   "cell_type": "code",
   "execution_count": 91,
   "id": "b57f2a79",
   "metadata": {},
   "outputs": [],
   "source": [
    "final_df['Returning'] = pd.get_dummies(df['Customer Type'], drop_first=True)"
   ]
  },
  {
   "cell_type": "code",
   "execution_count": 92,
   "id": "d4c5f546",
   "metadata": {},
   "outputs": [
    {
     "data": {
      "text/html": [
       "<div>\n",
       "<style scoped>\n",
       "    .dataframe tbody tr th:only-of-type {\n",
       "        vertical-align: middle;\n",
       "    }\n",
       "\n",
       "    .dataframe tbody tr th {\n",
       "        vertical-align: top;\n",
       "    }\n",
       "\n",
       "    .dataframe thead th {\n",
       "        text-align: right;\n",
       "    }\n",
       "</style>\n",
       "<table border=\"1\" class=\"dataframe\">\n",
       "  <thead>\n",
       "    <tr style=\"text-align: right;\">\n",
       "      <th></th>\n",
       "      <th>Age_Grp</th>\n",
       "      <th>Returning</th>\n",
       "    </tr>\n",
       "  </thead>\n",
       "  <tbody>\n",
       "    <tr>\n",
       "      <th>0</th>\n",
       "      <td>2</td>\n",
       "      <td>0</td>\n",
       "    </tr>\n",
       "    <tr>\n",
       "      <th>1</th>\n",
       "      <td>1</td>\n",
       "      <td>1</td>\n",
       "    </tr>\n",
       "    <tr>\n",
       "      <th>2</th>\n",
       "      <td>2</td>\n",
       "      <td>1</td>\n",
       "    </tr>\n",
       "    <tr>\n",
       "      <th>3</th>\n",
       "      <td>2</td>\n",
       "      <td>1</td>\n",
       "    </tr>\n",
       "    <tr>\n",
       "      <th>4</th>\n",
       "      <td>2</td>\n",
       "      <td>1</td>\n",
       "    </tr>\n",
       "  </tbody>\n",
       "</table>\n",
       "</div>"
      ],
      "text/plain": [
       "   Age_Grp  Returning\n",
       "0        2          0\n",
       "1        1          1\n",
       "2        2          1\n",
       "3        2          1\n",
       "4        2          1"
      ]
     },
     "execution_count": 92,
     "metadata": {},
     "output_type": "execute_result"
    }
   ],
   "source": [
    "final_df.head()"
   ]
  },
  {
   "cell_type": "code",
   "execution_count": 93,
   "id": "fba23a6f",
   "metadata": {},
   "outputs": [
    {
     "data": {
      "text/plain": [
       "Index(['Gender', 'Age', 'Customer Type', 'Type of Travel', 'Class',\n",
       "       'Flight Distance', 'Departure Delay', 'Arrival Delay',\n",
       "       'Departure and Arrival Time Convenience', 'Ease of Online Booking',\n",
       "       'Check-in Service', 'Online Boarding', 'Gate Location',\n",
       "       'On-board Service', 'Seat Comfort', 'Leg Room Service', 'Cleanliness',\n",
       "       'Food and Drink', 'In-flight Service', 'In-flight Wifi Service',\n",
       "       'In-flight Entertainment', 'Baggage Handling', 'Satisfaction', 'Male'],\n",
       "      dtype='object')"
      ]
     },
     "execution_count": 93,
     "metadata": {},
     "output_type": "execute_result"
    }
   ],
   "source": [
    "df.columns"
   ]
  },
  {
   "cell_type": "markdown",
   "id": "eee0323e",
   "metadata": {},
   "source": [
    "## Type of travel"
   ]
  },
  {
   "cell_type": "code",
   "execution_count": 94,
   "id": "5ed17687",
   "metadata": {},
   "outputs": [
    {
     "data": {
      "text/plain": [
       "array(['Business', 'Personal'], dtype=object)"
      ]
     },
     "execution_count": 94,
     "metadata": {},
     "output_type": "execute_result"
    }
   ],
   "source": [
    "df['Type of Travel'].unique()"
   ]
  },
  {
   "cell_type": "code",
   "execution_count": 95,
   "id": "827969ad",
   "metadata": {
    "scrolled": true
   },
   "outputs": [
    {
     "data": {
      "image/png": "[encoded data removed]",
      "text/plain": [
       "<Figure size 432x360 with 1 Axes>"
      ]
     },
     "metadata": {
      "needs_background": "light"
     },
     "output_type": "display_data"
    }
   ],
   "source": [
    "bar(df, 'Type of Travel', (6, 5))"
   ]
  },
  {
   "cell_type": "markdown",
   "id": "b08a05e4",
   "metadata": {},
   "source": [
    "- Here it is making some sense to the target values\n",
    "- So keep it also."
   ]
  },
  {
   "cell_type": "markdown",
   "id": "9cc9bd06",
   "metadata": {},
   "source": [
    "## Class"
   ]
  },
  {
   "cell_type": "code",
   "execution_count": 96,
   "id": "5e1bfa55",
   "metadata": {},
   "outputs": [
    {
     "data": {
      "text/plain": [
       "array(['Business', 'Economy', 'Economy Plus'], dtype=object)"
      ]
     },
     "execution_count": 96,
     "metadata": {},
     "output_type": "execute_result"
    }
   ],
   "source": [
    "df['Class'].unique()"
   ]
  },
  {
   "cell_type": "code",
   "execution_count": 97,
   "id": "0853c835",
   "metadata": {},
   "outputs": [
    {
     "data": {
      "image/png": "[encoded data removed]",
      "text/plain": [
       "<Figure size 216x288 with 1 Axes>"
      ]
     },
     "metadata": {
      "needs_background": "light"
     },
     "output_type": "display_data"
    }
   ],
   "source": [
    "bar(df, 'Class', (3, 4))"
   ]
  },
  {
   "cell_type": "markdown",
   "id": "7fe1190c",
   "metadata": {},
   "source": [
    "- Here bussiness class creating much more difference than others.\n",
    "- So i will merge the both economy class together as seperate variable"
   ]
  },
  {
   "cell_type": "code",
   "execution_count": 98,
   "id": "61d806a3",
   "metadata": {},
   "outputs": [],
   "source": [
    "final_df['Class'] = [0 if i == 'Business' else 1 for i in df['Class']]"
   ]
  },
  {
   "cell_type": "code",
   "execution_count": 99,
   "id": "6106b022",
   "metadata": {},
   "outputs": [
    {
     "data": {
      "text/html": [
       "<div>\n",
       "<style scoped>\n",
       "    .dataframe tbody tr th:only-of-type {\n",
       "        vertical-align: middle;\n",
       "    }\n",
       "\n",
       "    .dataframe tbody tr th {\n",
       "        vertical-align: top;\n",
       "    }\n",
       "\n",
       "    .dataframe thead th {\n",
       "        text-align: right;\n",
       "    }\n",
       "</style>\n",
       "<table border=\"1\" class=\"dataframe\">\n",
       "  <thead>\n",
       "    <tr style=\"text-align: right;\">\n",
       "      <th></th>\n",
       "      <th>Age_Grp</th>\n",
       "      <th>Returning</th>\n",
       "      <th>Class</th>\n",
       "    </tr>\n",
       "  </thead>\n",
       "  <tbody>\n",
       "    <tr>\n",
       "      <th>0</th>\n",
       "      <td>2</td>\n",
       "      <td>0</td>\n",
       "      <td>0</td>\n",
       "    </tr>\n",
       "    <tr>\n",
       "      <th>1</th>\n",
       "      <td>1</td>\n",
       "      <td>1</td>\n",
       "      <td>0</td>\n",
       "    </tr>\n",
       "    <tr>\n",
       "      <th>2</th>\n",
       "      <td>2</td>\n",
       "      <td>1</td>\n",
       "      <td>0</td>\n",
       "    </tr>\n",
       "    <tr>\n",
       "      <th>3</th>\n",
       "      <td>2</td>\n",
       "      <td>1</td>\n",
       "      <td>0</td>\n",
       "    </tr>\n",
       "    <tr>\n",
       "      <th>4</th>\n",
       "      <td>2</td>\n",
       "      <td>1</td>\n",
       "      <td>0</td>\n",
       "    </tr>\n",
       "  </tbody>\n",
       "</table>\n",
       "</div>"
      ],
      "text/plain": [
       "   Age_Grp  Returning  Class\n",
       "0        2          0      0\n",
       "1        1          1      0\n",
       "2        2          1      0\n",
       "3        2          1      0\n",
       "4        2          1      0"
      ]
     },
     "execution_count": 99,
     "metadata": {},
     "output_type": "execute_result"
    }
   ],
   "source": [
    "final_df.head()"
   ]
  },
  {
   "cell_type": "markdown",
   "id": "00275a52",
   "metadata": {},
   "source": [
    "## Flight Distance"
   ]
  },
  {
   "cell_type": "code",
   "execution_count": 100,
   "id": "2510bff5",
   "metadata": {},
   "outputs": [
    {
     "data": {
      "text/plain": [
       "0          821\n",
       "1          821\n",
       "2          853\n",
       "3         1905\n",
       "4         3470\n",
       "          ... \n",
       "129875     447\n",
       "129876     308\n",
       "129877     337\n",
       "129878     337\n",
       "129879     337\n",
       "Name: Flight Distance, Length: 129880, dtype: int64"
      ]
     },
     "execution_count": 100,
     "metadata": {},
     "output_type": "execute_result"
    }
   ],
   "source": [
    "df['Flight Distance']"
   ]
  },
  {
   "cell_type": "code",
   "execution_count": 101,
   "id": "3dc80ecc",
   "metadata": {},
   "outputs": [
    {
     "name": "stderr",
     "output_type": "stream",
     "text": [
      "C:\\Users\\USER\\AppData\\Local\\Programs\\Python\\Python310\\lib\\site-packages\\seaborn\\distributions.py:2619: FutureWarning: `distplot` is a deprecated function and will be removed in a future version. Please adapt your code to use either `displot` (a figure-level function with similar flexibility) or `histplot` (an axes-level function for histograms).\n",
      "  warnings.warn(msg, FutureWarning)\n"
     ]
    },
    {
     "data": {
      "text/plain": [
       "<AxesSubplot:xlabel='Flight Distance', ylabel='Density'>"
      ]
     },
     "execution_count": 101,
     "metadata": {},
     "output_type": "execute_result"
    },
    {
     "data": {
      "image/png": "[encoded data removed]",
      "text/plain": [
       "<Figure size 432x288 with 1 Axes>"
      ]
     },
     "metadata": {
      "needs_background": "light"
     },
     "output_type": "display_data"
    }
   ],
   "source": [
    "sns.distplot(df['Flight Distance'])"
   ]
  },
  {
   "cell_type": "markdown",
   "id": "dadd91c1",
   "metadata": {},
   "source": [
    "- Looks like more passengers are travelling below about 1300"
   ]
  },
  {
   "cell_type": "code",
   "execution_count": 102,
   "id": "9704ac79",
   "metadata": {},
   "outputs": [
    {
     "data": {
      "text/plain": [
       "<AxesSubplot:xlabel='Satisfaction', ylabel='Flight Distance'>"
      ]
     },
     "execution_count": 102,
     "metadata": {},
     "output_type": "execute_result"
    },
    {
     "data": {
      "image/png": "[encoded data removed]",
      "text/plain": [
       "<Figure size 432x288 with 1 Axes>"
      ]
     },
     "metadata": {
      "needs_background": "light"
     },
     "output_type": "display_data"
    }
   ],
   "source": [
    "sns.barplot(x='Satisfaction', y='Flight Distance', data = df)"
   ]
  },
  {
   "cell_type": "markdown",
   "id": "28f30788",
   "metadata": {},
   "source": [
    "- The customer travell more are highly statisfied than who travel less\n",
    "- So we can divide the data into category like"
   ]
  },
  {
   "cell_type": "code",
   "execution_count": 103,
   "id": "718cd59c",
   "metadata": {},
   "outputs": [],
   "source": [
    "\"\"\"\n",
    "\n",
    "0 - 1200 : 0\n",
    "1200 ++  : 1\n",
    "\n",
    "\"\"\"\n",
    "\n",
    "final_df['Flight_Distance'] = [0 if i < 1200 else 1 for i in df['Flight Distance']]"
   ]
  },
  {
   "cell_type": "code",
   "execution_count": 104,
   "id": "11cdf1c0",
   "metadata": {},
   "outputs": [
    {
     "data": {
      "text/html": [
       "<div>\n",
       "<style scoped>\n",
       "    .dataframe tbody tr th:only-of-type {\n",
       "        vertical-align: middle;\n",
       "    }\n",
       "\n",
       "    .dataframe tbody tr th {\n",
       "        vertical-align: top;\n",
       "    }\n",
       "\n",
       "    .dataframe thead th {\n",
       "        text-align: right;\n",
       "    }\n",
       "</style>\n",
       "<table border=\"1\" class=\"dataframe\">\n",
       "  <thead>\n",
       "    <tr style=\"text-align: right;\">\n",
       "      <th></th>\n",
       "      <th>Age_Grp</th>\n",
       "      <th>Returning</th>\n",
       "      <th>Class</th>\n",
       "      <th>Flight_Distance</th>\n",
       "    </tr>\n",
       "  </thead>\n",
       "  <tbody>\n",
       "    <tr>\n",
       "      <th>0</th>\n",
       "      <td>2</td>\n",
       "      <td>0</td>\n",
       "      <td>0</td>\n",
       "      <td>0</td>\n",
       "    </tr>\n",
       "    <tr>\n",
       "      <th>1</th>\n",
       "      <td>1</td>\n",
       "      <td>1</td>\n",
       "      <td>0</td>\n",
       "      <td>0</td>\n",
       "    </tr>\n",
       "    <tr>\n",
       "      <th>2</th>\n",
       "      <td>2</td>\n",
       "      <td>1</td>\n",
       "      <td>0</td>\n",
       "      <td>0</td>\n",
       "    </tr>\n",
       "    <tr>\n",
       "      <th>3</th>\n",
       "      <td>2</td>\n",
       "      <td>1</td>\n",
       "      <td>0</td>\n",
       "      <td>1</td>\n",
       "    </tr>\n",
       "    <tr>\n",
       "      <th>4</th>\n",
       "      <td>2</td>\n",
       "      <td>1</td>\n",
       "      <td>0</td>\n",
       "      <td>1</td>\n",
       "    </tr>\n",
       "  </tbody>\n",
       "</table>\n",
       "</div>"
      ],
      "text/plain": [
       "   Age_Grp  Returning  Class  Flight_Distance\n",
       "0        2          0      0                0\n",
       "1        1          1      0                0\n",
       "2        2          1      0                0\n",
       "3        2          1      0                1\n",
       "4        2          1      0                1"
      ]
     },
     "execution_count": 104,
     "metadata": {},
     "output_type": "execute_result"
    }
   ],
   "source": [
    "final_df.head()\n"
   ]
  },
  {
   "cell_type": "markdown",
   "id": "5fc2fe67",
   "metadata": {},
   "source": [
    "## Departure Delay"
   ]
  },
  {
   "cell_type": "code",
   "execution_count": 105,
   "id": "24a97893",
   "metadata": {},
   "outputs": [
    {
     "name": "stderr",
     "output_type": "stream",
     "text": [
      "C:\\Users\\USER\\AppData\\Local\\Programs\\Python\\Python310\\lib\\site-packages\\seaborn\\distributions.py:2619: FutureWarning: `distplot` is a deprecated function and will be removed in a future version. Please adapt your code to use either `displot` (a figure-level function with similar flexibility) or `histplot` (an axes-level function for histograms).\n",
      "  warnings.warn(msg, FutureWarning)\n"
     ]
    },
    {
     "data": {
      "text/plain": [
       "<AxesSubplot:xlabel='Departure Delay', ylabel='Density'>"
      ]
     },
     "execution_count": 105,
     "metadata": {},
     "output_type": "execute_result"
    },
    {
     "data": {
      "image/png": "[encoded data removed]",
      "text/plain": [
       "<Figure size 432x288 with 1 Axes>"
      ]
     },
     "metadata": {
      "needs_background": "light"
     },
     "output_type": "display_data"
    }
   ],
   "source": [
    "plt.figure(figsize=(6, 4))\n",
    "sns.distplot(df['Departure Delay'])"
   ]
  },
  {
   "cell_type": "markdown",
   "id": "5846ccac",
   "metadata": {},
   "source": [
    "- Looks like more are not from much more fligh delay\n",
    "- Divide the delay into two category like delyed or not"
   ]
  },
  {
   "cell_type": "code",
   "execution_count": 106,
   "id": "1069607d",
   "metadata": {},
   "outputs": [
    {
     "data": {
      "text/html": [
       "<div>\n",
       "<style scoped>\n",
       "    .dataframe tbody tr th:only-of-type {\n",
       "        vertical-align: middle;\n",
       "    }\n",
       "\n",
       "    .dataframe tbody tr th {\n",
       "        vertical-align: top;\n",
       "    }\n",
       "\n",
       "    .dataframe thead th {\n",
       "        text-align: right;\n",
       "    }\n",
       "</style>\n",
       "<table border=\"1\" class=\"dataframe\">\n",
       "  <thead>\n",
       "    <tr style=\"text-align: right;\">\n",
       "      <th></th>\n",
       "      <th>Age_Grp</th>\n",
       "      <th>Returning</th>\n",
       "      <th>Class</th>\n",
       "      <th>Flight_Distance</th>\n",
       "      <th>Flight_Delay</th>\n",
       "    </tr>\n",
       "  </thead>\n",
       "  <tbody>\n",
       "    <tr>\n",
       "      <th>0</th>\n",
       "      <td>2</td>\n",
       "      <td>0</td>\n",
       "      <td>0</td>\n",
       "      <td>0</td>\n",
       "      <td>1</td>\n",
       "    </tr>\n",
       "    <tr>\n",
       "      <th>1</th>\n",
       "      <td>1</td>\n",
       "      <td>1</td>\n",
       "      <td>0</td>\n",
       "      <td>0</td>\n",
       "      <td>1</td>\n",
       "    </tr>\n",
       "    <tr>\n",
       "      <th>2</th>\n",
       "      <td>2</td>\n",
       "      <td>1</td>\n",
       "      <td>0</td>\n",
       "      <td>0</td>\n",
       "      <td>0</td>\n",
       "    </tr>\n",
       "    <tr>\n",
       "      <th>3</th>\n",
       "      <td>2</td>\n",
       "      <td>1</td>\n",
       "      <td>0</td>\n",
       "      <td>1</td>\n",
       "      <td>0</td>\n",
       "    </tr>\n",
       "    <tr>\n",
       "      <th>4</th>\n",
       "      <td>2</td>\n",
       "      <td>1</td>\n",
       "      <td>0</td>\n",
       "      <td>1</td>\n",
       "      <td>0</td>\n",
       "    </tr>\n",
       "  </tbody>\n",
       "</table>\n",
       "</div>"
      ],
      "text/plain": [
       "   Age_Grp  Returning  Class  Flight_Distance  Flight_Delay\n",
       "0        2          0      0                0             1\n",
       "1        1          1      0                0             1\n",
       "2        2          1      0                0             0\n",
       "3        2          1      0                1             0\n",
       "4        2          1      0                1             0"
      ]
     },
     "execution_count": 106,
     "metadata": {},
     "output_type": "execute_result"
    }
   ],
   "source": [
    "\"\"\"\n",
    "0 : 0\n",
    "else : 1\n",
    "\n",
    "\"\"\"\n",
    "\n",
    "final_df['Flight_Delay'] = [0 if i == 0 else 1 for i in df['Departure Delay']] \n",
    "final_df.head()"
   ]
  },
  {
   "cell_type": "markdown",
   "id": "921e0efb",
   "metadata": {},
   "source": [
    "## Arrival Delay"
   ]
  },
  {
   "cell_type": "code",
   "execution_count": 107,
   "id": "0cea4905",
   "metadata": {},
   "outputs": [
    {
     "name": "stderr",
     "output_type": "stream",
     "text": [
      "C:\\Users\\USER\\AppData\\Local\\Programs\\Python\\Python310\\lib\\site-packages\\seaborn\\distributions.py:2619: FutureWarning: `distplot` is a deprecated function and will be removed in a future version. Please adapt your code to use either `displot` (a figure-level function with similar flexibility) or `histplot` (an axes-level function for histograms).\n",
      "  warnings.warn(msg, FutureWarning)\n"
     ]
    },
    {
     "data": {
      "text/plain": [
       "<AxesSubplot:xlabel='Arrival Delay', ylabel='Density'>"
      ]
     },
     "execution_count": 107,
     "metadata": {},
     "output_type": "execute_result"
    },
    {
     "data": {
      "image/png": "[encoded data removed]",
      "text/plain": [
       "<Figure size 432x288 with 1 Axes>"
      ]
     },
     "metadata": {
      "needs_background": "light"
     },
     "output_type": "display_data"
    }
   ],
   "source": [
    "sns.distplot(df['Arrival Delay'])"
   ]
  },
  {
   "cell_type": "markdown",
   "id": "74f59db9",
   "metadata": {},
   "source": [
    "- Same with Arrival Delay \n",
    "- Divide the Arrival Delay into delay or not"
   ]
  },
  {
   "cell_type": "code",
   "execution_count": 108,
   "id": "3d2e2d71",
   "metadata": {},
   "outputs": [],
   "source": [
    "final_df['Arrival_Delay'] = [0 if i == 0 else 1 for i in df['Arrival Delay']]"
   ]
  },
  {
   "cell_type": "code",
   "execution_count": 109,
   "id": "2f05d342",
   "metadata": {},
   "outputs": [
    {
     "data": {
      "text/html": [
       "<div>\n",
       "<style scoped>\n",
       "    .dataframe tbody tr th:only-of-type {\n",
       "        vertical-align: middle;\n",
       "    }\n",
       "\n",
       "    .dataframe tbody tr th {\n",
       "        vertical-align: top;\n",
       "    }\n",
       "\n",
       "    .dataframe thead th {\n",
       "        text-align: right;\n",
       "    }\n",
       "</style>\n",
       "<table border=\"1\" class=\"dataframe\">\n",
       "  <thead>\n",
       "    <tr style=\"text-align: right;\">\n",
       "      <th></th>\n",
       "      <th>Age_Grp</th>\n",
       "      <th>Returning</th>\n",
       "      <th>Class</th>\n",
       "      <th>Flight_Distance</th>\n",
       "      <th>Flight_Delay</th>\n",
       "      <th>Arrival_Delay</th>\n",
       "    </tr>\n",
       "  </thead>\n",
       "  <tbody>\n",
       "    <tr>\n",
       "      <th>0</th>\n",
       "      <td>2</td>\n",
       "      <td>0</td>\n",
       "      <td>0</td>\n",
       "      <td>0</td>\n",
       "      <td>1</td>\n",
       "      <td>1</td>\n",
       "    </tr>\n",
       "    <tr>\n",
       "      <th>1</th>\n",
       "      <td>1</td>\n",
       "      <td>1</td>\n",
       "      <td>0</td>\n",
       "      <td>0</td>\n",
       "      <td>1</td>\n",
       "      <td>1</td>\n",
       "    </tr>\n",
       "    <tr>\n",
       "      <th>2</th>\n",
       "      <td>2</td>\n",
       "      <td>1</td>\n",
       "      <td>0</td>\n",
       "      <td>0</td>\n",
       "      <td>0</td>\n",
       "      <td>0</td>\n",
       "    </tr>\n",
       "    <tr>\n",
       "      <th>3</th>\n",
       "      <td>2</td>\n",
       "      <td>1</td>\n",
       "      <td>0</td>\n",
       "      <td>1</td>\n",
       "      <td>0</td>\n",
       "      <td>0</td>\n",
       "    </tr>\n",
       "    <tr>\n",
       "      <th>4</th>\n",
       "      <td>2</td>\n",
       "      <td>1</td>\n",
       "      <td>0</td>\n",
       "      <td>1</td>\n",
       "      <td>0</td>\n",
       "      <td>1</td>\n",
       "    </tr>\n",
       "  </tbody>\n",
       "</table>\n",
       "</div>"
      ],
      "text/plain": [
       "   Age_Grp  Returning  Class  Flight_Distance  Flight_Delay  Arrival_Delay\n",
       "0        2          0      0                0             1              1\n",
       "1        1          1      0                0             1              1\n",
       "2        2          1      0                0             0              0\n",
       "3        2          1      0                1             0              0\n",
       "4        2          1      0                1             0              1"
      ]
     },
     "execution_count": 109,
     "metadata": {},
     "output_type": "execute_result"
    }
   ],
   "source": [
    "final_df.head()"
   ]
  },
  {
   "cell_type": "code",
   "execution_count": 110,
   "id": "0b8da086",
   "metadata": {},
   "outputs": [
    {
     "data": {
      "text/plain": [
       "Index(['Gender', 'Age', 'Customer Type', 'Type of Travel', 'Class',\n",
       "       'Flight Distance', 'Departure Delay', 'Arrival Delay',\n",
       "       'Departure and Arrival Time Convenience', 'Ease of Online Booking',\n",
       "       'Check-in Service', 'Online Boarding', 'Gate Location',\n",
       "       'On-board Service', 'Seat Comfort', 'Leg Room Service', 'Cleanliness',\n",
       "       'Food and Drink', 'In-flight Service', 'In-flight Wifi Service',\n",
       "       'In-flight Entertainment', 'Baggage Handling', 'Satisfaction', 'Male'],\n",
       "      dtype='object')"
      ]
     },
     "execution_count": 110,
     "metadata": {},
     "output_type": "execute_result"
    }
   ],
   "source": [
    "df.columns"
   ]
  },
  {
   "cell_type": "markdown",
   "id": "512d100f",
   "metadata": {},
   "source": [
    "## Departure and Arrival Time Convenience"
   ]
  },
  {
   "cell_type": "code",
   "execution_count": 111,
   "id": "25c9b7fc",
   "metadata": {},
   "outputs": [
    {
     "data": {
      "text/plain": [
       "array([3, 2, 4, 1, 5, 0], dtype=int64)"
      ]
     },
     "execution_count": 111,
     "metadata": {},
     "output_type": "execute_result"
    }
   ],
   "source": [
    "df['Departure and Arrival Time Convenience'].unique()"
   ]
  },
  {
   "cell_type": "code",
   "execution_count": 112,
   "id": "70f10012",
   "metadata": {},
   "outputs": [
    {
     "data": {
      "image/png": "[encoded data removed]",
      "text/plain": [
       "<Figure size 576x432 with 1 Axes>"
      ]
     },
     "metadata": {
      "needs_background": "light"
     },
     "output_type": "display_data"
    }
   ],
   "source": [
    "bar(df, 'Departure and Arrival Time Convenience')"
   ]
  },
  {
   "cell_type": "markdown",
   "id": "ac6a4b07",
   "metadata": {},
   "source": [
    "- Here Departure and Arrival Time Convenience is not making so much correlation between the Satisfaction\n",
    "- On average it make same sense to Satisfaction so it will not be considered in model"
   ]
  },
  {
   "cell_type": "markdown",
   "id": "db523f9b",
   "metadata": {},
   "source": [
    "## Ease of Online Booking"
   ]
  },
  {
   "cell_type": "code",
   "execution_count": 113,
   "id": "7db882be",
   "metadata": {},
   "outputs": [
    {
     "data": {
      "text/plain": [
       "array([3, 2, 4, 1, 5, 0], dtype=int64)"
      ]
     },
     "execution_count": 113,
     "metadata": {},
     "output_type": "execute_result"
    }
   ],
   "source": [
    "df['Ease of Online Booking'].unique()"
   ]
  },
  {
   "cell_type": "code",
   "execution_count": 114,
   "id": "f13084bf",
   "metadata": {},
   "outputs": [
    {
     "data": {
      "image/png": "[encoded data removed]",
      "text/plain": [
       "<Figure size 576x432 with 1 Axes>"
      ]
     },
     "metadata": {
      "needs_background": "light"
     },
     "output_type": "display_data"
    }
   ],
   "source": [
    "bar(df, 'Ease of Online Booking')"
   ]
  },
  {
   "cell_type": "markdown",
   "id": "08532679",
   "metadata": {},
   "source": [
    "- It is making much more difference between the target columns\n",
    "- So let's check correlation score of it.\n",
    "- Divide the Ease of Online Booking into 2 category with much satisfied and not satisfied"
   ]
  },
  {
   "cell_type": "code",
   "execution_count": 115,
   "id": "0107d4bc",
   "metadata": {},
   "outputs": [],
   "source": [
    "final_df['Ease'] = [0 if i == 0 or i == 4 or i == 5 else 1 for i in df['Ease of Online Booking']]"
   ]
  },
  {
   "cell_type": "code",
   "execution_count": 116,
   "id": "10725713",
   "metadata": {},
   "outputs": [
    {
     "data": {
      "text/html": [
       "<div>\n",
       "<style scoped>\n",
       "    .dataframe tbody tr th:only-of-type {\n",
       "        vertical-align: middle;\n",
       "    }\n",
       "\n",
       "    .dataframe tbody tr th {\n",
       "        vertical-align: top;\n",
       "    }\n",
       "\n",
       "    .dataframe thead th {\n",
       "        text-align: right;\n",
       "    }\n",
       "</style>\n",
       "<table border=\"1\" class=\"dataframe\">\n",
       "  <thead>\n",
       "    <tr style=\"text-align: right;\">\n",
       "      <th></th>\n",
       "      <th>Age_Grp</th>\n",
       "      <th>Returning</th>\n",
       "      <th>Class</th>\n",
       "      <th>Flight_Distance</th>\n",
       "      <th>Flight_Delay</th>\n",
       "      <th>Arrival_Delay</th>\n",
       "      <th>Ease</th>\n",
       "    </tr>\n",
       "  </thead>\n",
       "  <tbody>\n",
       "    <tr>\n",
       "      <th>0</th>\n",
       "      <td>2</td>\n",
       "      <td>0</td>\n",
       "      <td>0</td>\n",
       "      <td>0</td>\n",
       "      <td>1</td>\n",
       "      <td>1</td>\n",
       "      <td>1</td>\n",
       "    </tr>\n",
       "    <tr>\n",
       "      <th>1</th>\n",
       "      <td>1</td>\n",
       "      <td>1</td>\n",
       "      <td>0</td>\n",
       "      <td>0</td>\n",
       "      <td>1</td>\n",
       "      <td>1</td>\n",
       "      <td>1</td>\n",
       "    </tr>\n",
       "    <tr>\n",
       "      <th>2</th>\n",
       "      <td>2</td>\n",
       "      <td>1</td>\n",
       "      <td>0</td>\n",
       "      <td>0</td>\n",
       "      <td>0</td>\n",
       "      <td>0</td>\n",
       "      <td>0</td>\n",
       "    </tr>\n",
       "    <tr>\n",
       "      <th>3</th>\n",
       "      <td>2</td>\n",
       "      <td>1</td>\n",
       "      <td>0</td>\n",
       "      <td>1</td>\n",
       "      <td>0</td>\n",
       "      <td>0</td>\n",
       "      <td>1</td>\n",
       "    </tr>\n",
       "    <tr>\n",
       "      <th>4</th>\n",
       "      <td>2</td>\n",
       "      <td>1</td>\n",
       "      <td>0</td>\n",
       "      <td>1</td>\n",
       "      <td>0</td>\n",
       "      <td>1</td>\n",
       "      <td>1</td>\n",
       "    </tr>\n",
       "  </tbody>\n",
       "</table>\n",
       "</div>"
      ],
      "text/plain": [
       "   Age_Grp  Returning  Class  Flight_Distance  Flight_Delay  Arrival_Delay  \\\n",
       "0        2          0      0                0             1              1   \n",
       "1        1          1      0                0             1              1   \n",
       "2        2          1      0                0             0              0   \n",
       "3        2          1      0                1             0              0   \n",
       "4        2          1      0                1             0              1   \n",
       "\n",
       "   Ease  \n",
       "0     1  \n",
       "1     1  \n",
       "2     0  \n",
       "3     1  \n",
       "4     1  "
      ]
     },
     "execution_count": 116,
     "metadata": {},
     "output_type": "execute_result"
    }
   ],
   "source": [
    "final_df.head()"
   ]
  },
  {
   "cell_type": "markdown",
   "id": "cd287e08",
   "metadata": {},
   "source": [
    "## Check-in Service"
   ]
  },
  {
   "cell_type": "code",
   "execution_count": 117,
   "id": "f60934b6",
   "metadata": {},
   "outputs": [
    {
     "data": {
      "text/plain": [
       "array([4, 3, 1, 2, 5, 0], dtype=int64)"
      ]
     },
     "execution_count": 117,
     "metadata": {},
     "output_type": "execute_result"
    }
   ],
   "source": [
    "df['Check-in Service'].unique()"
   ]
  },
  {
   "cell_type": "code",
   "execution_count": 118,
   "id": "458e845c",
   "metadata": {},
   "outputs": [
    {
     "data": {
      "image/png": "[encoded data removed]",
      "text/plain": [
       "<Figure size 576x432 with 1 Axes>"
      ]
     },
     "metadata": {
      "needs_background": "light"
     },
     "output_type": "display_data"
    }
   ],
   "source": [
    "bar(df, 'Check-in Service')"
   ]
  },
  {
   "cell_type": "markdown",
   "id": "ce027684",
   "metadata": {},
   "source": [
    "- Here there is no any customer from category 0\n",
    "- It is showing three category so we can divide it."
   ]
  },
  {
   "cell_type": "code",
   "execution_count": 119,
   "id": "505113fb",
   "metadata": {},
   "outputs": [
    {
     "data": {
      "text/html": [
       "<div>\n",
       "<style scoped>\n",
       "    .dataframe tbody tr th:only-of-type {\n",
       "        vertical-align: middle;\n",
       "    }\n",
       "\n",
       "    .dataframe tbody tr th {\n",
       "        vertical-align: top;\n",
       "    }\n",
       "\n",
       "    .dataframe thead th {\n",
       "        text-align: right;\n",
       "    }\n",
       "</style>\n",
       "<table border=\"1\" class=\"dataframe\">\n",
       "  <thead>\n",
       "    <tr style=\"text-align: right;\">\n",
       "      <th></th>\n",
       "      <th>Age_Grp</th>\n",
       "      <th>Returning</th>\n",
       "      <th>Class</th>\n",
       "      <th>Flight_Distance</th>\n",
       "      <th>Flight_Delay</th>\n",
       "      <th>Arrival_Delay</th>\n",
       "      <th>Ease</th>\n",
       "      <th>Check-in Service</th>\n",
       "    </tr>\n",
       "  </thead>\n",
       "  <tbody>\n",
       "    <tr>\n",
       "      <th>0</th>\n",
       "      <td>2</td>\n",
       "      <td>0</td>\n",
       "      <td>0</td>\n",
       "      <td>0</td>\n",
       "      <td>1</td>\n",
       "      <td>1</td>\n",
       "      <td>1</td>\n",
       "      <td>1</td>\n",
       "    </tr>\n",
       "    <tr>\n",
       "      <th>1</th>\n",
       "      <td>1</td>\n",
       "      <td>1</td>\n",
       "      <td>0</td>\n",
       "      <td>0</td>\n",
       "      <td>1</td>\n",
       "      <td>1</td>\n",
       "      <td>1</td>\n",
       "      <td>1</td>\n",
       "    </tr>\n",
       "    <tr>\n",
       "      <th>2</th>\n",
       "      <td>2</td>\n",
       "      <td>1</td>\n",
       "      <td>0</td>\n",
       "      <td>0</td>\n",
       "      <td>0</td>\n",
       "      <td>0</td>\n",
       "      <td>0</td>\n",
       "      <td>1</td>\n",
       "    </tr>\n",
       "    <tr>\n",
       "      <th>3</th>\n",
       "      <td>2</td>\n",
       "      <td>1</td>\n",
       "      <td>0</td>\n",
       "      <td>1</td>\n",
       "      <td>0</td>\n",
       "      <td>0</td>\n",
       "      <td>1</td>\n",
       "      <td>1</td>\n",
       "    </tr>\n",
       "    <tr>\n",
       "      <th>4</th>\n",
       "      <td>2</td>\n",
       "      <td>1</td>\n",
       "      <td>0</td>\n",
       "      <td>1</td>\n",
       "      <td>0</td>\n",
       "      <td>1</td>\n",
       "      <td>1</td>\n",
       "      <td>1</td>\n",
       "    </tr>\n",
       "  </tbody>\n",
       "</table>\n",
       "</div>"
      ],
      "text/plain": [
       "   Age_Grp  Returning  Class  Flight_Distance  Flight_Delay  Arrival_Delay  \\\n",
       "0        2          0      0                0             1              1   \n",
       "1        1          1      0                0             1              1   \n",
       "2        2          1      0                0             0              0   \n",
       "3        2          1      0                1             0              0   \n",
       "4        2          1      0                1             0              1   \n",
       "\n",
       "   Ease  Check-in Service  \n",
       "0     1                 1  \n",
       "1     1                 1  \n",
       "2     0                 1  \n",
       "3     1                 1  \n",
       "4     1                 1  "
      ]
     },
     "execution_count": 119,
     "metadata": {},
     "output_type": "execute_result"
    }
   ],
   "source": [
    "\"\"\"\n",
    "0 - 2 : 0\n",
    "3 - 4 : 1\n",
    "5     : 2\n",
    "\"\"\"\n",
    "final_df['Check-in Service'] = [0 if i <= 2 else 1 if i == 3 or i == 4 else 2 for i in df['Check-in Service']] \n",
    "final_df.head()"
   ]
  },
  {
   "cell_type": "code",
   "execution_count": 120,
   "id": "cdc60c5e",
   "metadata": {},
   "outputs": [
    {
     "data": {
      "text/plain": [
       "array([1, 0, 2], dtype=int64)"
      ]
     },
     "execution_count": 120,
     "metadata": {},
     "output_type": "execute_result"
    }
   ],
   "source": [
    "final_df['Check-in Service'].unique()"
   ]
  },
  {
   "cell_type": "markdown",
   "id": "29e7d59b",
   "metadata": {},
   "source": [
    "## Online Boarding "
   ]
  },
  {
   "cell_type": "code",
   "execution_count": 121,
   "id": "10b6a97b",
   "metadata": {},
   "outputs": [
    {
     "data": {
      "text/plain": [
       "array([3, 5, 4, 2, 1, 0], dtype=int64)"
      ]
     },
     "execution_count": 121,
     "metadata": {},
     "output_type": "execute_result"
    }
   ],
   "source": [
    "df['Online Boarding'].unique()"
   ]
  },
  {
   "cell_type": "code",
   "execution_count": 122,
   "id": "d0d411db",
   "metadata": {
    "scrolled": true
   },
   "outputs": [
    {
     "data": {
      "image/png": "[encoded data removed]",
      "text/plain": [
       "<Figure size 360x288 with 1 Axes>"
      ]
     },
     "metadata": {
      "needs_background": "light"
     },
     "output_type": "display_data"
    }
   ],
   "source": [
    "bar(df, 'Online Boarding', (5, 4))"
   ]
  },
  {
   "cell_type": "markdown",
   "id": "31a2a908",
   "metadata": {},
   "source": [
    "- Category 1,2 & 3 are not much satisfied\n",
    "- It is forming three category like 1,2&3 are not satisfied much\n",
    "- Category 0 & 4 are on similar level of satisfaction while 5 are much satisfied"
   ]
  },
  {
   "cell_type": "code",
   "execution_count": 123,
   "id": "fdd31d39",
   "metadata": {},
   "outputs": [
    {
     "data": {
      "text/html": [
       "<div>\n",
       "<style scoped>\n",
       "    .dataframe tbody tr th:only-of-type {\n",
       "        vertical-align: middle;\n",
       "    }\n",
       "\n",
       "    .dataframe tbody tr th {\n",
       "        vertical-align: top;\n",
       "    }\n",
       "\n",
       "    .dataframe thead th {\n",
       "        text-align: right;\n",
       "    }\n",
       "</style>\n",
       "<table border=\"1\" class=\"dataframe\">\n",
       "  <thead>\n",
       "    <tr style=\"text-align: right;\">\n",
       "      <th></th>\n",
       "      <th>Age_Grp</th>\n",
       "      <th>Returning</th>\n",
       "      <th>Class</th>\n",
       "      <th>Flight_Distance</th>\n",
       "      <th>Flight_Delay</th>\n",
       "      <th>Arrival_Delay</th>\n",
       "      <th>Ease</th>\n",
       "      <th>Check-in Service</th>\n",
       "      <th>Online_Boarding</th>\n",
       "    </tr>\n",
       "  </thead>\n",
       "  <tbody>\n",
       "    <tr>\n",
       "      <th>0</th>\n",
       "      <td>2</td>\n",
       "      <td>0</td>\n",
       "      <td>0</td>\n",
       "      <td>0</td>\n",
       "      <td>1</td>\n",
       "      <td>1</td>\n",
       "      <td>1</td>\n",
       "      <td>1</td>\n",
       "      <td>2</td>\n",
       "    </tr>\n",
       "    <tr>\n",
       "      <th>1</th>\n",
       "      <td>1</td>\n",
       "      <td>1</td>\n",
       "      <td>0</td>\n",
       "      <td>0</td>\n",
       "      <td>1</td>\n",
       "      <td>1</td>\n",
       "      <td>1</td>\n",
       "      <td>1</td>\n",
       "      <td>0</td>\n",
       "    </tr>\n",
       "    <tr>\n",
       "      <th>2</th>\n",
       "      <td>2</td>\n",
       "      <td>1</td>\n",
       "      <td>0</td>\n",
       "      <td>0</td>\n",
       "      <td>0</td>\n",
       "      <td>0</td>\n",
       "      <td>0</td>\n",
       "      <td>1</td>\n",
       "      <td>0</td>\n",
       "    </tr>\n",
       "    <tr>\n",
       "      <th>3</th>\n",
       "      <td>2</td>\n",
       "      <td>1</td>\n",
       "      <td>0</td>\n",
       "      <td>1</td>\n",
       "      <td>0</td>\n",
       "      <td>0</td>\n",
       "      <td>1</td>\n",
       "      <td>1</td>\n",
       "      <td>1</td>\n",
       "    </tr>\n",
       "    <tr>\n",
       "      <th>4</th>\n",
       "      <td>2</td>\n",
       "      <td>1</td>\n",
       "      <td>0</td>\n",
       "      <td>1</td>\n",
       "      <td>0</td>\n",
       "      <td>1</td>\n",
       "      <td>1</td>\n",
       "      <td>1</td>\n",
       "      <td>0</td>\n",
       "    </tr>\n",
       "  </tbody>\n",
       "</table>\n",
       "</div>"
      ],
      "text/plain": [
       "   Age_Grp  Returning  Class  Flight_Distance  Flight_Delay  Arrival_Delay  \\\n",
       "0        2          0      0                0             1              1   \n",
       "1        1          1      0                0             1              1   \n",
       "2        2          1      0                0             0              0   \n",
       "3        2          1      0                1             0              0   \n",
       "4        2          1      0                1             0              1   \n",
       "\n",
       "   Ease  Check-in Service  Online_Boarding  \n",
       "0     1                 1                2  \n",
       "1     1                 1                0  \n",
       "2     0                 1                0  \n",
       "3     1                 1                1  \n",
       "4     1                 1                0  "
      ]
     },
     "execution_count": 123,
     "metadata": {},
     "output_type": "execute_result"
    }
   ],
   "source": [
    "final_df['Online_Boarding'] = [0 if i == 5 else 1 if i == 0 or i == 4 else 2 for i in df['Online Boarding']]\n",
    "final_df.head()"
   ]
  },
  {
   "cell_type": "markdown",
   "id": "ab2aa559",
   "metadata": {},
   "source": [
    "## Gate Location"
   ]
  },
  {
   "cell_type": "code",
   "execution_count": 124,
   "id": "8d068c3c",
   "metadata": {},
   "outputs": [
    {
     "data": {
      "text/plain": [
       "array([3, 2, 4, 1, 5, 0], dtype=int64)"
      ]
     },
     "execution_count": 124,
     "metadata": {},
     "output_type": "execute_result"
    }
   ],
   "source": [
    "df['Gate Location'].unique()"
   ]
  },
  {
   "cell_type": "code",
   "execution_count": 125,
   "id": "857be68b",
   "metadata": {},
   "outputs": [
    {
     "data": {
      "image/png": "[encoded data removed]",
      "text/plain": [
       "<Figure size 360x288 with 1 Axes>"
      ]
     },
     "metadata": {
      "needs_background": "light"
     },
     "output_type": "display_data"
    }
   ],
   "source": [
    "bar(df, 'Gate Location', (5, 4))"
   ]
  },
  {
   "cell_type": "markdown",
   "id": "6c3a8273",
   "metadata": {},
   "source": [
    "- Here whose gate location is 0 are highly satisfied but others are some average\n",
    "- From 1 - 5 all are similar on average"
   ]
  },
  {
   "cell_type": "code",
   "execution_count": 128,
   "id": "2b339893",
   "metadata": {},
   "outputs": [
    {
     "data": {
      "text/html": [
       "<div>\n",
       "<style scoped>\n",
       "    .dataframe tbody tr th:only-of-type {\n",
       "        vertical-align: middle;\n",
       "    }\n",
       "\n",
       "    .dataframe tbody tr th {\n",
       "        vertical-align: top;\n",
       "    }\n",
       "\n",
       "    .dataframe thead th {\n",
       "        text-align: right;\n",
       "    }\n",
       "</style>\n",
       "<table border=\"1\" class=\"dataframe\">\n",
       "  <thead>\n",
       "    <tr style=\"text-align: right;\">\n",
       "      <th></th>\n",
       "      <th>Age_Grp</th>\n",
       "      <th>Returning</th>\n",
       "      <th>Class</th>\n",
       "      <th>Flight_Distance</th>\n",
       "      <th>Flight_Delay</th>\n",
       "      <th>Arrival_Delay</th>\n",
       "      <th>Ease</th>\n",
       "      <th>Check-in Service</th>\n",
       "      <th>Online_Boarding</th>\n",
       "      <th>Gate_Location</th>\n",
       "    </tr>\n",
       "  </thead>\n",
       "  <tbody>\n",
       "    <tr>\n",
       "      <th>0</th>\n",
       "      <td>2</td>\n",
       "      <td>0</td>\n",
       "      <td>0</td>\n",
       "      <td>0</td>\n",
       "      <td>1</td>\n",
       "      <td>1</td>\n",
       "      <td>1</td>\n",
       "      <td>1</td>\n",
       "      <td>2</td>\n",
       "      <td>1</td>\n",
       "    </tr>\n",
       "    <tr>\n",
       "      <th>1</th>\n",
       "      <td>1</td>\n",
       "      <td>1</td>\n",
       "      <td>0</td>\n",
       "      <td>0</td>\n",
       "      <td>1</td>\n",
       "      <td>1</td>\n",
       "      <td>1</td>\n",
       "      <td>1</td>\n",
       "      <td>0</td>\n",
       "      <td>1</td>\n",
       "    </tr>\n",
       "    <tr>\n",
       "      <th>2</th>\n",
       "      <td>2</td>\n",
       "      <td>1</td>\n",
       "      <td>0</td>\n",
       "      <td>0</td>\n",
       "      <td>0</td>\n",
       "      <td>0</td>\n",
       "      <td>0</td>\n",
       "      <td>1</td>\n",
       "      <td>0</td>\n",
       "      <td>1</td>\n",
       "    </tr>\n",
       "    <tr>\n",
       "      <th>3</th>\n",
       "      <td>2</td>\n",
       "      <td>1</td>\n",
       "      <td>0</td>\n",
       "      <td>1</td>\n",
       "      <td>0</td>\n",
       "      <td>0</td>\n",
       "      <td>1</td>\n",
       "      <td>1</td>\n",
       "      <td>1</td>\n",
       "      <td>1</td>\n",
       "    </tr>\n",
       "    <tr>\n",
       "      <th>4</th>\n",
       "      <td>2</td>\n",
       "      <td>1</td>\n",
       "      <td>0</td>\n",
       "      <td>1</td>\n",
       "      <td>0</td>\n",
       "      <td>1</td>\n",
       "      <td>1</td>\n",
       "      <td>1</td>\n",
       "      <td>0</td>\n",
       "      <td>1</td>\n",
       "    </tr>\n",
       "  </tbody>\n",
       "</table>\n",
       "</div>"
      ],
      "text/plain": [
       "   Age_Grp  Returning  Class  Flight_Distance  Flight_Delay  Arrival_Delay  \\\n",
       "0        2          0      0                0             1              1   \n",
       "1        1          1      0                0             1              1   \n",
       "2        2          1      0                0             0              0   \n",
       "3        2          1      0                1             0              0   \n",
       "4        2          1      0                1             0              1   \n",
       "\n",
       "   Ease  Check-in Service  Online_Boarding  Gate_Location  \n",
       "0     1                 1                2              1  \n",
       "1     1                 1                0              1  \n",
       "2     0                 1                0              1  \n",
       "3     1                 1                1              1  \n",
       "4     1                 1                0              1  "
      ]
     },
     "execution_count": 128,
     "metadata": {},
     "output_type": "execute_result"
    }
   ],
   "source": [
    "final_df['Gate_Location'] = [0 if i == 0 else 1 for i in df['Gate Location']]\n",
    "final_df.head()"
   ]
  },
  {
   "cell_type": "markdown",
   "id": "2d31dcc6",
   "metadata": {},
   "source": [
    "## On-board Service"
   ]
  },
  {
   "cell_type": "code",
   "execution_count": 129,
   "id": "e526cdef",
   "metadata": {},
   "outputs": [
    {
     "data": {
      "image/png": "[encoded data removed]",
      "text/plain": [
       "<Figure size 360x288 with 1 Axes>"
      ]
     },
     "metadata": {
      "needs_background": "light"
     },
     "output_type": "display_data"
    }
   ],
   "source": [
    "bar(df, 'On-board Service', (5, 4))"
   ]
  },
  {
   "cell_type": "markdown",
   "id": "47122f46",
   "metadata": {},
   "source": [
    "- Here On-board Service is good related with Satisfaction\n",
    "- but still 0-3 are not much satisfied, their average are so low\n",
    "- We can consider the 0-3 as one and 4-5 as other"
   ]
  },
  {
   "cell_type": "code",
   "execution_count": 130,
   "id": "60ea1d67",
   "metadata": {},
   "outputs": [
    {
     "data": {
      "text/html": [
       "<div>\n",
       "<style scoped>\n",
       "    .dataframe tbody tr th:only-of-type {\n",
       "        vertical-align: middle;\n",
       "    }\n",
       "\n",
       "    .dataframe tbody tr th {\n",
       "        vertical-align: top;\n",
       "    }\n",
       "\n",
       "    .dataframe thead th {\n",
       "        text-align: right;\n",
       "    }\n",
       "</style>\n",
       "<table border=\"1\" class=\"dataframe\">\n",
       "  <thead>\n",
       "    <tr style=\"text-align: right;\">\n",
       "      <th></th>\n",
       "      <th>Age_Grp</th>\n",
       "      <th>Returning</th>\n",
       "      <th>Class</th>\n",
       "      <th>Flight_Distance</th>\n",
       "      <th>Flight_Delay</th>\n",
       "      <th>Arrival_Delay</th>\n",
       "      <th>Ease</th>\n",
       "      <th>Check-in Service</th>\n",
       "      <th>Online_Boarding</th>\n",
       "      <th>Gate_Location</th>\n",
       "      <th>On-board_Service</th>\n",
       "    </tr>\n",
       "  </thead>\n",
       "  <tbody>\n",
       "    <tr>\n",
       "      <th>0</th>\n",
       "      <td>2</td>\n",
       "      <td>0</td>\n",
       "      <td>0</td>\n",
       "      <td>0</td>\n",
       "      <td>1</td>\n",
       "      <td>1</td>\n",
       "      <td>1</td>\n",
       "      <td>1</td>\n",
       "      <td>2</td>\n",
       "      <td>1</td>\n",
       "      <td>0</td>\n",
       "    </tr>\n",
       "    <tr>\n",
       "      <th>1</th>\n",
       "      <td>1</td>\n",
       "      <td>1</td>\n",
       "      <td>0</td>\n",
       "      <td>0</td>\n",
       "      <td>1</td>\n",
       "      <td>1</td>\n",
       "      <td>1</td>\n",
       "      <td>1</td>\n",
       "      <td>0</td>\n",
       "      <td>1</td>\n",
       "      <td>1</td>\n",
       "    </tr>\n",
       "    <tr>\n",
       "      <th>2</th>\n",
       "      <td>2</td>\n",
       "      <td>1</td>\n",
       "      <td>0</td>\n",
       "      <td>0</td>\n",
       "      <td>0</td>\n",
       "      <td>0</td>\n",
       "      <td>0</td>\n",
       "      <td>1</td>\n",
       "      <td>0</td>\n",
       "      <td>1</td>\n",
       "      <td>0</td>\n",
       "    </tr>\n",
       "    <tr>\n",
       "      <th>3</th>\n",
       "      <td>2</td>\n",
       "      <td>1</td>\n",
       "      <td>0</td>\n",
       "      <td>1</td>\n",
       "      <td>0</td>\n",
       "      <td>0</td>\n",
       "      <td>1</td>\n",
       "      <td>1</td>\n",
       "      <td>1</td>\n",
       "      <td>1</td>\n",
       "      <td>1</td>\n",
       "    </tr>\n",
       "    <tr>\n",
       "      <th>4</th>\n",
       "      <td>2</td>\n",
       "      <td>1</td>\n",
       "      <td>0</td>\n",
       "      <td>1</td>\n",
       "      <td>0</td>\n",
       "      <td>1</td>\n",
       "      <td>1</td>\n",
       "      <td>1</td>\n",
       "      <td>0</td>\n",
       "      <td>1</td>\n",
       "      <td>0</td>\n",
       "    </tr>\n",
       "  </tbody>\n",
       "</table>\n",
       "</div>"
      ],
      "text/plain": [
       "   Age_Grp  Returning  Class  Flight_Distance  Flight_Delay  Arrival_Delay  \\\n",
       "0        2          0      0                0             1              1   \n",
       "1        1          1      0                0             1              1   \n",
       "2        2          1      0                0             0              0   \n",
       "3        2          1      0                1             0              0   \n",
       "4        2          1      0                1             0              1   \n",
       "\n",
       "   Ease  Check-in Service  Online_Boarding  Gate_Location  On-board_Service  \n",
       "0     1                 1                2              1                 0  \n",
       "1     1                 1                0              1                 1  \n",
       "2     0                 1                0              1                 0  \n",
       "3     1                 1                1              1                 1  \n",
       "4     1                 1                0              1                 0  "
      ]
     },
     "execution_count": 130,
     "metadata": {},
     "output_type": "execute_result"
    }
   ],
   "source": [
    "final_df['On-board_Service'] = [0 if i <= 3 else 1 for i in df['On-board Service']]\n",
    "final_df.head()"
   ]
  },
  {
   "cell_type": "markdown",
   "id": "099d0d34",
   "metadata": {},
   "source": [
    "## Seat Comfort"
   ]
  },
  {
   "cell_type": "code",
   "execution_count": 131,
   "id": "236bc6ca",
   "metadata": {},
   "outputs": [
    {
     "data": {
      "text/plain": [
       "array([5, 4, 3, 2, 1, 0], dtype=int64)"
      ]
     },
     "execution_count": 131,
     "metadata": {},
     "output_type": "execute_result"
    }
   ],
   "source": [
    "df['Seat Comfort'].unique()"
   ]
  },
  {
   "cell_type": "code",
   "execution_count": 132,
   "id": "e315bf82",
   "metadata": {},
   "outputs": [
    {
     "data": {
      "image/png": "[encoded data removed]",
      "text/plain": [
       "<Figure size 360x288 with 1 Axes>"
      ]
     },
     "metadata": {
      "needs_background": "light"
     },
     "output_type": "display_data"
    }
   ],
   "source": [
    "bar(df, 'Seat Comfort', (5, 4))"
   ]
  },
  {
   "cell_type": "markdown",
   "id": "d06ff3af",
   "metadata": {},
   "source": [
    "- Here is same case like above "
   ]
  },
  {
   "cell_type": "code",
   "execution_count": 134,
   "id": "408073d0",
   "metadata": {},
   "outputs": [],
   "source": [
    "final_df['Seat_Comfort'] = [0 if i <= 3 else 1 for  i in df['Seat Comfort']]"
   ]
  },
  {
   "cell_type": "code",
   "execution_count": 137,
   "id": "f5d43861",
   "metadata": {},
   "outputs": [
    {
     "data": {
      "text/plain": [
       "array([1, 0], dtype=int64)"
      ]
     },
     "execution_count": 137,
     "metadata": {},
     "output_type": "execute_result"
    }
   ],
   "source": [
    "final_df['Seat_Comfort'].unique()"
   ]
  },
  {
   "cell_type": "markdown",
   "id": "5f46593d",
   "metadata": {},
   "source": [
    "## Leg Room Service"
   ]
  },
  {
   "cell_type": "code",
   "execution_count": 138,
   "id": "5ce15178",
   "metadata": {},
   "outputs": [
    {
     "data": {
      "image/png": "[encoded data removed]",
      "text/plain": [
       "<Figure size 432x288 with 1 Axes>"
      ]
     },
     "metadata": {
      "needs_background": "light"
     },
     "output_type": "display_data"
    }
   ],
   "source": [
    "bar(df, 'Leg Room Service', (6, 4))"
   ]
  },
  {
   "cell_type": "markdown",
   "id": "9f94189e",
   "metadata": {},
   "source": [
    "- Here Leg Room Service are some what correlating with satisfaction\n",
    "- But 0 has a lot of variation with respect to satisfaction \n",
    "- so we can ignore or put on same category with 1, 2, and 3"
   ]
  },
  {
   "cell_type": "code",
   "execution_count": 140,
   "id": "91275994",
   "metadata": {},
   "outputs": [
    {
     "data": {
      "text/plain": [
       "array([0, 1], dtype=int64)"
      ]
     },
     "execution_count": 140,
     "metadata": {},
     "output_type": "execute_result"
    }
   ],
   "source": [
    "final_df['Leg_Room_Service'] = [0 if i <= 3 else 1 for  i in df['Leg Room Service']]\n",
    "final_df['Leg_Room_Service'].unique()"
   ]
  },
  {
   "cell_type": "code",
   "execution_count": 141,
   "id": "797e27a0",
   "metadata": {},
   "outputs": [
    {
     "data": {
      "text/plain": [
       "Index(['Gender', 'Age', 'Customer Type', 'Type of Travel', 'Class',\n",
       "       'Flight Distance', 'Departure Delay', 'Arrival Delay',\n",
       "       'Departure and Arrival Time Convenience', 'Ease of Online Booking',\n",
       "       'Check-in Service', 'Online Boarding', 'Gate Location',\n",
       "       'On-board Service', 'Seat Comfort', 'Leg Room Service', 'Cleanliness',\n",
       "       'Food and Drink', 'In-flight Service', 'In-flight Wifi Service',\n",
       "       'In-flight Entertainment', 'Baggage Handling', 'Satisfaction', 'Male'],\n",
       "      dtype='object')"
      ]
     },
     "execution_count": 141,
     "metadata": {},
     "output_type": "execute_result"
    }
   ],
   "source": [
    "df.columns"
   ]
  },
  {
   "cell_type": "markdown",
   "id": "8e08a87b",
   "metadata": {},
   "source": [
    "## Cleanliness"
   ]
  },
  {
   "cell_type": "code",
   "execution_count": 142,
   "id": "46c3696e",
   "metadata": {},
   "outputs": [
    {
     "data": {
      "image/png": "[encoded data removed]",
      "text/plain": [
       "<Figure size 360x288 with 1 Axes>"
      ]
     },
     "metadata": {
      "needs_background": "light"
     },
     "output_type": "display_data"
    }
   ],
   "source": [
    "bar(df, 'Cleanliness', (5, 4))"
   ]
  },
  {
   "cell_type": "markdown",
   "id": "de920ad4",
   "metadata": {},
   "source": [
    "- Here it is higly correlating with satisfaction \n",
    "- so i will kept it as it is but convert 0-2 category as 1 as they are similar kind of."
   ]
  },
  {
   "cell_type": "code",
   "execution_count": 145,
   "id": "1c9838c7",
   "metadata": {},
   "outputs": [
    {
     "data": {
      "text/plain": [
       "array([3, 2, 1, 0], dtype=int64)"
      ]
     },
     "execution_count": 145,
     "metadata": {},
     "output_type": "execute_result"
    }
   ],
   "source": [
    "final_df['Cleanliness'] = [0 if i <= 2 else 1 if i == 3 else 2 if i == 4 else 3 for i in df['Cleanliness']]\n",
    "final_df['Cleanliness'].unique()"
   ]
  },
  {
   "cell_type": "markdown",
   "id": "7de2ff48",
   "metadata": {},
   "source": [
    "## Food and Drink"
   ]
  },
  {
   "cell_type": "code",
   "execution_count": 146,
   "id": "3ccc1844",
   "metadata": {},
   "outputs": [
    {
     "data": {
      "image/png": "[encoded data removed]",
      "text/plain": [
       "<Figure size 360x288 with 1 Axes>"
      ]
     },
     "metadata": {
      "needs_background": "light"
     },
     "output_type": "display_data"
    }
   ],
   "source": [
    "bar(df, 'Food and Drink', (5, 4))"
   ]
  },
  {
   "cell_type": "markdown",
   "id": "3385a732",
   "metadata": {},
   "source": [
    "- Here category 0 has a lot of variation.\n",
    "- 4 and 5 are averagely satisfied\n",
    "- We can define three category here "
   ]
  },
  {
   "cell_type": "code",
   "execution_count": 149,
   "id": "b95c6fa6",
   "metadata": {},
   "outputs": [
    {
     "data": {
      "text/plain": [
       "array([2, 1, 0], dtype=int64)"
      ]
     },
     "execution_count": 149,
     "metadata": {},
     "output_type": "execute_result"
    }
   ],
   "source": [
    "\"\"\"\n",
    "0 & 1 : 0\n",
    "2 & 3 : 1\n",
    "4 & 5 : 2\n",
    "\"\"\"\n",
    "\n",
    "final_df['Food_and_Drink'] = [0 if i == 0 or i == 1 else 1 if i == 3 or i == 4 else 2 for i in df['Food and Drink']]\n",
    "final_df['Food_and_Drink'].unique()"
   ]
  },
  {
   "cell_type": "markdown",
   "id": "15d5c6f6",
   "metadata": {},
   "source": [
    "## In-flight Service"
   ]
  },
  {
   "cell_type": "code",
   "execution_count": 150,
   "id": "df55d6b5",
   "metadata": {},
   "outputs": [
    {
     "data": {
      "image/png": "[encoded data removed]",
      "text/plain": [
       "<Figure size 576x432 with 1 Axes>"
      ]
     },
     "metadata": {
      "needs_background": "light"
     },
     "output_type": "display_data"
    }
   ],
   "source": [
    "bar(df, 'In-flight Service')"
   ]
  },
  {
   "cell_type": "markdown",
   "id": "b448e3b0",
   "metadata": {},
   "source": [
    "* Here category having 0-3 are mostly not satisfied \n",
    "* Category 4 has equal probablity but category 5 has mostly satisfied\n",
    "* Based on this we can classify this"
   ]
  },
  {
   "cell_type": "code",
   "execution_count": 152,
   "id": "506481ea",
   "metadata": {},
   "outputs": [
    {
     "data": {
      "text/plain": [
       "array([2, 0, 1], dtype=int64)"
      ]
     },
     "execution_count": 152,
     "metadata": {},
     "output_type": "execute_result"
    }
   ],
   "source": [
    "\"\"\"\n",
    "0 - 3 : 0\n",
    "4     : 1\n",
    "5     : 2\n",
    "\"\"\"\n",
    "final_df['In-flight_Service'] = [0 if i <= 3 else 1 if i == 4 else 2 for i in df['In-flight Service']]\n",
    "final_df['In-flight_Service'].unique()"
   ]
  },
  {
   "cell_type": "markdown",
   "id": "e6def759",
   "metadata": {},
   "source": [
    "## In-flight Wifi Service"
   ]
  },
  {
   "cell_type": "code",
   "execution_count": 153,
   "id": "8ac1647a",
   "metadata": {},
   "outputs": [
    {
     "data": {
      "image/png": "[encoded data removed]",
      "text/plain": [
       "<Figure size 360x288 with 1 Axes>"
      ]
     },
     "metadata": {
      "needs_background": "light"
     },
     "output_type": "display_data"
    }
   ],
   "source": [
    "bar(df, 'In-flight Wifi Service')"
   ]
  },
  {
   "cell_type": "markdown",
   "id": "e02103f3",
   "metadata": {},
   "source": [
    "- Rating 0 and 5 are strongly satisfied \n",
    "* Rating 4 are in medium\n",
    "* 1-3 are mostly not satisfied"
   ]
  },
  {
   "cell_type": "code",
   "execution_count": 154,
   "id": "5fe64560",
   "metadata": {},
   "outputs": [],
   "source": [
    "\"\"\"\n",
    "0 & 5 : 0\n",
    "4     : 1 \n",
    "5     : 2\n",
    "\"\"\"\n",
    "\n",
    "final_df['Wifi'] = [0 if i == 0 or i == 5 else 1 if i <= 3 else 2 for i in df['In-flight Wifi Service']]"
   ]
  },
  {
   "cell_type": "code",
   "execution_count": 155,
   "id": "aa7a3b9d",
   "metadata": {},
   "outputs": [
    {
     "data": {
      "text/plain": [
       "array([1, 2, 0], dtype=int64)"
      ]
     },
     "execution_count": 155,
     "metadata": {},
     "output_type": "execute_result"
    }
   ],
   "source": [
    "final_df['Wifi'].unique()"
   ]
  },
  {
   "cell_type": "markdown",
   "id": "5c26fda2",
   "metadata": {},
   "source": [
    "## In-flight Entertainment"
   ]
  },
  {
   "cell_type": "code",
   "execution_count": 160,
   "id": "9aee4f36",
   "metadata": {},
   "outputs": [
    {
     "data": {
      "text/plain": [
       "array([5, 3, 4, 2, 1, 0], dtype=int64)"
      ]
     },
     "execution_count": 160,
     "metadata": {},
     "output_type": "execute_result"
    }
   ],
   "source": [
    "df['In-flight Entertainment'].unique()"
   ]
  },
  {
   "cell_type": "code",
   "execution_count": 161,
   "id": "29f88d77",
   "metadata": {},
   "outputs": [
    {
     "data": {
      "image/png": "[encoded data removed]",
      "text/plain": [
       "<Figure size 360x288 with 1 Axes>"
      ]
     },
     "metadata": {
      "needs_background": "light"
     },
     "output_type": "display_data"
    }
   ],
   "source": [
    "bar(df, 'In-flight Entertainment')"
   ]
  },
  {
   "cell_type": "markdown",
   "id": "74cbe786",
   "metadata": {},
   "source": [
    "- Here 0-3 are less satisfied but 4 and 5 are good satsified\n",
    "- Divide the data into two category from 0-3 and 4&5 "
   ]
  },
  {
   "cell_type": "code",
   "execution_count": 163,
   "id": "5c916d6e",
   "metadata": {},
   "outputs": [
    {
     "data": {
      "text/plain": [
       "array([1, 0], dtype=int64)"
      ]
     },
     "execution_count": 163,
     "metadata": {},
     "output_type": "execute_result"
    }
   ],
   "source": [
    "final_df['Entertainment'] = [0 if i <= 3 else 1 for i in df['In-flight Entertainment']]\n",
    "final_df['Entertainment'].unique()"
   ]
  },
  {
   "cell_type": "markdown",
   "id": "de6ef678",
   "metadata": {},
   "source": [
    "## Baggage Handling"
   ]
  },
  {
   "cell_type": "code",
   "execution_count": 164,
   "id": "e712fa4d",
   "metadata": {},
   "outputs": [
    {
     "data": {
      "text/plain": [
       "array([5, 3, 4, 1, 2], dtype=int64)"
      ]
     },
     "execution_count": 164,
     "metadata": {},
     "output_type": "execute_result"
    }
   ],
   "source": [
    "df['Baggage Handling'].unique()"
   ]
  },
  {
   "cell_type": "code",
   "execution_count": 165,
   "id": "b0a7dac9",
   "metadata": {},
   "outputs": [
    {
     "data": {
      "image/png": "[encoded data removed]",
      "text/plain": [
       "<Figure size 360x288 with 1 Axes>"
      ]
     },
     "metadata": {
      "needs_background": "light"
     },
     "output_type": "display_data"
    }
   ],
   "source": [
    "bar(df, 'Baggage Handling')"
   ]
  },
  {
   "cell_type": "markdown",
   "id": "2cf644b4",
   "metadata": {},
   "source": [
    "- Here it is found the three category\n",
    "- 1-3 are similar kind of graph\n",
    "- 4 and 5 differrent"
   ]
  },
  {
   "cell_type": "code",
   "execution_count": 167,
   "id": "c454f484",
   "metadata": {},
   "outputs": [
    {
     "data": {
      "text/plain": [
       "array([2, 0, 1], dtype=int64)"
      ]
     },
     "execution_count": 167,
     "metadata": {},
     "output_type": "execute_result"
    }
   ],
   "source": [
    "final_df['Baggage_Handling'] = [0 if i <= 3 else 1 if i == 4 else 2 for i in df['Baggage Handling']]\n",
    "final_df['Baggage_Handling'].unique()"
   ]
  },
  {
   "cell_type": "markdown",
   "id": "9f93ba84",
   "metadata": {},
   "source": [
    "### Now finally appending satisfaction columns to final dataframe"
   ]
  },
  {
   "cell_type": "code",
   "execution_count": 168,
   "id": "358281a7",
   "metadata": {},
   "outputs": [],
   "source": [
    "final_df['Satisfaction'] = df['Satisfaction']"
   ]
  },
  {
   "cell_type": "code",
   "execution_count": 169,
   "id": "5ed8c36c",
   "metadata": {},
   "outputs": [
    {
     "data": {
      "text/html": [
       "<div>\n",
       "<style scoped>\n",
       "    .dataframe tbody tr th:only-of-type {\n",
       "        vertical-align: middle;\n",
       "    }\n",
       "\n",
       "    .dataframe tbody tr th {\n",
       "        vertical-align: top;\n",
       "    }\n",
       "\n",
       "    .dataframe thead th {\n",
       "        text-align: right;\n",
       "    }\n",
       "</style>\n",
       "<table border=\"1\" class=\"dataframe\">\n",
       "  <thead>\n",
       "    <tr style=\"text-align: right;\">\n",
       "      <th></th>\n",
       "      <th>Age_Grp</th>\n",
       "      <th>Returning</th>\n",
       "      <th>Class</th>\n",
       "      <th>Flight_Distance</th>\n",
       "      <th>Flight_Delay</th>\n",
       "      <th>Arrival_Delay</th>\n",
       "      <th>Ease</th>\n",
       "      <th>Check-in Service</th>\n",
       "      <th>Online_Boarding</th>\n",
       "      <th>Gate_Location</th>\n",
       "      <th>On-board_Service</th>\n",
       "      <th>Seat_Comfort</th>\n",
       "      <th>Leg_Room_Service</th>\n",
       "      <th>Cleanliness</th>\n",
       "      <th>Food_and_Drink</th>\n",
       "      <th>In-flight_Service</th>\n",
       "      <th>Wifi</th>\n",
       "      <th>Entertainment</th>\n",
       "      <th>Baggage_Handling</th>\n",
       "      <th>Satisfaction</th>\n",
       "    </tr>\n",
       "  </thead>\n",
       "  <tbody>\n",
       "    <tr>\n",
       "      <th>0</th>\n",
       "      <td>2</td>\n",
       "      <td>0</td>\n",
       "      <td>0</td>\n",
       "      <td>0</td>\n",
       "      <td>1</td>\n",
       "      <td>1</td>\n",
       "      <td>1</td>\n",
       "      <td>1</td>\n",
       "      <td>2</td>\n",
       "      <td>1</td>\n",
       "      <td>0</td>\n",
       "      <td>1</td>\n",
       "      <td>0</td>\n",
       "      <td>3</td>\n",
       "      <td>2</td>\n",
       "      <td>2</td>\n",
       "      <td>1</td>\n",
       "      <td>1</td>\n",
       "      <td>2</td>\n",
       "      <td>0</td>\n",
       "    </tr>\n",
       "    <tr>\n",
       "      <th>1</th>\n",
       "      <td>1</td>\n",
       "      <td>1</td>\n",
       "      <td>0</td>\n",
       "      <td>0</td>\n",
       "      <td>1</td>\n",
       "      <td>1</td>\n",
       "      <td>1</td>\n",
       "      <td>1</td>\n",
       "      <td>0</td>\n",
       "      <td>1</td>\n",
       "      <td>1</td>\n",
       "      <td>1</td>\n",
       "      <td>1</td>\n",
       "      <td>3</td>\n",
       "      <td>1</td>\n",
       "      <td>2</td>\n",
       "      <td>1</td>\n",
       "      <td>1</td>\n",
       "      <td>2</td>\n",
       "      <td>1</td>\n",
       "    </tr>\n",
       "    <tr>\n",
       "      <th>2</th>\n",
       "      <td>2</td>\n",
       "      <td>1</td>\n",
       "      <td>0</td>\n",
       "      <td>0</td>\n",
       "      <td>0</td>\n",
       "      <td>0</td>\n",
       "      <td>0</td>\n",
       "      <td>1</td>\n",
       "      <td>0</td>\n",
       "      <td>1</td>\n",
       "      <td>0</td>\n",
       "      <td>1</td>\n",
       "      <td>0</td>\n",
       "      <td>3</td>\n",
       "      <td>2</td>\n",
       "      <td>0</td>\n",
       "      <td>2</td>\n",
       "      <td>0</td>\n",
       "      <td>0</td>\n",
       "      <td>1</td>\n",
       "    </tr>\n",
       "    <tr>\n",
       "      <th>3</th>\n",
       "      <td>2</td>\n",
       "      <td>1</td>\n",
       "      <td>0</td>\n",
       "      <td>1</td>\n",
       "      <td>0</td>\n",
       "      <td>0</td>\n",
       "      <td>1</td>\n",
       "      <td>1</td>\n",
       "      <td>1</td>\n",
       "      <td>1</td>\n",
       "      <td>1</td>\n",
       "      <td>1</td>\n",
       "      <td>1</td>\n",
       "      <td>2</td>\n",
       "      <td>1</td>\n",
       "      <td>2</td>\n",
       "      <td>1</td>\n",
       "      <td>1</td>\n",
       "      <td>2</td>\n",
       "      <td>1</td>\n",
       "    </tr>\n",
       "    <tr>\n",
       "      <th>4</th>\n",
       "      <td>2</td>\n",
       "      <td>1</td>\n",
       "      <td>0</td>\n",
       "      <td>1</td>\n",
       "      <td>0</td>\n",
       "      <td>1</td>\n",
       "      <td>1</td>\n",
       "      <td>1</td>\n",
       "      <td>0</td>\n",
       "      <td>1</td>\n",
       "      <td>0</td>\n",
       "      <td>1</td>\n",
       "      <td>1</td>\n",
       "      <td>3</td>\n",
       "      <td>1</td>\n",
       "      <td>0</td>\n",
       "      <td>1</td>\n",
       "      <td>0</td>\n",
       "      <td>0</td>\n",
       "      <td>1</td>\n",
       "    </tr>\n",
       "  </tbody>\n",
       "</table>\n",
       "</div>"
      ],
      "text/plain": [
       "   Age_Grp  Returning  Class  Flight_Distance  Flight_Delay  Arrival_Delay  \\\n",
       "0        2          0      0                0             1              1   \n",
       "1        1          1      0                0             1              1   \n",
       "2        2          1      0                0             0              0   \n",
       "3        2          1      0                1             0              0   \n",
       "4        2          1      0                1             0              1   \n",
       "\n",
       "   Ease  Check-in Service  Online_Boarding  Gate_Location  On-board_Service  \\\n",
       "0     1                 1                2              1                 0   \n",
       "1     1                 1                0              1                 1   \n",
       "2     0                 1                0              1                 0   \n",
       "3     1                 1                1              1                 1   \n",
       "4     1                 1                0              1                 0   \n",
       "\n",
       "   Seat_Comfort  Leg_Room_Service  Cleanliness  Food_and_Drink  \\\n",
       "0             1                 0            3               2   \n",
       "1             1                 1            3               1   \n",
       "2             1                 0            3               2   \n",
       "3             1                 1            2               1   \n",
       "4             1                 1            3               1   \n",
       "\n",
       "   In-flight_Service  Wifi  Entertainment  Baggage_Handling  Satisfaction  \n",
       "0                  2     1              1                 2             0  \n",
       "1                  2     1              1                 2             1  \n",
       "2                  0     2              0                 0             1  \n",
       "3                  2     1              1                 2             1  \n",
       "4                  0     1              0                 0             1  "
      ]
     },
     "execution_count": 169,
     "metadata": {},
     "output_type": "execute_result"
    }
   ],
   "source": [
    "final_df.head()"
   ]
  },
  {
   "cell_type": "code",
   "execution_count": 170,
   "id": "1ca5bf10",
   "metadata": {},
   "outputs": [
    {
     "data": {
      "text/plain": [
       "(129880, 20)"
      ]
     },
     "execution_count": 170,
     "metadata": {},
     "output_type": "execute_result"
    }
   ],
   "source": [
    "final_df.shape"
   ]
  },
  {
   "cell_type": "code",
   "execution_count": 173,
   "id": "d88cfd5f",
   "metadata": {},
   "outputs": [
    {
     "data": {
      "text/plain": [
       "<AxesSubplot:>"
      ]
     },
     "execution_count": 173,
     "metadata": {},
     "output_type": "execute_result"
    },
    {
     "data": {
      "image/png": "[encoded data removed]",
      "text/plain": [
       "<Figure size 864x576 with 2 Axes>"
      ]
     },
     "metadata": {
      "needs_background": "light"
     },
     "output_type": "display_data"
    }
   ],
   "source": [
    "plt.figure(figsize=(12, 8))\n",
    "sns.heatmap(final_df.corr(), annot = True, fmt='1.2f')"
   ]
  },
  {
   "cell_type": "markdown",
   "id": "b415d5d6",
   "metadata": {},
   "source": [
    "# Model training"
   ]
  },
  {
   "cell_type": "code",
   "execution_count": 174,
   "id": "a3bb4db3",
   "metadata": {},
   "outputs": [],
   "source": [
    "X = final_df.iloc[:, :-1]\n",
    "y = final_df.iloc[:, -1]"
   ]
  },
  {
   "cell_type": "code",
   "execution_count": 177,
   "id": "ad34f341",
   "metadata": {},
   "outputs": [
    {
     "data": {
      "text/html": [
       "<div>\n",
       "<style scoped>\n",
       "    .dataframe tbody tr th:only-of-type {\n",
       "        vertical-align: middle;\n",
       "    }\n",
       "\n",
       "    .dataframe tbody tr th {\n",
       "        vertical-align: top;\n",
       "    }\n",
       "\n",
       "    .dataframe thead th {\n",
       "        text-align: right;\n",
       "    }\n",
       "</style>\n",
       "<table border=\"1\" class=\"dataframe\">\n",
       "  <thead>\n",
       "    <tr style=\"text-align: right;\">\n",
       "      <th></th>\n",
       "      <th>Age_Grp</th>\n",
       "      <th>Returning</th>\n",
       "      <th>Class</th>\n",
       "      <th>Flight_Distance</th>\n",
       "      <th>Flight_Delay</th>\n",
       "      <th>Arrival_Delay</th>\n",
       "      <th>Ease</th>\n",
       "      <th>Check-in Service</th>\n",
       "      <th>Online_Boarding</th>\n",
       "      <th>Gate_Location</th>\n",
       "      <th>On-board_Service</th>\n",
       "      <th>Seat_Comfort</th>\n",
       "      <th>Leg_Room_Service</th>\n",
       "      <th>Cleanliness</th>\n",
       "      <th>Food_and_Drink</th>\n",
       "      <th>In-flight_Service</th>\n",
       "      <th>Wifi</th>\n",
       "      <th>Entertainment</th>\n",
       "      <th>Baggage_Handling</th>\n",
       "    </tr>\n",
       "  </thead>\n",
       "  <tbody>\n",
       "    <tr>\n",
       "      <th>0</th>\n",
       "      <td>2</td>\n",
       "      <td>0</td>\n",
       "      <td>0</td>\n",
       "      <td>0</td>\n",
       "      <td>1</td>\n",
       "      <td>1</td>\n",
       "      <td>1</td>\n",
       "      <td>1</td>\n",
       "      <td>2</td>\n",
       "      <td>1</td>\n",
       "      <td>0</td>\n",
       "      <td>1</td>\n",
       "      <td>0</td>\n",
       "      <td>3</td>\n",
       "      <td>2</td>\n",
       "      <td>2</td>\n",
       "      <td>1</td>\n",
       "      <td>1</td>\n",
       "      <td>2</td>\n",
       "    </tr>\n",
       "    <tr>\n",
       "      <th>1</th>\n",
       "      <td>1</td>\n",
       "      <td>1</td>\n",
       "      <td>0</td>\n",
       "      <td>0</td>\n",
       "      <td>1</td>\n",
       "      <td>1</td>\n",
       "      <td>1</td>\n",
       "      <td>1</td>\n",
       "      <td>0</td>\n",
       "      <td>1</td>\n",
       "      <td>1</td>\n",
       "      <td>1</td>\n",
       "      <td>1</td>\n",
       "      <td>3</td>\n",
       "      <td>1</td>\n",
       "      <td>2</td>\n",
       "      <td>1</td>\n",
       "      <td>1</td>\n",
       "      <td>2</td>\n",
       "    </tr>\n",
       "    <tr>\n",
       "      <th>2</th>\n",
       "      <td>2</td>\n",
       "      <td>1</td>\n",
       "      <td>0</td>\n",
       "      <td>0</td>\n",
       "      <td>0</td>\n",
       "      <td>0</td>\n",
       "      <td>0</td>\n",
       "      <td>1</td>\n",
       "      <td>0</td>\n",
       "      <td>1</td>\n",
       "      <td>0</td>\n",
       "      <td>1</td>\n",
       "      <td>0</td>\n",
       "      <td>3</td>\n",
       "      <td>2</td>\n",
       "      <td>0</td>\n",
       "      <td>2</td>\n",
       "      <td>0</td>\n",
       "      <td>0</td>\n",
       "    </tr>\n",
       "    <tr>\n",
       "      <th>3</th>\n",
       "      <td>2</td>\n",
       "      <td>1</td>\n",
       "      <td>0</td>\n",
       "      <td>1</td>\n",
       "      <td>0</td>\n",
       "      <td>0</td>\n",
       "      <td>1</td>\n",
       "      <td>1</td>\n",
       "      <td>1</td>\n",
       "      <td>1</td>\n",
       "      <td>1</td>\n",
       "      <td>1</td>\n",
       "      <td>1</td>\n",
       "      <td>2</td>\n",
       "      <td>1</td>\n",
       "      <td>2</td>\n",
       "      <td>1</td>\n",
       "      <td>1</td>\n",
       "      <td>2</td>\n",
       "    </tr>\n",
       "    <tr>\n",
       "      <th>4</th>\n",
       "      <td>2</td>\n",
       "      <td>1</td>\n",
       "      <td>0</td>\n",
       "      <td>1</td>\n",
       "      <td>0</td>\n",
       "      <td>1</td>\n",
       "      <td>1</td>\n",
       "      <td>1</td>\n",
       "      <td>0</td>\n",
       "      <td>1</td>\n",
       "      <td>0</td>\n",
       "      <td>1</td>\n",
       "      <td>1</td>\n",
       "      <td>3</td>\n",
       "      <td>1</td>\n",
       "      <td>0</td>\n",
       "      <td>1</td>\n",
       "      <td>0</td>\n",
       "      <td>0</td>\n",
       "    </tr>\n",
       "  </tbody>\n",
       "</table>\n",
       "</div>"
      ],
      "text/plain": [
       "   Age_Grp  Returning  Class  Flight_Distance  Flight_Delay  Arrival_Delay  \\\n",
       "0        2          0      0                0             1              1   \n",
       "1        1          1      0                0             1              1   \n",
       "2        2          1      0                0             0              0   \n",
       "3        2          1      0                1             0              0   \n",
       "4        2          1      0                1             0              1   \n",
       "\n",
       "   Ease  Check-in Service  Online_Boarding  Gate_Location  On-board_Service  \\\n",
       "0     1                 1                2              1                 0   \n",
       "1     1                 1                0              1                 1   \n",
       "2     0                 1                0              1                 0   \n",
       "3     1                 1                1              1                 1   \n",
       "4     1                 1                0              1                 0   \n",
       "\n",
       "   Seat_Comfort  Leg_Room_Service  Cleanliness  Food_and_Drink  \\\n",
       "0             1                 0            3               2   \n",
       "1             1                 1            3               1   \n",
       "2             1                 0            3               2   \n",
       "3             1                 1            2               1   \n",
       "4             1                 1            3               1   \n",
       "\n",
       "   In-flight_Service  Wifi  Entertainment  Baggage_Handling  \n",
       "0                  2     1              1                 2  \n",
       "1                  2     1              1                 2  \n",
       "2                  0     2              0                 0  \n",
       "3                  2     1              1                 2  \n",
       "4                  0     1              0                 0  "
      ]
     },
     "execution_count": 177,
     "metadata": {},
     "output_type": "execute_result"
    }
   ],
   "source": [
    "X.head()"
   ]
  },
  {
   "cell_type": "code",
   "execution_count": 178,
   "id": "415af047",
   "metadata": {},
   "outputs": [],
   "source": [
    "from sklearn.model_selection import train_test_split"
   ]
  },
  {
   "cell_type": "code",
   "execution_count": 179,
   "id": "8cfb1de8",
   "metadata": {},
   "outputs": [],
   "source": [
    "X_train, X_test, y_train, y_test = train_test_split(X, y, test_size=0.3, random_state=42)"
   ]
  },
  {
   "cell_type": "code",
   "execution_count": 196,
   "id": "cbd21bdc",
   "metadata": {},
   "outputs": [],
   "source": [
    "from sklearn.ensemble import RandomForestClassifier\n",
    "from sklearn.metrics import accuracy_score, confusion_matrix, classification_report\n",
    "from sklearn.model_selection import GridSearchCV"
   ]
  },
  {
   "cell_type": "code",
   "execution_count": 200,
   "id": "94ac5e3f",
   "metadata": {
    "scrolled": true
   },
   "outputs": [
    {
     "data": {
      "text/plain": [
       "dict_keys(['bootstrap', 'ccp_alpha', 'class_weight', 'criterion', 'max_depth', 'max_features', 'max_leaf_nodes', 'max_samples', 'min_impurity_decrease', 'min_samples_leaf', 'min_samples_split', 'min_weight_fraction_leaf', 'n_estimators', 'n_jobs', 'oob_score', 'random_state', 'verbose', 'warm_start'])"
      ]
     },
     "execution_count": 200,
     "metadata": {},
     "output_type": "execute_result"
    }
   ],
   "source": [
    "# Getting the parameter list\n",
    "RandomForestClassifier().get_params().keys()"
   ]
  },
  {
   "cell_type": "code",
   "execution_count": 201,
   "id": "91309267",
   "metadata": {},
   "outputs": [],
   "source": [
    "params = [{'n_estimators':[50, 70, 80, 90, 100, 120, 130, 200]}, {'max_depth': [5, 8, 10, 13, 15, 20, 30, 40, 50]}]"
   ]
  },
  {
   "cell_type": "code",
   "execution_count": 204,
   "id": "a771b38b",
   "metadata": {},
   "outputs": [],
   "source": [
    "model = GridSearchCV(RandomForestClassifier(), param_grid=params, verbose=2)"
   ]
  },
  {
   "cell_type": "code",
   "execution_count": 205,
   "id": "359fc906",
   "metadata": {},
   "outputs": [
    {
     "name": "stdout",
     "output_type": "stream",
     "text": [
      "Fitting 5 folds for each of 17 candidates, totalling 85 fits\n",
      "[CV] END ....................................n_estimators=50; total time=  14.9s\n",
      "[CV] END ....................................n_estimators=50; total time=  18.4s\n",
      "[CV] END ....................................n_estimators=50; total time= 1.0min\n",
      "[CV] END ....................................n_estimators=50; total time=  59.1s\n",
      "[CV] END ....................................n_estimators=50; total time=  51.9s\n",
      "[CV] END ....................................n_estimators=70; total time= 1.4min\n",
      "[CV] END ....................................n_estimators=70; total time=  47.9s\n",
      "[CV] END ....................................n_estimators=70; total time=  23.0s\n",
      "[CV] END ....................................n_estimators=70; total time=  18.2s\n",
      "[CV] END ....................................n_estimators=70; total time=  21.6s\n",
      "[CV] END ....................................n_estimators=80; total time=  34.3s\n",
      "[CV] END ....................................n_estimators=80; total time=  24.6s\n",
      "[CV] END ....................................n_estimators=80; total time=  20.0s\n",
      "[CV] END ....................................n_estimators=80; total time=  25.6s\n",
      "[CV] END ....................................n_estimators=80; total time=  21.2s\n",
      "[CV] END ....................................n_estimators=90; total time=  22.3s\n",
      "[CV] END ....................................n_estimators=90; total time= 1.5min\n",
      "[CV] END ....................................n_estimators=90; total time= 2.0min\n",
      "[CV] END ....................................n_estimators=90; total time= 1.8min\n",
      "[CV] END ....................................n_estimators=90; total time= 1.6min\n",
      "[CV] END ...................................n_estimators=100; total time=  33.4s\n",
      "[CV] END ...................................n_estimators=100; total time=  23.8s\n",
      "[CV] END ...................................n_estimators=100; total time=  24.3s\n",
      "[CV] END ...................................n_estimators=100; total time=  29.8s\n",
      "[CV] END ...................................n_estimators=100; total time=  32.6s\n",
      "[CV] END ...................................n_estimators=120; total time=  29.1s\n",
      "[CV] END ...................................n_estimators=120; total time=  28.3s\n",
      "[CV] END ...................................n_estimators=120; total time=  28.5s\n",
      "[CV] END ...................................n_estimators=120; total time=  28.4s\n",
      "[CV] END ...................................n_estimators=120; total time=  33.3s\n",
      "[CV] END ...................................n_estimators=130; total time=  36.5s\n",
      "[CV] END ...................................n_estimators=130; total time=  31.0s\n",
      "[CV] END ...................................n_estimators=130; total time=  33.3s\n",
      "[CV] END ...................................n_estimators=130; total time=  30.3s\n",
      "[CV] END ...................................n_estimators=130; total time=  31.2s\n",
      "[CV] END ...................................n_estimators=200; total time=  47.9s\n",
      "[CV] END ...................................n_estimators=200; total time=  48.2s\n",
      "[CV] END ...................................n_estimators=200; total time=  48.3s\n",
      "[CV] END ...................................n_estimators=200; total time=  47.3s\n",
      "[CV] END ...................................n_estimators=200; total time=  47.7s\n",
      "[CV] END ........................................max_depth=5; total time=  10.5s\n",
      "[CV] END ........................................max_depth=5; total time=  10.8s\n",
      "[CV] END ........................................max_depth=5; total time=  10.6s\n",
      "[CV] END ........................................max_depth=5; total time=  12.5s\n",
      "[CV] END ........................................max_depth=5; total time=  11.4s\n",
      "[CV] END ........................................max_depth=8; total time=  15.4s\n",
      "[CV] END ........................................max_depth=8; total time=  15.1s\n",
      "[CV] END ........................................max_depth=8; total time=  15.1s\n",
      "[CV] END ........................................max_depth=8; total time=  14.9s\n",
      "[CV] END ........................................max_depth=8; total time=  15.1s\n",
      "[CV] END .......................................max_depth=10; total time=  17.4s\n",
      "[CV] END .......................................max_depth=10; total time=  18.1s\n",
      "[CV] END .......................................max_depth=10; total time=  17.9s\n",
      "[CV] END .......................................max_depth=10; total time=  17.5s\n",
      "[CV] END .......................................max_depth=10; total time=  18.2s\n",
      "[CV] END .......................................max_depth=13; total time=  20.3s\n",
      "[CV] END .......................................max_depth=13; total time=  20.5s\n",
      "[CV] END .......................................max_depth=13; total time=  20.7s\n",
      "[CV] END .......................................max_depth=13; total time=  20.1s\n",
      "[CV] END .......................................max_depth=13; total time=  20.0s\n",
      "[CV] END .......................................max_depth=15; total time=  21.7s\n",
      "[CV] END .......................................max_depth=15; total time=  25.1s\n",
      "[CV] END .......................................max_depth=15; total time=  22.0s\n",
      "[CV] END .......................................max_depth=15; total time=  21.8s\n",
      "[CV] END .......................................max_depth=15; total time=  21.9s\n",
      "[CV] END .......................................max_depth=20; total time=  24.4s\n",
      "[CV] END .......................................max_depth=20; total time=  24.8s\n",
      "[CV] END .......................................max_depth=20; total time=  25.1s\n",
      "[CV] END .......................................max_depth=20; total time=  23.4s\n",
      "[CV] END .......................................max_depth=20; total time=  23.4s\n",
      "[CV] END .......................................max_depth=30; total time=  26.7s\n",
      "[CV] END .......................................max_depth=30; total time=  24.1s\n",
      "[CV] END .......................................max_depth=30; total time=  24.1s\n",
      "[CV] END .......................................max_depth=30; total time=  23.9s\n",
      "[CV] END .......................................max_depth=30; total time=  23.6s\n",
      "[CV] END .......................................max_depth=40; total time=  23.8s\n",
      "[CV] END .......................................max_depth=40; total time=  24.2s\n",
      "[CV] END .......................................max_depth=40; total time=  26.7s\n",
      "[CV] END .......................................max_depth=40; total time=  23.6s\n",
      "[CV] END .......................................max_depth=40; total time=  23.6s\n",
      "[CV] END .......................................max_depth=50; total time=  24.1s\n",
      "[CV] END .......................................max_depth=50; total time=  23.8s\n",
      "[CV] END .......................................max_depth=50; total time=  24.2s\n",
      "[CV] END .......................................max_depth=50; total time=  24.1s\n",
      "[CV] END .......................................max_depth=50; total time=  23.5s\n"
     ]
    },
    {
     "data": {
      "text/plain": [
       "GridSearchCV(estimator=RandomForestClassifier(),\n",
       "             param_grid=[{'n_estimators': [50, 70, 80, 90, 100, 120, 130, 200]},\n",
       "                         {'max_depth': [5, 8, 10, 13, 15, 20, 30, 40, 50]}],\n",
       "             verbose=2)"
      ]
     },
     "execution_count": 205,
     "metadata": {},
     "output_type": "execute_result"
    }
   ],
   "source": [
    "model.fit(X_train, y_train)"
   ]
  },
  {
   "cell_type": "code",
   "execution_count": 211,
   "id": "bad2f548",
   "metadata": {},
   "outputs": [
    {
     "data": {
      "text/plain": [
       "{'max_depth': 15}"
      ]
     },
     "execution_count": 211,
     "metadata": {},
     "output_type": "execute_result"
    }
   ],
   "source": [
    "model.best_params_"
   ]
  },
  {
   "cell_type": "code",
   "execution_count": null,
   "id": "d1809c9c",
   "metadata": {},
   "outputs": [],
   "source": []
  },
  {
   "cell_type": "code",
   "execution_count": 206,
   "id": "d7490114",
   "metadata": {},
   "outputs": [
    {
     "data": {
      "text/plain": [
       "0.9623938580667869"
      ]
     },
     "execution_count": 206,
     "metadata": {},
     "output_type": "execute_result"
    }
   ],
   "source": [
    "accuracy_score(y_train, model.predict(X_train))"
   ]
  },
  {
   "cell_type": "code",
   "execution_count": 207,
   "id": "9f81a1e6",
   "metadata": {},
   "outputs": [
    {
     "data": {
      "text/plain": [
       "0.941895082640386"
      ]
     },
     "execution_count": 207,
     "metadata": {},
     "output_type": "execute_result"
    }
   ],
   "source": [
    "accuracy_score(y_test, model.predict(X_test))"
   ]
  },
  {
   "cell_type": "code",
   "execution_count": 212,
   "id": "0106c07d",
   "metadata": {},
   "outputs": [
    {
     "data": {
      "text/plain": [
       "array([[21200,   910],\n",
       "       [ 1354, 15500]], dtype=int64)"
      ]
     },
     "execution_count": 212,
     "metadata": {},
     "output_type": "execute_result"
    }
   ],
   "source": [
    "confusion_matrix(y_test, model.predict(X_test))"
   ]
  },
  {
   "cell_type": "code",
   "execution_count": 222,
   "id": "c3f468cf",
   "metadata": {},
   "outputs": [
    {
     "name": "stdout",
     "output_type": "stream",
     "text": [
      "              precision    recall  f1-score   support\n",
      "\n",
      "           0       0.94      0.96      0.95     22110\n",
      "           1       0.94      0.92      0.93     16854\n",
      "\n",
      "    accuracy                           0.94     38964\n",
      "   macro avg       0.94      0.94      0.94     38964\n",
      "weighted avg       0.94      0.94      0.94     38964\n",
      "\n"
     ]
    }
   ],
   "source": [
    "print(classification_report(y_test, model.predict(X_test)))"
   ]
  },
  {
   "cell_type": "code",
   "execution_count": null,
   "id": "5e29e95a",
   "metadata": {},
   "outputs": [],
   "source": []
  }
 ],
 "metadata": {
  "kernelspec": {
   "display_name": "Python 3 (ipykernel)",
   "language": "python",
   "name": "python3"
  },
  "language_info": {
   "codemirror_mode": {
    "name": "ipython",
    "version": 3
   },
   "file_extension": ".py",
   "mimetype": "text/x-python",
   "name": "python",
   "nbconvert_exporter": "python",
   "pygments_lexer": "ipython3",
   "version": "3.10.3"
  }
 },
 "nbformat": 4,
 "nbformat_minor": 5
}
