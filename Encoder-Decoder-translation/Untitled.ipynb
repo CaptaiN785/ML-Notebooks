{
 "cells": [
  {
   "cell_type": "markdown",
   "id": "29853154",
   "metadata": {},
   "source": [
    "link: https://blog.keras.io/a-ten-minute-introduction-to-sequence-to-sequence-learning-in-keras.html"
   ]
  },
  {
   "cell_type": "code",
   "execution_count": 1,
   "id": "8be38701",
   "metadata": {},
   "outputs": [],
   "source": [
    "import pandas as pd\n",
    "import numpy as np"
   ]
  },
  {
   "cell_type": "code",
   "execution_count": 2,
   "id": "f5099e14",
   "metadata": {},
   "outputs": [],
   "source": [
    "df = pd.read_csv('fra.txt', delimiter = '\\t', names=['english', 'french', 'attribute'])"
   ]
  },
  {
   "cell_type": "code",
   "execution_count": 3,
   "id": "1e837675",
   "metadata": {},
   "outputs": [
    {
     "data": {
      "text/html": [
       "<div>\n",
       "<style scoped>\n",
       "    .dataframe tbody tr th:only-of-type {\n",
       "        vertical-align: middle;\n",
       "    }\n",
       "\n",
       "    .dataframe tbody tr th {\n",
       "        vertical-align: top;\n",
       "    }\n",
       "\n",
       "    .dataframe thead th {\n",
       "        text-align: right;\n",
       "    }\n",
       "</style>\n",
       "<table border=\"1\" class=\"dataframe\">\n",
       "  <thead>\n",
       "    <tr style=\"text-align: right;\">\n",
       "      <th></th>\n",
       "      <th>english</th>\n",
       "      <th>french</th>\n",
       "      <th>attribute</th>\n",
       "    </tr>\n",
       "  </thead>\n",
       "  <tbody>\n",
       "    <tr>\n",
       "      <th>0</th>\n",
       "      <td>Go.</td>\n",
       "      <td>Va !</td>\n",
       "      <td>CC-BY 2.0 (France) Attribution: tatoeba.org #2...</td>\n",
       "    </tr>\n",
       "    <tr>\n",
       "      <th>1</th>\n",
       "      <td>Go.</td>\n",
       "      <td>Marche.</td>\n",
       "      <td>CC-BY 2.0 (France) Attribution: tatoeba.org #2...</td>\n",
       "    </tr>\n",
       "    <tr>\n",
       "      <th>2</th>\n",
       "      <td>Go.</td>\n",
       "      <td>Bouge !</td>\n",
       "      <td>CC-BY 2.0 (France) Attribution: tatoeba.org #2...</td>\n",
       "    </tr>\n",
       "    <tr>\n",
       "      <th>3</th>\n",
       "      <td>Hi.</td>\n",
       "      <td>Salut !</td>\n",
       "      <td>CC-BY 2.0 (France) Attribution: tatoeba.org #5...</td>\n",
       "    </tr>\n",
       "    <tr>\n",
       "      <th>4</th>\n",
       "      <td>Hi.</td>\n",
       "      <td>Salut.</td>\n",
       "      <td>CC-BY 2.0 (France) Attribution: tatoeba.org #5...</td>\n",
       "    </tr>\n",
       "  </tbody>\n",
       "</table>\n",
       "</div>"
      ],
      "text/plain": [
       "  english   french                                          attribute\n",
       "0     Go.     Va !  CC-BY 2.0 (France) Attribution: tatoeba.org #2...\n",
       "1     Go.  Marche.  CC-BY 2.0 (France) Attribution: tatoeba.org #2...\n",
       "2     Go.  Bouge !  CC-BY 2.0 (France) Attribution: tatoeba.org #2...\n",
       "3     Hi.  Salut !  CC-BY 2.0 (France) Attribution: tatoeba.org #5...\n",
       "4     Hi.   Salut.  CC-BY 2.0 (France) Attribution: tatoeba.org #5..."
      ]
     },
     "execution_count": 3,
     "metadata": {},
     "output_type": "execute_result"
    }
   ],
   "source": [
    "df.head()"
   ]
  },
  {
   "cell_type": "code",
   "execution_count": 4,
   "id": "04bd048c",
   "metadata": {},
   "outputs": [],
   "source": [
    "df.drop(df.columns[-1], axis = 1, inplace = True)"
   ]
  },
  {
   "cell_type": "code",
   "execution_count": 5,
   "id": "fd5c1bcb",
   "metadata": {},
   "outputs": [
    {
     "data": {
      "text/html": [
       "<div>\n",
       "<style scoped>\n",
       "    .dataframe tbody tr th:only-of-type {\n",
       "        vertical-align: middle;\n",
       "    }\n",
       "\n",
       "    .dataframe tbody tr th {\n",
       "        vertical-align: top;\n",
       "    }\n",
       "\n",
       "    .dataframe thead th {\n",
       "        text-align: right;\n",
       "    }\n",
       "</style>\n",
       "<table border=\"1\" class=\"dataframe\">\n",
       "  <thead>\n",
       "    <tr style=\"text-align: right;\">\n",
       "      <th></th>\n",
       "      <th>english</th>\n",
       "      <th>french</th>\n",
       "    </tr>\n",
       "  </thead>\n",
       "  <tbody>\n",
       "    <tr>\n",
       "      <th>0</th>\n",
       "      <td>Go.</td>\n",
       "      <td>Va !</td>\n",
       "    </tr>\n",
       "    <tr>\n",
       "      <th>1</th>\n",
       "      <td>Go.</td>\n",
       "      <td>Marche.</td>\n",
       "    </tr>\n",
       "    <tr>\n",
       "      <th>2</th>\n",
       "      <td>Go.</td>\n",
       "      <td>Bouge !</td>\n",
       "    </tr>\n",
       "    <tr>\n",
       "      <th>3</th>\n",
       "      <td>Hi.</td>\n",
       "      <td>Salut !</td>\n",
       "    </tr>\n",
       "    <tr>\n",
       "      <th>4</th>\n",
       "      <td>Hi.</td>\n",
       "      <td>Salut.</td>\n",
       "    </tr>\n",
       "  </tbody>\n",
       "</table>\n",
       "</div>"
      ],
      "text/plain": [
       "  english   french\n",
       "0     Go.     Va !\n",
       "1     Go.  Marche.\n",
       "2     Go.  Bouge !\n",
       "3     Hi.  Salut !\n",
       "4     Hi.   Salut."
      ]
     },
     "execution_count": 5,
     "metadata": {},
     "output_type": "execute_result"
    }
   ],
   "source": [
    "df.head()"
   ]
  },
  {
   "cell_type": "code",
   "execution_count": 6,
   "id": "76de6771",
   "metadata": {},
   "outputs": [],
   "source": [
    "input_text = df['english'].iloc[:10000].values"
   ]
  },
  {
   "cell_type": "code",
   "execution_count": 7,
   "id": "ad643d04",
   "metadata": {},
   "outputs": [],
   "source": [
    "df['french'] = df['french'].apply(lambda x : '\\t'+x+'\\n')"
   ]
  },
  {
   "cell_type": "code",
   "execution_count": 8,
   "id": "c4e516fd",
   "metadata": {},
   "outputs": [],
   "source": [
    "output_text = df['french'].iloc[:10000].values"
   ]
  },
  {
   "cell_type": "code",
   "execution_count": 9,
   "id": "09614985",
   "metadata": {
    "scrolled": true
   },
   "outputs": [
    {
     "data": {
      "text/plain": [
       "10000"
      ]
     },
     "execution_count": 9,
     "metadata": {},
     "output_type": "execute_result"
    }
   ],
   "source": [
    "len(input_text)"
   ]
  },
  {
   "cell_type": "code",
   "execution_count": 10,
   "id": "0aef63fa",
   "metadata": {},
   "outputs": [],
   "source": [
    "input_characters = set()\n",
    "output_characters= set()\n",
    "\n",
    "for text in input_text:\n",
    "    for char in text:\n",
    "        input_characters.add(char)\n",
    "\n",
    "for text in output_text:\n",
    "    for char in text:\n",
    "        output_characters.add(char)"
   ]
  },
  {
   "cell_type": "code",
   "execution_count": 11,
   "id": "ea3378eb",
   "metadata": {},
   "outputs": [
    {
     "data": {
      "text/plain": [
       "(71, 93)"
      ]
     },
     "execution_count": 11,
     "metadata": {},
     "output_type": "execute_result"
    }
   ],
   "source": [
    "len(input_characters), len(output_characters)"
   ]
  },
  {
   "cell_type": "code",
   "execution_count": 12,
   "id": "b5528b3a",
   "metadata": {},
   "outputs": [],
   "source": [
    "num_encoder_length = len(input_characters)\n",
    "num_decoder_length = len(output_characters)\n",
    "\n",
    "max_encoder_seq_length = max([len(text) for text in input_text])\n",
    "max_decoder_seq_length = max([len(text) for text in output_text])"
   ]
  },
  {
   "cell_type": "code",
   "execution_count": 13,
   "id": "c4d16cbf",
   "metadata": {
    "scrolled": true
   },
   "outputs": [
    {
     "name": "stdout",
     "output_type": "stream",
     "text": [
      "71 93 15 59\n"
     ]
    }
   ],
   "source": [
    "print(num_encoder_length, num_decoder_length, max_encoder_seq_length, max_decoder_seq_length)"
   ]
  },
  {
   "cell_type": "code",
   "execution_count": 14,
   "id": "ee4526e7",
   "metadata": {},
   "outputs": [],
   "source": [
    "## Tokenizing the characters\n",
    "input_token_index = dict([(char, i) for i, char in enumerate(sorted(input_characters))])\n",
    "output_token_index = dict([(char, i) for i , char in enumerate(sorted(output_characters))])"
   ]
  },
  {
   "cell_type": "code",
   "execution_count": 15,
   "id": "17f0bf53",
   "metadata": {},
   "outputs": [],
   "source": [
    "# input_token_index, output_token_index"
   ]
  },
  {
   "cell_type": "code",
   "execution_count": 16,
   "id": "0387c763",
   "metadata": {},
   "outputs": [],
   "source": [
    "## encoder input data to be passed in the encoder\n",
    "encoder_input_data = np.zeros((len(input_text), max_encoder_seq_length, num_encoder_length), dtype='float32')"
   ]
  },
  {
   "cell_type": "code",
   "execution_count": 17,
   "id": "eec7e6db",
   "metadata": {},
   "outputs": [],
   "source": [
    "# Decoder input data that is passed in decoder as context vector\n",
    "decoder_input_data = np.zeros((len(input_text), max_decoder_seq_length, num_decoder_length), dtype\n",
    "                              ='float32')"
   ]
  },
  {
   "cell_type": "code",
   "execution_count": 18,
   "id": "ed5ee902",
   "metadata": {},
   "outputs": [],
   "source": [
    "## decoder output data\n",
    "decoder_output_data = np.zeros((len(output_text), max_decoder_seq_length, num_decoder_length), dtype ='float32')"
   ]
  },
  {
   "cell_type": "code",
   "execution_count": 19,
   "id": "b34c2e84",
   "metadata": {},
   "outputs": [],
   "source": [
    "## Creating vectors of data"
   ]
  },
  {
   "cell_type": "code",
   "execution_count": 20,
   "id": "03c6fe1a",
   "metadata": {},
   "outputs": [],
   "source": [
    "for i, (input_data, output_data) in enumerate(zip(input_text, output_text)):\n",
    "    ## For encoder input data\n",
    "    for t, char in enumerate(input_data):\n",
    "        encoder_input_data[i, t, input_token_index[char]] = 1\n",
    "    encoder_input_data[i, t+1:, input_token_index[' ']] = 1\n",
    "    \n",
    "    ## For decoder input data and decoder output_data\n",
    "    for i, char in enumerate(output_data):\n",
    "        decoder_input_data[i, t, output_token_index[char]] = 1\n",
    "        # decoder output is ahead of decoder input by  one timestamp\n",
    "        if t > 0:\n",
    "            # decoder target will be ahead by one timestamp\n",
    "            # and will not include the satrt character\n",
    "            decoder_output_data[i, t-1, output_token_index[char]] = 1\n",
    "    decoder_input_data[i, t+1:, output_token_index[' ']] = 1\n",
    "    decoder_output_data[i, t:, output_token_index[' ']] = 1  \n",
    "    "
   ]
  },
  {
   "cell_type": "code",
   "execution_count": 21,
   "id": "8941037a",
   "metadata": {},
   "outputs": [
    {
     "data": {
      "text/plain": [
       "((10000, 15, 71), (10000, 59, 93), (10000, 59, 93))"
      ]
     },
     "execution_count": 21,
     "metadata": {},
     "output_type": "execute_result"
    }
   ],
   "source": [
    "encoder_input_data.shape, decoder_input_data.shape, decoder_output_data.shape"
   ]
  },
  {
   "cell_type": "code",
   "execution_count": 22,
   "id": "e9dd7673",
   "metadata": {},
   "outputs": [],
   "source": [
    "## Now creating the encoder and decoder sequence\n",
    "from tensorflow.keras.models import Model\n",
    "from tensorflow.keras.layers import Input, LSTM, Dense\n",
    "\n",
    "\n",
    "batch_size = 64 \n",
    "epochs = 100\n",
    "latent_dim = 256 # Letent dimensionality of the encoding space\n",
    "num_samples = len(input_text)"
   ]
  },
  {
   "cell_type": "code",
   "execution_count": 23,
   "id": "86bc5858",
   "metadata": {},
   "outputs": [],
   "source": [
    "# Building the encoder\n",
    "encoder_input = Input(shape=(None, num_encoder_length))\n",
    "encoder = LSTM(latent_dim, return_state=True)\n",
    "encoder_output , state_h,state_c = encoder(encoder_input)\n",
    "encoder_state = [state_h, state_c]"
   ]
  },
  {
   "cell_type": "code",
   "execution_count": 24,
   "id": "2101320d",
   "metadata": {},
   "outputs": [],
   "source": [
    "## Building the decoder\n",
    "decoder_input = Input(shape=(None, num_decoder_length))\n",
    "# setup our decoder to give full output sequence\n",
    "# and to return internal state as well. we don't use the return state\n",
    "# in the training model but we will use them interface\n",
    "\n",
    "decoder_lstm = LSTM(latent_dim, return_sequences=True, return_state = True)\n",
    "decoder_output, _, _ = decoder_lstm(decoder_input, initial_state=encoder_state)\n",
    "decoder_dense = Dense(num_decoder_length, activation='softmax')\n",
    "decoder_output = decoder_dense(decoder_output)"
   ]
  },
  {
   "cell_type": "code",
   "execution_count": null,
   "id": "5151f1f5",
   "metadata": {},
   "outputs": [
    {
     "name": "stdout",
     "output_type": "stream",
     "text": [
      "Epoch 1/100\n",
      "125/125 [==============================] - 201s 2s/step - loss: 0.0860 - accuracy: 0.0039 - val_loss: 0.0000e+00 - val_accuracy: 0.0000e+00\n",
      "Epoch 2/100\n",
      "125/125 [==============================] - 190s 2s/step - loss: 0.0871 - accuracy: 0.0030 - val_loss: 0.0000e+00 - val_accuracy: 0.0000e+00\n",
      "Epoch 3/100\n",
      "125/125 [==============================] - 185s 1s/step - loss: 0.0870 - accuracy: 0.0037 - val_loss: 0.0000e+00 - val_accuracy: 0.0000e+00\n",
      "Epoch 4/100\n",
      "125/125 [==============================] - 183s 1s/step - loss: 0.0873 - accuracy: 0.0037 - val_loss: 0.0000e+00 - val_accuracy: 0.0000e+00\n",
      "Epoch 5/100\n",
      "125/125 [==============================] - 185s 1s/step - loss: 0.0876 - accuracy: 0.0038 - val_loss: 0.0000e+00 - val_accuracy: 0.0000e+00\n",
      "Epoch 6/100\n",
      "125/125 [==============================] - 185s 1s/step - loss: 0.0888 - accuracy: 0.0033 - val_loss: 0.0000e+00 - val_accuracy: 0.0000e+00\n",
      "Epoch 7/100\n",
      "125/125 [==============================] - 6130s 49s/step - loss: 0.0877 - accuracy: 0.0037 - val_loss: 0.0000e+00 - val_accuracy: 0.0000e+00\n",
      "Epoch 8/100\n",
      "125/125 [==============================] - 152s 1s/step - loss: 0.0876 - accuracy: 0.0038 - val_loss: 0.0000e+00 - val_accuracy: 0.0000e+00\n",
      "Epoch 9/100\n",
      "125/125 [==============================] - 166s 1s/step - loss: 0.0873 - accuracy: 0.0038 - val_loss: 0.0000e+00 - val_accuracy: 0.0000e+00\n",
      "Epoch 10/100\n",
      "125/125 [==============================] - 178s 1s/step - loss: 0.0874 - accuracy: 0.0038 - val_loss: 0.0000e+00 - val_accuracy: 0.0000e+00\n",
      "Epoch 11/100\n",
      "125/125 [==============================] - 6792s 55s/step - loss: 0.0880 - accuracy: 0.0036 - val_loss: 0.0000e+00 - val_accuracy: 0.0000e+00\n",
      "Epoch 12/100\n",
      " 18/125 [===>..........................] - ETA: 2:08 - loss: 0.1486 - accuracy: 0.0048"
     ]
    }
   ],
   "source": [
    "model = Model([encoder_input, decoder_input], decoder_output)\n",
    "\n",
    "model.compile(optimizer='rmsprop', loss = 'categorical_crossentropy', metrics=['accuracy'])\n",
    "\n",
    "model.fit([encoder_input_data, decoder_input_data], decoder_output_data, \n",
    "        batch_size=batch_size,\n",
    "        epochs=epochs, \n",
    "        validation_split=0.2\n",
    "        )"
   ]
  },
  {
   "cell_type": "code",
   "execution_count": null,
   "id": "11a4cacb",
   "metadata": {},
   "outputs": [],
   "source": []
  },
  {
   "cell_type": "code",
   "execution_count": null,
   "id": "f39de392",
   "metadata": {},
   "outputs": [],
   "source": []
  }
 ],
 "metadata": {
  "kernelspec": {
   "display_name": "Python 3 (ipykernel)",
   "language": "python",
   "name": "python3"
  },
  "language_info": {
   "codemirror_mode": {
    "name": "ipython",
    "version": 3
   },
   "file_extension": ".py",
   "mimetype": "text/x-python",
   "name": "python",
   "nbconvert_exporter": "python",
   "pygments_lexer": "ipython3",
   "version": "3.10.3"
  }
 },
 "nbformat": 4,
 "nbformat_minor": 5
}
